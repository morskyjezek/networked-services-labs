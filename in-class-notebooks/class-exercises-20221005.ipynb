{
 "cells": [
  {
   "cell_type": "markdown",
   "metadata": {},
   "source": [
    "# Setup"
   ]
  },
  {
   "cell_type": "code",
   "execution_count": 1,
   "metadata": {},
   "outputs": [],
   "source": [
    "import os\n",
    "from datetime import datetime\n",
    "import hashlib\n",
    "import csv"
   ]
  },
  {
   "cell_type": "markdown",
   "metadata": {},
   "source": [
    "Next, set up information for where to find the files (directory path)"
   ]
  },
  {
   "cell_type": "code",
   "execution_count": 2,
   "metadata": {},
   "outputs": [
    {
     "name": "stdout",
     "output_type": "stream",
     "text": [
      "data/webfiles-samples\n"
     ]
    }
   ],
   "source": [
    "walk_this_directory = os.path.join('data','webfiles-samples')\n",
    "\n",
    "print(walk_this_directory)"
   ]
  },
  {
   "cell_type": "markdown",
   "metadata": {},
   "source": [
    "Next, set up gathering the file information for one file, mostly like we did last week... Note here is a dictionary, however: "
   ]
  },
  {
   "cell_type": "code",
   "execution_count": 4,
   "metadata": {},
   "outputs": [
    {
     "name": "stdout",
     "output_type": "stream",
     "text": [
      "{'filename': '11-3250JohnsonvFolinoEtAl.wma', 'extension': '.wma', 'size': 21423499, 'absolute_path': '/Users/jajohnst/Desktop/networked-services-labs-2022/data/webfiles-samples/audio/11-3250JohnsonvFolinoEtAl.wma'}\n",
      "{'filename': 'NEWSLINE_802AF71F439D401585C6FCB02F358307.mp3', 'extension': '.mp3', 'size': 961195, 'absolute_path': '/Users/jajohnst/Desktop/networked-services-labs-2022/data/webfiles-samples/audio/NEWSLINE_802AF71F439D401585C6FCB02F358307.mp3'}\n",
      "{'filename': 'mj_telework_exchange_final_100710.mp3', 'extension': '.mp3', 'size': 3471488, 'absolute_path': '/Users/jajohnst/Desktop/networked-services-labs-2022/data/webfiles-samples/audio/mj_telework_exchange_final_100710.mp3'}\n",
      "{'filename': '000727.ram', 'extension': '.ram', 'size': 79, 'absolute_path': '/Users/jajohnst/Desktop/networked-services-labs-2022/data/webfiles-samples/audio/000727.ram'}\n"
     ]
    }
   ],
   "source": [
    "path_to_audio_dir = os.path.join('data','webfiles-samples', 'audio')\n",
    "\n",
    "with os.scandir(path_to_audio_dir) as file_list:\n",
    "    for file in file_list:\n",
    "        file_info = {\n",
    "            'filename' : os.path.basename(file),\n",
    "            'extension' : os.path.splitext(file)[1],\n",
    "            'size' : os.path.getsize(file), \n",
    "            #'modify_datetime' : datetime.strftime(datetime.fromtimestamp(os.path.getmtime(file)), \"%Y-%m-%dT%H:%M:%S\"),\n",
    "            'absolute_path' : os.path.abspath(file)\n",
    "        }\n",
    "        print(file_info)\n"
   ]
  },
  {
   "cell_type": "markdown",
   "metadata": {},
   "source": [
    "This can similar be accomplished using `os.walk()`: "
   ]
  },
  {
   "cell_type": "code",
   "execution_count": null,
   "metadata": {},
   "outputs": [],
   "source": [
    "walk_this_directory = os.path.join('data','webfiles-samples')\n",
    "\n",
    "file_count = 0\n",
    "\n",
    "# get information about each of the files\n",
    "for folderName, subfolders, filenames in os.walk(walk_this_directory):\n",
    "    \n",
    "    for filename in filenames:\n",
    "        file_count += 1\n",
    "        filename = filename \n",
    "        folder = folderName\n",
    "        path = os.path.join(folderName, filename)\n",
    "        absolutePath = os.path.abspath(filename)\n",
    "        size = os.path.getsize(path)\n",
    "        # uncomment to print file information, or check that things look correct\n",
    "        #print('Found:', filename, folder, path, size,'\\n',absolutePath)\n",
    "print(f'Counted {file_count} files')\n",
    "    ## Note that this does not record hidden items like . and .."
   ]
  },
  {
   "cell_type": "markdown",
   "metadata": {},
   "source": [
    "How to get the checksum. This one was a bit tricky since you need to ensure that you are reading the file as a binary object (not as a string that shows the filepath). So, you can reuse or adapt the following function:"
   ]
  },
  {
   "cell_type": "code",
   "execution_count": 5,
   "metadata": {},
   "outputs": [],
   "source": [
    "def get_checksum(filePath, checksum_type):\n",
    "    '''This is a helper function to create a checksum. \n",
    "    In this example we will focus on MD5, which can be used to check data integrity.\n",
    "    \n",
    "    The filePath value argument be a string representing a valid path.\n",
    "    The checksum_type argument should be a valid type of checksum.\n",
    "    \n",
    "    The function returns the string of characters for an MD5 or SHA256 checksum.\n",
    "    The is function only allows you to create MD5 or SHA 256 and will result in an error for other types.'''\n",
    "    checksum_type = checksum_type.lower().replace(' ', '')\n",
    "\n",
    "    with open(filePath, 'rb') as f:\n",
    "        bytes = f.read()\n",
    "        if checksum_type == 'md5':\n",
    "            hash_string = hashlib.md5(bytes).hexdigest()\n",
    "        elif checksum_type == 'sha256':\n",
    "            hash_string = hashlib.sha256(bytes).hexdigest()\n",
    "        else:\n",
    "            Raise('{} is not a hash function supported by this program. You must ask for MD5.')\n",
    "    return hash_string"
   ]
  },
  {
   "cell_type": "code",
   "execution_count": 7,
   "metadata": {},
   "outputs": [
    {
     "name": "stdout",
     "output_type": "stream",
     "text": [
      "{'filename': '11-3250JohnsonvFolinoEtAl.wma', 'extension': '.wma', 'size': 21423499, 'modify_datetime': '2022-09-05T21:59:36', 'absolute_path': '/Users/jajohnst/Desktop/networked-services-labs-2022/data/webfiles-samples/audio/11-3250JohnsonvFolinoEtAl.wma', 'md5_checksum': '0822287ef2af6e97ead980c771bb8f97', 'sha256_checksum': '2e90f5615ad4eaf273c1dfa9c4631e14a39da7f5a9a09edc5467b14f19dacd41'}\n",
      "{'filename': 'NEWSLINE_802AF71F439D401585C6FCB02F358307.mp3', 'extension': '.mp3', 'size': 961195, 'modify_datetime': '2022-09-05T21:59:19', 'absolute_path': '/Users/jajohnst/Desktop/networked-services-labs-2022/data/webfiles-samples/audio/NEWSLINE_802AF71F439D401585C6FCB02F358307.mp3', 'md5_checksum': 'ad49bb75ecd85c86d8d4a2b418ce83cf', 'sha256_checksum': '5d523832cd29efe1971bf88a1e9698021dda828547c1d774301424060eb10730'}\n",
      "{'filename': 'mj_telework_exchange_final_100710.mp3', 'extension': '.mp3', 'size': 3471488, 'modify_datetime': '2022-09-05T21:59:13', 'absolute_path': '/Users/jajohnst/Desktop/networked-services-labs-2022/data/webfiles-samples/audio/mj_telework_exchange_final_100710.mp3', 'md5_checksum': '0253b2c7820143b28f4b1febaece205d', 'sha256_checksum': '8c276e00edc5e771559fc0970fdc688ace0c9f127d4ab4e6a4652acb705ff160'}\n",
      "{'filename': '000727.ram', 'extension': '.ram', 'size': 79, 'modify_datetime': '2022-09-05T21:59:30', 'absolute_path': '/Users/jajohnst/Desktop/networked-services-labs-2022/data/webfiles-samples/audio/000727.ram', 'md5_checksum': '807f4a33e2198c1dd629c8902c37c535', 'sha256_checksum': 'd231f5779e4ec9604db2fb99ac92510b7d8263e471b2d636b4a39e8915802500'}\n"
     ]
    }
   ],
   "source": [
    "# Now, add the checksum function to the file metadata\n",
    "path_to_audio_dir = os.path.join('data','webfiles-samples', 'audio')\n",
    "\n",
    "with os.scandir(path_to_audio_dir) as file_list:\n",
    "    for file in file_list:\n",
    "        file_info = {\n",
    "            'filename' : os.path.basename(file),\n",
    "            'extension' : os.path.splitext(file)[1],\n",
    "            'size' : os.path.getsize(file), \n",
    "            'modify_datetime' : datetime.strftime(datetime.fromtimestamp(os.path.getmtime(file)), \"%Y-%m-%dT%H:%M:%S\"),\n",
    "            'absolute_path' : os.path.abspath(file),\n",
    "            'md5_checksum' : get_checksum(file, 'md5'),\n",
    "            'sha256_checksum' : get_checksum(file, 'sha256')\n",
    "        }\n",
    "        print(file_info)"
   ]
  },
  {
   "cell_type": "markdown",
   "metadata": {},
   "source": [
    "### Version 1: using csv.DictWriter()\n",
    "\n",
    "This is the example from class, completed.\n",
    "\n",
    "Creating small dictionaries of the file metadata for each file, then writing using the header names as indexes using the `.DictWriter()` method."
   ]
  },
  {
   "cell_type": "code",
   "execution_count": 32,
   "metadata": {},
   "outputs": [
    {
     "name": "stdout",
     "output_type": "stream",
     "text": [
      "23\n",
      "writing file manifest CSV\n",
      "adding .DS_Store\n",
      "adding web-files-small-metadata.csv\n",
      "adding vlwhcssc.asx\n",
      "adding 04-04-21full.asf\n",
      "adding glmp_cig.EQ.wm.p20.t12z\n",
      "adding oct17cc.asx\n",
      "adding 01-1480.pdf\n",
      "adding file.pdf\n",
      "adding Chapter03.pdf\n",
      "adding PFCHEJ.pdf\n",
      "adding HR2021 commtext.pdf\n",
      "adding 13080t.jpg\n",
      "adding orca.via_.moc_.noaa_.jpg\n",
      "adding k7989-7x.jpg\n",
      "adding m237a2f.gif\n",
      "adding 1005107061.tif\n",
      "adding 11-3250JohnsonvFolinoEtAl.wma\n",
      "adding NEWSLINE_802AF71F439D401585C6FCB02F358307.mp3\n",
      "adding mj_telework_exchange_final_100710.mp3\n",
      "adding 000727.ram\n",
      "adding BudgetandGrants012710.ppt\n",
      "adding ADAEMPLOYMENTTaxIncentives.ppt\n",
      "adding Non-FTE-Trainee-Activities-060109.ppt\n",
      "Wrote manifest\n"
     ]
    }
   ],
   "source": [
    "# Finally, write this information out to a csv using the csv.DictWriter() function\n",
    "import csv \n",
    "\n",
    "file_list = list()\n",
    "\n",
    "# set up headers\n",
    "headers = ['filename', 'extension', 'size', 'modify_datetime', 'absolute_path', 'md5_checksum', 'sha256_checksum']\n",
    "\n",
    "# set up filecount\n",
    "file_count = 0 \n",
    "\n",
    "# add file metadata to a list of dictionaries\n",
    "for folderName, subfolders, filenames in os.walk(walk_this_directory):\n",
    "    for file in filenames:\n",
    "        file_info = {\n",
    "            'filename' : file,\n",
    "            'extension' : os.path.splitext(os.path.join(folderName, file))[1],\n",
    "            'size' : os.path.getsize(os.path.join(folderName, file)), \n",
    "            'modify_datetime' : datetime.strftime(datetime.fromtimestamp(os.path.getmtime(os.path.join(folderName, file))), \"%Y-%m-%dT%H:%M:%S\"),\n",
    "            'absolute_path' : os.path.abspath(os.path.join(folderName, file)),\n",
    "            'md5_checksum' : get_checksum(os.path.join(folderName, file), 'md5'),\n",
    "            'sha256_checksum' : get_checksum(os.path.join(folderName, file), 'sha256')\n",
    "        }\n",
    "        file_list.append(file_info)\n",
    "        #print(file_info)\n",
    "print(len(file_list))\n",
    "\n",
    "# write out the info using csv.DictWriter()\n",
    "with open('file-metadata-manifest-from-dict.csv', 'w') as csvfile:\n",
    "    fileManifest = csv.DictWriter(csvfile, fieldnames=headers)\n",
    "    print('writing file manifest CSV')\n",
    "    fileManifest.writeheader()\n",
    "    for file in file_list:\n",
    "        print('adding', file['filename'])\n",
    "        fileManifest.writerow(file)\n",
    "    print('Wrote manifest')"
   ]
  },
  {
   "cell_type": "markdown",
   "metadata": {},
   "source": [
    "### Version 2: using csv.writer()\n",
    "\n",
    "Creating short lists of the file metadata for each file, then writing to a csv using the `.writer()` method."
   ]
  },
  {
   "cell_type": "code",
   "execution_count": 31,
   "metadata": {},
   "outputs": [
    {
     "name": "stdout",
     "output_type": "stream",
     "text": [
      "23\n",
      "writing file manifest CSV\n",
      "adding .DS_Store\n",
      "adding web-files-small-metadata.csv\n",
      "adding vlwhcssc.asx\n",
      "adding 04-04-21full.asf\n",
      "adding glmp_cig.EQ.wm.p20.t12z\n",
      "adding oct17cc.asx\n",
      "adding 01-1480.pdf\n",
      "adding file.pdf\n",
      "adding Chapter03.pdf\n",
      "adding PFCHEJ.pdf\n",
      "adding HR2021 commtext.pdf\n",
      "adding 13080t.jpg\n",
      "adding orca.via_.moc_.noaa_.jpg\n",
      "adding k7989-7x.jpg\n",
      "adding m237a2f.gif\n",
      "adding 1005107061.tif\n",
      "adding 11-3250JohnsonvFolinoEtAl.wma\n",
      "adding NEWSLINE_802AF71F439D401585C6FCB02F358307.mp3\n",
      "adding mj_telework_exchange_final_100710.mp3\n",
      "adding 000727.ram\n",
      "adding BudgetandGrants012710.ppt\n",
      "adding ADAEMPLOYMENTTaxIncentives.ppt\n",
      "adding Non-FTE-Trainee-Activities-060109.ppt\n",
      "Wrote manifest\n"
     ]
    }
   ],
   "source": [
    "# Finally, write this information out to a csv using the csv.DictWriter() function\n",
    "import csv \n",
    "\n",
    "file_list = list()\n",
    "\n",
    "# set up headers\n",
    "headers = ['filename', 'extension', 'size', 'modify_datetime', 'absolute_path', 'md5_checksum', 'sha256_checksum']\n",
    "\n",
    "# set up filecount\n",
    "file_count = 0 \n",
    "\n",
    "# add file metadata to a list of dictionaries\n",
    "for folderName, subfolders, filenames in os.walk(walk_this_directory):\n",
    "    for file in filenames:\n",
    "        # this part creating a list\n",
    "        filename = file\n",
    "        extension = os.path.splitext(os.path.join(folderName, file))[1]\n",
    "        size = os.path.getsize(os.path.join(folderName, file))\n",
    "        modify_datetime = datetime.strftime(datetime.fromtimestamp(os.path.getmtime(os.path.join(folderName, file))), \"%Y-%m-%dT%H:%M:%S\")\n",
    "        absolute_path = os.path.abspath(os.path.join(folderName, file))\n",
    "        md5_checksum = get_checksum(os.path.join(folderName, file), 'md5')\n",
    "        sha256_checksum = get_checksum(os.path.join(folderName, file), 'sha256')\n",
    "        # add those values to the file_info list for each file\n",
    "        file_info = [\n",
    "            filename,\n",
    "            extension,\n",
    "            size,\n",
    "            modify_datetime,\n",
    "            absolute_path,\n",
    "            md5_checksum,\n",
    "            sha256_checksum\n",
    "        ]\n",
    "        # append that list to the file_list\n",
    "        file_list.append(file_info)\n",
    "        #print(file_info)\n",
    "print(len(file_list))\n",
    "\n",
    "# write out the info using csv.DictWriter()\n",
    "with open('file-metadata-manifest-from-list.csv', 'w') as csvfile:\n",
    "    fileManifest = csv.writer(csvfile)\n",
    "    print('writing file manifest CSV')\n",
    "    fileManifest.writerow(headers)\n",
    "    for file in file_list:\n",
    "        print('adding', file[0])\n",
    "        fileManifest.writerow(file)\n",
    "    print('Wrote manifest')"
   ]
  }
 ],
 "metadata": {
  "kernelspec": {
   "display_name": "Python 3.9.6 64-bit",
   "language": "python",
   "name": "python3"
  },
  "language_info": {
   "codemirror_mode": {
    "name": "ipython",
    "version": 3
   },
   "file_extension": ".py",
   "mimetype": "text/x-python",
   "name": "python",
   "nbconvert_exporter": "python",
   "pygments_lexer": "ipython3",
   "version": "3.9.6"
  },
  "orig_nbformat": 4,
  "vscode": {
   "interpreter": {
    "hash": "31f2aee4e71d21fbe5cf8b01ff0e069b9275f58929596ceb00d14d90e3e16cd6"
   }
  }
 },
 "nbformat": 4,
 "nbformat_minor": 2
}
