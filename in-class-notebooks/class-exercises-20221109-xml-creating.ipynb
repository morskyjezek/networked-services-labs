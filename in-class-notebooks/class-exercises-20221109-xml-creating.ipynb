{
 "cells": [
  {
   "cell_type": "markdown",
   "metadata": {},
   "source": [
    "# Generating XML with lxml & ET\n",
    "\n",
    "This (mostly blank) notebook is intended for use in the \"generating\" XML code along exercise. \n",
    "\n",
    "It replicates some of the steps in the sample example file: `examples\\xml-EAD-generator-example.py`."
   ]
  },
  {
   "cell_type": "code",
   "execution_count": 1,
   "metadata": {},
   "outputs": [],
   "source": [
    "import xml.etree.ElementTree as ET"
   ]
  },
  {
   "cell_type": "code",
   "execution_count": 7,
   "metadata": {},
   "outputs": [],
   "source": [
    "from lxml import etree"
   ]
  },
  {
   "cell_type": "code",
   "execution_count": 1,
   "metadata": {},
   "outputs": [],
   "source": [
    "EAD3_ns = 'http://ead3.archivists.org/schema/'\n",
    "DCTERMS_ns = 'http://purl.org/dc/terms'"
   ]
  },
  {
   "cell_type": "code",
   "execution_count": 2,
   "metadata": {},
   "outputs": [],
   "source": [
    "ns = {\n",
    "    'ead' : EAD3_ns,\n",
    "    'dcterms' : DCTERMS_ns\n",
    "}"
   ]
  },
  {
   "cell_type": "code",
   "execution_count": 3,
   "metadata": {},
   "outputs": [],
   "source": [
    "# helper function\n",
    "def ead(tag):\n",
    "    return etree.QName(EAD3_ns, tag)"
   ]
  },
  {
   "cell_type": "code",
   "execution_count": 4,
   "metadata": {},
   "outputs": [],
   "source": [
    "# Step to pull in data: imagine this happened"
   ]
  },
  {
   "cell_type": "code",
   "execution_count": 8,
   "metadata": {},
   "outputs": [],
   "source": [
    "# create root element: \n",
    "rootName = etree.QName(EAD3_ns, 'ead')\n",
    "root = etree.Element(rootName, nsmap=ns)"
   ]
  },
  {
   "cell_type": "code",
   "execution_count": 9,
   "metadata": {},
   "outputs": [],
   "source": [
    "# create subelements & the EAD structure: control & fileDesc\n",
    "control = etree.SubElement(root, ead('control'), attrib = {'countryencoding' :'iso3166-1'})\n",
    "archDesc = etree.SubElement(root, ead('archdesc'), attrib = {'level':'collection'})"
   ]
  },
  {
   "cell_type": "code",
   "execution_count": 10,
   "metadata": {},
   "outputs": [],
   "source": [
    "recordID = etree.SubElement(control, ead('recordid'), attrib = {'instanceurl':'http://jajohnst.projectst.si.umich.edu/'})"
   ]
  },
  {
   "cell_type": "code",
   "execution_count": 14,
   "metadata": {},
   "outputs": [],
   "source": [
    "archDesc.text = 'This is my finding aid content.'"
   ]
  },
  {
   "cell_type": "code",
   "execution_count": 15,
   "metadata": {},
   "outputs": [],
   "source": [
    "finding_aid = etree.ElementTree(root)\n",
    "finding_aid.write('test-xml-output.xml', xml_declaration=True, encoding='utf-8', method='xml', pretty_print=True)"
   ]
  }
 ],
 "metadata": {
  "kernelspec": {
   "display_name": "Python 3.9.12 ('base')",
   "language": "python",
   "name": "python3"
  },
  "language_info": {
   "codemirror_mode": {
    "name": "ipython",
    "version": 3
   },
   "file_extension": ".py",
   "mimetype": "text/x-python",
   "name": "python",
   "nbconvert_exporter": "python",
   "pygments_lexer": "ipython3",
   "version": "3.9.12"
  },
  "orig_nbformat": 4,
  "vscode": {
   "interpreter": {
    "hash": "433e84b6a98ffad52b36edc50e1a65f78fac85298e4e4f5ab24f4a24b9cfbcd2"
   }
  }
 },
 "nbformat": 4,
 "nbformat_minor": 2
}
