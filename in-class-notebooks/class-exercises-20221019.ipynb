{
 "cells": [
  {
   "cell_type": "code",
   "execution_count": 10,
   "metadata": {},
   "outputs": [],
   "source": [
    "from bs4 import BeautifulSoup"
   ]
  },
  {
   "cell_type": "code",
   "execution_count": 1,
   "metadata": {},
   "outputs": [],
   "source": [
    "from lxml import etree"
   ]
  },
  {
   "cell_type": "code",
   "execution_count": 2,
   "metadata": {},
   "outputs": [
    {
     "name": "stdout",
     "output_type": "stream",
     "text": [
      "running with lxml\n"
     ]
    }
   ],
   "source": [
    "try: \n",
    "    from lxml import etree\n",
    "    print('running with lxml')\n",
    "except:\n",
    "    print('no lxml')"
   ]
  },
  {
   "cell_type": "code",
   "execution_count": 4,
   "metadata": {},
   "outputs": [],
   "source": [
    "import os.path\n",
    "import re "
   ]
  },
  {
   "cell_type": "markdown",
   "metadata": {},
   "source": [
    "Import and parse the XML: `2018_lcwa_MODS_5.xml`"
   ]
  },
  {
   "cell_type": "code",
   "execution_count": 5,
   "metadata": {},
   "outputs": [
    {
     "name": "stdout",
     "output_type": "stream",
     "text": [
      "<Element modsCollection at 0x7fb6a8e67cc0>\n"
     ]
    }
   ],
   "source": [
    "MODS_5_collection = os.path.join('data','xml','2018_lcwa_MODS_5.xml')\n",
    "xml_collection = etree.parse(MODS_5_collection)\n",
    "mods = xml_collection.getroot()\n",
    "\n",
    "print(mods)\n"
   ]
  },
  {
   "cell_type": "code",
   "execution_count": 6,
   "metadata": {},
   "outputs": [
    {
     "name": "stdout",
     "output_type": "stream",
     "text": [
      "{http://www.loc.gov/mods/v3}mods\n",
      "{http://www.loc.gov/mods/v3}mods\n",
      "{http://www.loc.gov/mods/v3}mods\n",
      "{http://www.loc.gov/mods/v3}mods\n",
      "{http://www.loc.gov/mods/v3}mods\n"
     ]
    }
   ],
   "source": [
    "for element in mods:\n",
    "    print(element.tag)"
   ]
  },
  {
   "cell_type": "markdown",
   "metadata": {},
   "source": [
    "Now, import using Beautiful Soup: "
   ]
  },
  {
   "cell_type": "code",
   "execution_count": 11,
   "metadata": {},
   "outputs": [
    {
     "name": "stdout",
     "output_type": "stream",
     "text": [
      "\n",
      "lcwaN001023485999109353Slate Magazineengelectronictext/htmlborn digitalgeneraltextweb siteUnited StatesGeneral News on the Internet Web ArchiveSerial and Government Publications Divisionhttp://www.sl\n"
     ]
    }
   ],
   "source": [
    "soup_file = open(MODS_5_collection)\n",
    "\n",
    "soup = BeautifulSoup(soup_file, features='xml')\n",
    "\n",
    "print(soup.text[:200])"
   ]
  },
  {
   "cell_type": "code",
   "execution_count": 12,
   "metadata": {},
   "outputs": [
    {
     "name": "stdout",
     "output_type": "stream",
     "text": [
      "title Slate Magazine\n",
      "title General News on the Internet Web Archive\n",
      "title Serial and Government Publications Division\n",
      "title Raw Story\n",
      "title General News on the Internet Web Archive\n",
      "title Serial and Government Publications Division\n",
      "title Huffington Post\n",
      "title General News on the Internet Web Archive\n",
      "title Serial and Government Publications Division\n",
      "title BuzzFeed\n",
      "title General News on the Internet Web Archive\n",
      "title Serial and Government Publications Division\n",
      "title Drudge Report\n",
      "title General News on the Internet Web Archive\n",
      "title Serial and Government Publications Division\n"
     ]
    }
   ],
   "source": [
    "for tag in soup.find_all('title'):\n",
    "    print(tag.name, tag.text)"
   ]
  },
  {
   "cell_type": "code",
   "execution_count": 13,
   "metadata": {},
   "outputs": [
    {
     "name": "stdout",
     "output_type": "stream",
     "text": [
      "modsCollection\n",
      "mods\n",
      "identifier\n",
      "identifier\n",
      "identifier\n",
      "titleInfo\n",
      "title\n",
      "language\n",
      "languageTerm\n",
      "physicalDescription\n",
      "form\n",
      "internetMediaType\n",
      "digitalOrigin\n",
      "targetAudience\n",
      "typeOfResource\n",
      "genre\n",
      "originInfo\n",
      "place\n",
      "placeTerm\n",
      "abstract\n"
     ]
    }
   ],
   "source": [
    "for tag in soup.find_all(True, limit=20):\n",
    "    print(tag.name)"
   ]
  },
  {
   "cell_type": "code",
   "execution_count": 14,
   "metadata": {},
   "outputs": [
    {
     "name": "stdout",
     "output_type": "stream",
     "text": [
      "mods {'version': '3.4', 'xsi:schemaLocation': 'http://www.loc.gov/mods/v3 http://www.loc.gov/standards/mods/v3/mods-3-4.xsd', 'xmlns': 'http://www.loc.gov/mods/v3', 'xmlns:xlink': 'http://www.w3.org/1999/xlink', 'xmlns:xsi': 'http://www.w3.org/2001/XMLSchema-instance'}\n",
      "mods {'version': '3.4', 'xsi:schemaLocation': 'http://www.loc.gov/mods/v3 http://www.loc.gov/standards/mods/v3/mods-3-4.xsd', 'xmlns': 'http://www.loc.gov/mods/v3', 'xmlns:xlink': 'http://www.w3.org/1999/xlink', 'xmlns:xsi': 'http://www.w3.org/2001/XMLSchema-instance'}\n",
      "mods {'version': '3.4', 'xsi:schemaLocation': 'http://www.loc.gov/mods/v3 http://www.loc.gov/standards/mods/v3/mods-3-4.xsd', 'xmlns': 'http://www.loc.gov/mods/v3', 'xmlns:xlink': 'http://www.w3.org/1999/xlink', 'xmlns:xsi': 'http://www.w3.org/2001/XMLSchema-instance'}\n",
      "mods {'version': '3.4', 'xsi:schemaLocation': 'http://www.loc.gov/mods/v3 http://www.loc.gov/standards/mods/v3/mods-3-4.xsd', 'xmlns': 'http://www.loc.gov/mods/v3', 'xmlns:xlink': 'http://www.w3.org/1999/xlink', 'xmlns:xsi': 'http://www.w3.org/2001/XMLSchema-instance'}\n",
      "mods {'version': '3.4', 'xsi:schemaLocation': 'http://www.loc.gov/mods/v3 http://www.loc.gov/standards/mods/v3/mods-3-4.xsd', 'xmlns': 'http://www.loc.gov/mods/v3', 'xmlns:xlink': 'http://www.w3.org/1999/xlink', 'xmlns:xsi': 'http://www.w3.org/2001/XMLSchema-instance'}\n"
     ]
    }
   ],
   "source": [
    "for tag in soup.find_all('mods'): \n",
    "    print(tag.name, tag.attrs)"
   ]
  },
  {
   "cell_type": "code",
   "execution_count": 16,
   "metadata": {},
   "outputs": [],
   "source": [
    "#MODS_5_collection.close()\n",
    "soup_file.close()"
   ]
  },
  {
   "cell_type": "markdown",
   "metadata": {},
   "source": [
    "# Namespaces: lxml & ET\n",
    "\n",
    "1. When parsing the tree, use a dictionary to handle namespaces. Each dict element is: key = namespace prefix; value = namespace URI\n",
    "1. When writing XML: ET.namespace_declaration('prefix', 'URI')"
   ]
  },
  {
   "cell_type": "code",
   "execution_count": 17,
   "metadata": {},
   "outputs": [],
   "source": [
    "ns = {\n",
    "    'mods':'http://www.loc.gov/mods/v3'\n",
    "}"
   ]
  },
  {
   "cell_type": "code",
   "execution_count": 26,
   "metadata": {},
   "outputs": [
    {
     "name": "stdout",
     "output_type": "stream",
     "text": [
      "{http://www.loc.gov/mods/v3}mods {'version': '3.4', '{http://www.w3.org/2001/XMLSchema-instance}schemaLocation': 'http://www.loc.gov/mods/v3 http://www.loc.gov/standards/mods/v3/mods-3-4.xsd'}\n",
      "{http://www.loc.gov/mods/v3}mods {'version': '3.4', '{http://www.w3.org/2001/XMLSchema-instance}schemaLocation': 'http://www.loc.gov/mods/v3 http://www.loc.gov/standards/mods/v3/mods-3-4.xsd'}\n",
      "{http://www.loc.gov/mods/v3}mods {'version': '3.4', '{http://www.w3.org/2001/XMLSchema-instance}schemaLocation': 'http://www.loc.gov/mods/v3 http://www.loc.gov/standards/mods/v3/mods-3-4.xsd'}\n",
      "{http://www.loc.gov/mods/v3}mods {'version': '3.4', '{http://www.w3.org/2001/XMLSchema-instance}schemaLocation': 'http://www.loc.gov/mods/v3 http://www.loc.gov/standards/mods/v3/mods-3-4.xsd'}\n",
      "{http://www.loc.gov/mods/v3}mods {'version': '3.4', '{http://www.w3.org/2001/XMLSchema-instance}schemaLocation': 'http://www.loc.gov/mods/v3 http://www.loc.gov/standards/mods/v3/mods-3-4.xsd'}\n",
      "5\n"
     ]
    }
   ],
   "source": [
    "xml_collection = etree.parse(MODS_5_collection)\n",
    "\n",
    "mods = xml_collection.getroot()\n",
    "\n",
    "count = 0\n",
    "\n",
    "for mods in mods.findall('mods:mods', namespaces=ns):\n",
    "    count += 1\n",
    "    print(mods.tag, mods.attrib)\n",
    "print(count)"
   ]
  },
  {
   "cell_type": "code",
   "execution_count": 27,
   "metadata": {},
   "outputs": [
    {
     "name": "stdout",
     "output_type": "stream",
     "text": [
      "{http://www.loc.gov/mods/v3}identifier lcwaN0010234 {}\n",
      "{http://www.loc.gov/mods/v3}identifier 85999 {'invalid': 'yes', 'type': 'database id'}\n",
      "{http://www.loc.gov/mods/v3}identifier 109353 {'invalid': 'yes', 'type': 'database id'}\n",
      "{http://www.loc.gov/mods/v3}identifier http://www.slate.com/ {'displayLabel': 'Access URL', 'type': 'uri'}\n",
      "{http://www.loc.gov/mods/v3}identifier 15046 {'type': 'database id'}\n",
      "{http://www.loc.gov/mods/v3}identifier lcwaN0001999 {}\n",
      "{http://www.loc.gov/mods/v3}identifier 91224 {'invalid': 'yes', 'type': 'database id'}\n",
      "{http://www.loc.gov/mods/v3}identifier 109272 {'invalid': 'yes', 'type': 'database id'}\n",
      "{http://www.loc.gov/mods/v3}identifier http://rawstory.com/ {'displayLabel': 'Access URL', 'type': 'uri'}\n",
      "{http://www.loc.gov/mods/v3}identifier 2771 {'type': 'database id'}\n",
      "{http://www.loc.gov/mods/v3}identifier lcwaN0003238 {}\n",
      "{http://www.loc.gov/mods/v3}identifier 91275 {'invalid': 'yes', 'type': 'database id'}\n",
      "{http://www.loc.gov/mods/v3}identifier 109273 {'invalid': 'yes', 'type': 'database id'}\n",
      "{http://www.loc.gov/mods/v3}identifier 96782 {'invalid': 'yes', 'type': 'database id'}\n",
      "{http://www.loc.gov/mods/v3}identifier http://www.huffingtonpost.com/ {'displayLabel': 'Access URL', 'type': 'uri'}\n",
      "{http://www.loc.gov/mods/v3}identifier 4619 {'type': 'database id'}\n",
      "{http://www.loc.gov/mods/v3}identifier lcwaN0010144 {}\n",
      "{http://www.loc.gov/mods/v3}identifier nan {'invalid': 'yes', 'type': 'database id'}\n",
      "{http://www.loc.gov/mods/v3}identifier https://medium.com/buzzfeed-collections {'displayLabel': 'Access URL', 'type': 'uri'}\n",
      "{http://www.loc.gov/mods/v3}identifier 24463 {'type': 'database id'}\n",
      "{http://www.loc.gov/mods/v3}identifier http://www.buzzfeed.com/ {'displayLabel': 'Access URL', 'type': 'uri'}\n",
      "{http://www.loc.gov/mods/v3}identifier 14906 {'type': 'database id'}\n",
      "{http://www.loc.gov/mods/v3}identifier lcwaN0010145 {}\n",
      "{http://www.loc.gov/mods/v3}identifier 82949 {'invalid': 'yes', 'type': 'database id'}\n",
      "{http://www.loc.gov/mods/v3}identifier 109227 {'invalid': 'yes', 'type': 'database id'}\n",
      "{http://www.loc.gov/mods/v3}identifier http://www.drudgereport.com/ {'displayLabel': 'Access URL', 'type': 'uri'}\n",
      "{http://www.loc.gov/mods/v3}identifier 14951 {'type': 'database id'}\n"
     ]
    }
   ],
   "source": [
    "xml_collection = etree.parse(MODS_5_collection)\n",
    "\n",
    "mods = xml_collection.getroot()\n",
    "\n",
    "for identifier in mods.findall('.//mods:identifier', namespaces=ns):\n",
    "    element = identifier\n",
    "    print(element.tag, element.text, element.attrib)\n"
   ]
  },
  {
   "cell_type": "code",
   "execution_count": 28,
   "metadata": {},
   "outputs": [
    {
     "name": "stdout",
     "output_type": "stream",
     "text": [
      "{http://www.loc.gov/mods/v3}identifier http://www.slate.com/ {'displayLabel': 'Access URL', 'type': 'uri'}\n",
      "{http://www.loc.gov/mods/v3}identifier http://rawstory.com/ {'displayLabel': 'Access URL', 'type': 'uri'}\n",
      "{http://www.loc.gov/mods/v3}identifier http://www.huffingtonpost.com/ {'displayLabel': 'Access URL', 'type': 'uri'}\n",
      "{http://www.loc.gov/mods/v3}identifier https://medium.com/buzzfeed-collections {'displayLabel': 'Access URL', 'type': 'uri'}\n",
      "{http://www.loc.gov/mods/v3}identifier http://www.buzzfeed.com/ {'displayLabel': 'Access URL', 'type': 'uri'}\n",
      "{http://www.loc.gov/mods/v3}identifier http://www.drudgereport.com/ {'displayLabel': 'Access URL', 'type': 'uri'}\n"
     ]
    }
   ],
   "source": [
    "xml_collection = etree.parse(MODS_5_collection)\n",
    "\n",
    "mods = xml_collection.getroot()\n",
    "\n",
    "for identifier in mods.findall('.//mods:identifier[@type=\"uri\"]', namespaces=ns):\n",
    "    element = identifier\n",
    "    print(element.tag, element.text, element.attrib)\n"
   ]
  },
  {
   "cell_type": "code",
   "execution_count": 29,
   "metadata": {},
   "outputs": [
    {
     "name": "stdout",
     "output_type": "stream",
     "text": [
      "{http://www.loc.gov/mods/v3}identifier 85999 {'invalid': 'yes', 'type': 'database id'}\n",
      "{http://www.loc.gov/mods/v3}identifier 109353 {'invalid': 'yes', 'type': 'database id'}\n",
      "{http://www.loc.gov/mods/v3}identifier http://www.slate.com/ {'displayLabel': 'Access URL', 'type': 'uri'}\n",
      "{http://www.loc.gov/mods/v3}identifier 15046 {'type': 'database id'}\n",
      "{http://www.loc.gov/mods/v3}identifier 91224 {'invalid': 'yes', 'type': 'database id'}\n",
      "{http://www.loc.gov/mods/v3}identifier 109272 {'invalid': 'yes', 'type': 'database id'}\n",
      "{http://www.loc.gov/mods/v3}identifier http://rawstory.com/ {'displayLabel': 'Access URL', 'type': 'uri'}\n",
      "{http://www.loc.gov/mods/v3}identifier 2771 {'type': 'database id'}\n",
      "{http://www.loc.gov/mods/v3}identifier 91275 {'invalid': 'yes', 'type': 'database id'}\n",
      "{http://www.loc.gov/mods/v3}identifier 109273 {'invalid': 'yes', 'type': 'database id'}\n",
      "{http://www.loc.gov/mods/v3}identifier 96782 {'invalid': 'yes', 'type': 'database id'}\n",
      "{http://www.loc.gov/mods/v3}identifier http://www.huffingtonpost.com/ {'displayLabel': 'Access URL', 'type': 'uri'}\n",
      "{http://www.loc.gov/mods/v3}identifier 4619 {'type': 'database id'}\n",
      "{http://www.loc.gov/mods/v3}identifier nan {'invalid': 'yes', 'type': 'database id'}\n",
      "{http://www.loc.gov/mods/v3}identifier https://medium.com/buzzfeed-collections {'displayLabel': 'Access URL', 'type': 'uri'}\n",
      "{http://www.loc.gov/mods/v3}identifier 24463 {'type': 'database id'}\n",
      "{http://www.loc.gov/mods/v3}identifier http://www.buzzfeed.com/ {'displayLabel': 'Access URL', 'type': 'uri'}\n",
      "{http://www.loc.gov/mods/v3}identifier 14906 {'type': 'database id'}\n",
      "{http://www.loc.gov/mods/v3}identifier 82949 {'invalid': 'yes', 'type': 'database id'}\n",
      "{http://www.loc.gov/mods/v3}identifier 109227 {'invalid': 'yes', 'type': 'database id'}\n",
      "{http://www.loc.gov/mods/v3}identifier http://www.drudgereport.com/ {'displayLabel': 'Access URL', 'type': 'uri'}\n",
      "{http://www.loc.gov/mods/v3}identifier 14951 {'type': 'database id'}\n"
     ]
    }
   ],
   "source": [
    "xml_collection = etree.parse(MODS_5_collection)\n",
    "\n",
    "mods = xml_collection.getroot()\n",
    "\n",
    "for identifier in mods.findall('.//mods:identifier[@type]', namespaces=ns):\n",
    "    element = identifier\n",
    "    print(element.tag, element.text, element.attrib)\n"
   ]
  },
  {
   "cell_type": "code",
   "execution_count": 33,
   "metadata": {},
   "outputs": [
    {
     "name": "stdout",
     "output_type": "stream",
     "text": [
      "<Element modsCollection at 0x7fb6a9ded640>\n",
      "{http://www.loc.gov/mods/v3}title Slate Magazine\n",
      "{http://www.loc.gov/mods/v3}title General News on the Internet Web Archive\n",
      "{http://www.loc.gov/mods/v3}title Serial and Government Publications Division\n",
      "3\n",
      "<Element modsCollection at 0x7fb6a9ded640>\n",
      "{http://www.loc.gov/mods/v3}title Raw Story\n",
      "{http://www.loc.gov/mods/v3}title General News on the Internet Web Archive\n",
      "{http://www.loc.gov/mods/v3}title Serial and Government Publications Division\n",
      "3\n",
      "<Element modsCollection at 0x7fb6a9ded640>\n",
      "{http://www.loc.gov/mods/v3}title Huffington Post\n",
      "{http://www.loc.gov/mods/v3}title General News on the Internet Web Archive\n",
      "{http://www.loc.gov/mods/v3}title Serial and Government Publications Division\n",
      "3\n",
      "<Element modsCollection at 0x7fb6a9ded640>\n",
      "{http://www.loc.gov/mods/v3}title BuzzFeed\n",
      "{http://www.loc.gov/mods/v3}title General News on the Internet Web Archive\n",
      "{http://www.loc.gov/mods/v3}title Serial and Government Publications Division\n",
      "3\n",
      "<Element modsCollection at 0x7fb6a9ded640>\n",
      "{http://www.loc.gov/mods/v3}title Drudge Report\n",
      "{http://www.loc.gov/mods/v3}title General News on the Internet Web Archive\n",
      "{http://www.loc.gov/mods/v3}title Serial and Government Publications Division\n",
      "3\n"
     ]
    }
   ],
   "source": [
    "xml_collection = etree.parse(MODS_5_collection)\n",
    "\n",
    "mods = xml_collection.getroot()\n",
    "\n",
    "mods_count = 0 \n",
    "#title_count = 0 \n",
    "\n",
    "for mod in mods:\n",
    "    print(mods)\n",
    "    title_count = 0\n",
    "    for title in mod.findall('.//mods:title', namespaces=ns):\n",
    "        title_count += 1\n",
    "        print(title.tag, title.text)\n",
    "    print(title_count)\n"
   ]
  },
  {
   "cell_type": "markdown",
   "metadata": {},
   "source": [
    "So, if the question is \"How many title elements in each record?\" \n",
    "\n",
    "The answer is that each MODS record has 3 `<title>` elements."
   ]
  },
  {
   "cell_type": "markdown",
   "metadata": {},
   "source": [
    "Using regular expressions: \n",
    "\n",
    "* Use case is the call number identifier"
   ]
  },
  {
   "cell_type": "code",
   "execution_count": 37,
   "metadata": {},
   "outputs": [
    {
     "name": "stdout",
     "output_type": "stream",
     "text": [
      "{http://www.loc.gov/mods/v3}identifier lcwaN0010234 {}\n",
      "{http://www.loc.gov/mods/v3}identifier lcwaN0001999 {}\n",
      "{http://www.loc.gov/mods/v3}identifier lcwaN0003238 {}\n",
      "{http://www.loc.gov/mods/v3}identifier lcwaN0010144 {}\n",
      "{http://www.loc.gov/mods/v3}identifier lcwaN0010145 {}\n"
     ]
    }
   ],
   "source": [
    "xml_collection = etree.parse(MODS_5_collection)\n",
    "\n",
    "mods = xml_collection.getroot()\n",
    "\n",
    "#set up the regular expression you want\n",
    "call_num_pattern = re.compile(r'[a-z]{4}N\\d{7}')\n",
    "\n",
    "for mod in mods:\n",
    "    for identifier in mod.findall('.//mods:identifier', namespaces=ns):\n",
    "        if re.match(call_num_pattern, identifier.text):\n",
    "            print(identifier.tag, identifier.text, identifier.attrib)\n"
   ]
  },
  {
   "cell_type": "code",
   "execution_count": 39,
   "metadata": {},
   "outputs": [
    {
     "name": "stdout",
     "output_type": "stream",
     "text": [
      "{http://www.loc.gov/mods/v3}identifier lcwaN0010234 {'type': 'local_call_number', 'updated': 'true', 'date_of_update': '2022-10-19'}\n",
      "{http://www.loc.gov/mods/v3}identifier lcwaN0001999 {'type': 'local_call_number', 'updated': 'true', 'date_of_update': '2022-10-19'}\n",
      "{http://www.loc.gov/mods/v3}identifier lcwaN0003238 {'type': 'local_call_number', 'updated': 'true', 'date_of_update': '2022-10-19'}\n",
      "{http://www.loc.gov/mods/v3}identifier lcwaN0010144 {'type': 'local_call_number', 'updated': 'true', 'date_of_update': '2022-10-19'}\n",
      "{http://www.loc.gov/mods/v3}identifier lcwaN0010145 {'type': 'local_call_number', 'updated': 'true', 'date_of_update': '2022-10-19'}\n"
     ]
    }
   ],
   "source": [
    "xml_collection = etree.parse(MODS_5_collection)\n",
    "\n",
    "mods = xml_collection.getroot()\n",
    "\n",
    "#set up the regular expression you want\n",
    "call_num_pattern = re.compile(r'[a-z]{4}N\\d{7}')\n",
    "\n",
    "for mod in mods:\n",
    "    for identifier in mod.findall('.//mods:identifier', namespaces=ns):\n",
    "        if re.match(call_num_pattern, identifier.text):\n",
    "            identifier.set('type', 'local_call_number')\n",
    "            identifier.set('updated', 'true')\n",
    "            identifier.set('date_of_update','2022-10-19')\n",
    "            print(identifier.tag, identifier.text, identifier.attrib)\n"
   ]
  },
  {
   "cell_type": "markdown",
   "metadata": {},
   "source": [
    "Last step for lab homework is: write out the file with appropriate namespaces, etc."
   ]
  }
 ],
 "metadata": {
  "kernelspec": {
   "display_name": "Python 3.9.12 ('base')",
   "language": "python",
   "name": "python3"
  },
  "language_info": {
   "codemirror_mode": {
    "name": "ipython",
    "version": 3
   },
   "file_extension": ".py",
   "mimetype": "text/x-python",
   "name": "python",
   "nbconvert_exporter": "python",
   "pygments_lexer": "ipython3",
   "version": "3.9.12"
  },
  "orig_nbformat": 4,
  "vscode": {
   "interpreter": {
    "hash": "433e84b6a98ffad52b36edc50e1a65f78fac85298e4e4f5ab24f4a24b9cfbcd2"
   }
  }
 },
 "nbformat": 4,
 "nbformat_minor": 2
}
