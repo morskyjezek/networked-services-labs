{
 "cells": [
  {
   "cell_type": "markdown",
   "metadata": {},
   "source": [
    "# Setup"
   ]
  },
  {
   "cell_type": "code",
   "execution_count": 1,
   "metadata": {},
   "outputs": [],
   "source": [
    "import os\n",
    "from datetime import datetime\n",
    "import hashlib\n",
    "import csv"
   ]
  },
  {
   "cell_type": "markdown",
   "metadata": {},
   "source": [
    "Next, set up information for where to find the files (directory path)"
   ]
  },
  {
   "cell_type": "code",
   "execution_count": null,
   "metadata": {},
   "outputs": [],
   "source": [
    "walk_this_directory = os.path.join('data','webfiles-samples')\n",
    "\n",
    "print(walk_this_directory)"
   ]
  },
  {
   "cell_type": "markdown",
   "metadata": {},
   "source": [
    "Next, set up gathering the file information for one file, mostly like we did last week... Note here is a dictionary, however: "
   ]
  },
  {
   "cell_type": "code",
   "execution_count": 6,
   "metadata": {},
   "outputs": [
    {
     "name": "stdout",
     "output_type": "stream",
     "text": [
      "{'filename': '11-3250JohnsonvFolinoEtAl.wma', 'extension': '.wma', 'size': 21423499, 'modify_datetime': '2022-09-05T21:59:36', 'absolute_path': '/Users/jajohnst/Desktop/networked-services-labs-2022/data/webfiles-samples/audio/11-3250JohnsonvFolinoEtAl.wma'}\n",
      "{'filename': 'NEWSLINE_802AF71F439D401585C6FCB02F358307.mp3', 'extension': '.mp3', 'size': 961195, 'modify_datetime': '2022-09-05T21:59:19', 'absolute_path': '/Users/jajohnst/Desktop/networked-services-labs-2022/data/webfiles-samples/audio/NEWSLINE_802AF71F439D401585C6FCB02F358307.mp3'}\n",
      "{'filename': 'mj_telework_exchange_final_100710.mp3', 'extension': '.mp3', 'size': 3471488, 'modify_datetime': '2022-09-05T21:59:13', 'absolute_path': '/Users/jajohnst/Desktop/networked-services-labs-2022/data/webfiles-samples/audio/mj_telework_exchange_final_100710.mp3'}\n",
      "{'filename': '000727.ram', 'extension': '.ram', 'size': 79, 'modify_datetime': '2022-09-05T21:59:30', 'absolute_path': '/Users/jajohnst/Desktop/networked-services-labs-2022/data/webfiles-samples/audio/000727.ram'}\n"
     ]
    }
   ],
   "source": [
    "path_to_audio_dir = os.path.join('data','webfiles-samples', 'audio')\n",
    "\n",
    "with os.scandir(path_to_audio_dir) as file_list:\n",
    "    for file in file_list:\n",
    "        file_info = {\n",
    "            'filename' : os.path.basename(file),\n",
    "            'extension' : os.path.splitext(file)[1],\n",
    "            'size' : os.path.getsize(file), \n",
    "            'modify_datetime' : datetime.strftime(datetime.fromtimestamp(os.path.getmtime(file)), \"%Y-%m-%dT%H:%M:%S\"),\n",
    "            'absolute_path' : os.path.abspath(file)\n",
    "        }\n",
    "        print(file_info)\n"
   ]
  },
  {
   "cell_type": "markdown",
   "metadata": {},
   "source": [
    "This can similar be accomplished using `os.walk()`: "
   ]
  },
  {
   "cell_type": "code",
   "execution_count": 10,
   "metadata": {},
   "outputs": [
    {
     "name": "stdout",
     "output_type": "stream",
     "text": [
      "Counted 23 files\n"
     ]
    }
   ],
   "source": [
    "walk_this_directory = os.path.join('data','webfiles-samples')\n",
    "\n",
    "file_count = 0\n",
    "\n",
    "# get information about each of the files\n",
    "for folderName, subfolders, filenames in os.walk(walk_this_directory):\n",
    "    \n",
    "    for filename in filenames:\n",
    "        file_count += 1\n",
    "        filename = filename \n",
    "        folder = folderName\n",
    "        path = os.path.join(folderName, filename)\n",
    "        absolutePath = os.path.abspath(filename)\n",
    "        size = os.path.getsize(path)\n",
    "        # uncomment to print file information, or check that things look correct\n",
    "        #print('Found:', filename, folder, path, size,'\\n',absolutePath)\n",
    "print(f'Counted {file_count} files')\n",
    "    ## Note that this does not record hidden items like . and .."
   ]
  },
  {
   "cell_type": "markdown",
   "metadata": {},
   "source": [
    "How to get the checksum. This one was a bit tricky since you need to ensure that you are reading the file as a binary object (not as a string that shows the filepath). So, you can reuse or adapt the following function:"
   ]
  },
  {
   "cell_type": "code",
   "execution_count": null,
   "metadata": {},
   "outputs": [],
   "source": [
    "def get_checksum(filePath, checksum_type):\n",
    "    '''This is a helper function to create a checksum. \n",
    "    In this example we will focus on MD5, which can be used to check data integrity.\n",
    "    \n",
    "    The filePath value argument be a string representing a valid path.\n",
    "    The checksum_type argument should be a valid type of checksum.\n",
    "    \n",
    "    The function returns the string of characters for an MD5 or SHA256 checksum.\n",
    "    The is function only allows you to create MD5 or SHA 256 and will result in an error for other types.'''\n",
    "    checksum_type = checksum_type.lower()\n",
    "\n",
    "    with open(filePath, 'rb') as f:\n",
    "        bytes = f.read()\n",
    "        if checksum_type == 'md5':\n",
    "            hash_string = hashlib.md5(bytes).hexdigest()\n",
    "        elif checksum_type == 'sha256':\n",
    "            hash_string = hashlib.sha256(bytes).hexdigest()\n",
    "        else:\n",
    "            Raise('{} is not a hash function supported by this program. You must ask for MD5.')\n",
    "    return hash_string"
   ]
  },
  {
   "cell_type": "code",
   "execution_count": null,
   "metadata": {},
   "outputs": [],
   "source": [
    "# Now, add the checksum function to the file metadata"
   ]
  },
  {
   "cell_type": "code",
   "execution_count": null,
   "metadata": {},
   "outputs": [],
   "source": [
    "# Finally, write this information out to a csv using the csv.DictWriter() function\n",
    "\n",
    "# set up headers\n",
    "\n",
    "# set up filecount\n",
    "\n",
    "# add file metadata to a list of dictionaries\n",
    "\n",
    "# write out the info using csv.DictWriter()"
   ]
  }
 ],
 "metadata": {
  "kernelspec": {
   "display_name": "Python 3.9.6 64-bit",
   "language": "python",
   "name": "python3"
  },
  "language_info": {
   "codemirror_mode": {
    "name": "ipython",
    "version": 3
   },
   "file_extension": ".py",
   "mimetype": "text/x-python",
   "name": "python",
   "nbconvert_exporter": "python",
   "pygments_lexer": "ipython3",
   "version": "3.9.6"
  },
  "orig_nbformat": 4,
  "vscode": {
   "interpreter": {
    "hash": "31f2aee4e71d21fbe5cf8b01ff0e069b9275f58929596ceb00d14d90e3e16cd6"
   }
  }
 },
 "nbformat": 4,
 "nbformat_minor": 2
}
