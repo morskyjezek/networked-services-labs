{
 "cells": [
  {
   "cell_type": "markdown",
   "id": "d5916af1-df40-42d8-b1b5-0209a32d809c",
   "metadata": {},
   "source": [
    "# Regex with Python\n",
    "\n",
    "This notebook introduces use of regular expressions in Python. The example\n",
    "is structured around using regular expressions to match American-style dates\n",
    "in filenames (that is, day-month-year), reorder those into a standard format, and\n",
    "rename the files. \n",
    "\n",
    "## Python libraries/modules used\n",
    "\n",
    "* regular expressions (`re`)\n",
    "* interacting with the filesystem (using the `os` module)\n",
    "\n",
    "\n",
    "## Key points / Questions\n",
    "\n",
    "* How do I implement regular expressions in Python?\n",
    "* How can I create and reuse a regular expression?\n",
    "* What are regular expression groups?\n",
    "* How do I use a regular expression to match a string?\n",
    "* Can I use groups to extract and modify various data points? "
   ]
  },
  {
   "cell_type": "markdown",
   "id": "a6a8dfdc-1e21-4fd0-abcf-0805d8a4b995",
   "metadata": {},
   "source": [
    "## Setup\n",
    "\n",
    "First import `re`, the module for regular expressions."
   ]
  },
  {
   "cell_type": "code",
   "execution_count": 1,
   "id": "46b06ab6-d5dc-41e4-ba21-c0e91ce8b729",
   "metadata": {},
   "outputs": [],
   "source": [
    "import re"
   ]
  },
  {
   "cell_type": "markdown",
   "id": "062a2ea9-616d-406b-83a5-c7c9415d4e13",
   "metadata": {},
   "source": [
    "Now, create some test data to use with later. This is a long string with various common patterns in it, like phone numbers, email addresses, URLs, and subject headings."
   ]
  },
  {
   "cell_type": "code",
   "execution_count": 2,
   "id": "1002b379-cbb2-429c-ad97-348553dbdf44",
   "metadata": {},
   "outputs": [],
   "source": [
    "# test string\n",
    "test_string = \"\"\"My number is 734-764-1817.\n",
    "Or (734) 764-1817 (phone)\n",
    "734 746-1817 (fax)\n",
    "123-567-1839\n",
    "+1 123-567-1839\n",
    "(202) 388-6389\n",
    "\n",
    "librarian@library.org\n",
    "marian@rivercity-library.net\n",
    "librarian@library-carpentry.net\n",
    "superman@sheroes.net\n",
    "superwoman@sheroes.net\n",
    "\n",
    "http://www.librarycarpentry.org\n",
    "http://www.library-carpentry.net \n",
    "https://www2.librarycarpentry.com\n",
    "http://disciplineoforganizing.org\n",
    "http://subdomain.ebook-central.edu\n",
    "http://library.com\n",
    "http://www.google.com\n",
    "\n",
    "Computer programming\n",
    "Libraries--Computer programs--Customizing\n",
    "\n",
    "doge.jpg\n",
    "doge.jpeg\n",
    "doge.JPEG\n",
    "doge.jpeg2000\n",
    "doge.doc\n",
    "doge.docx\n",
    "doge.htm\n",
    "doge.html\n",
    "doge.HTML\"\"\""
   ]
  },
  {
   "cell_type": "markdown",
   "id": "98d6693d-dd97-4915-b78b-b177369ab3cb",
   "metadata": {},
   "source": [
    "## Create a regex pattern\n",
    "\n",
    "Using `re` module, let's try some regexes with the file names we have. To set up a regex in python, use the `re.compile()` function.\n",
    "\n",
    "Let's look for phone numbers first. What's the pattern?\n",
    "\n",
    "_Hint:_ 3 numbers, 3 numbers, 4 numbers; but, there can also be some special cases like parentheses, hyphens."
   ]
  },
  {
   "cell_type": "code",
   "execution_count": 3,
   "id": "df316bd5-6afe-4b07-b1b4-22496afb87e0",
   "metadata": {},
   "outputs": [],
   "source": [
    "phone_number_regex = re.compile(r\"\\(?\\d{3}\\)?-? ?\\d{3}-\\d{4}\")"
   ]
  },
  {
   "cell_type": "markdown",
   "id": "60cf9cef-b09e-443a-9282-69f6a370eba3",
   "metadata": {},
   "source": [
    "## Match a regex pattern\n",
    "\n",
    "Now, there are a few ways that we can reuse that: \n",
    "\n",
    "* `.search()` - returns the first match it finds\n",
    "* `.findall()` - returns all matches it finds; if there are no groups, it returns a list of the matches; if there are groups, it returns a list of tuples with the matches\n",
    "* `.finditer()` - returns an \"iterable\", that is, something we can loop through like a list\n",
    "\n",
    "In the examples below, `mo` is used as a common variable indicating \"match object\", though this is like any other variable and you can name it what you want. You may see this abbreviated to `m` in the Python documentation or other projects."
   ]
  },
  {
   "cell_type": "code",
   "execution_count": 4,
   "id": "76287860-7503-4a59-acd7-1ceeb0040af7",
   "metadata": {},
   "outputs": [
    {
     "name": "stdout",
     "output_type": "stream",
     "text": [
      "<re.Match object; span=(13, 25), match='734-764-1817'>\n"
     ]
    }
   ],
   "source": [
    "mo = re.search(phone_number_regex, test_string)\n",
    "\n",
    "print(mo)"
   ]
  },
  {
   "cell_type": "code",
   "execution_count": 5,
   "id": "78317b9a-d3e0-4544-bf93-71f58ee2bc47",
   "metadata": {},
   "outputs": [
    {
     "data": {
      "text/plain": [
       "['734-764-1817',\n",
       " '(734) 764-1817',\n",
       " '734 746-1817',\n",
       " '123-567-1839',\n",
       " '123-567-1839',\n",
       " '(202) 388-6389']"
      ]
     },
     "execution_count": 5,
     "metadata": {},
     "output_type": "execute_result"
    }
   ],
   "source": [
    "re.findall(phone_number_regex, test_string)"
   ]
  },
  {
   "cell_type": "code",
   "execution_count": 6,
   "id": "137c4bbb-4852-46ad-b5f7-46313cd122ee",
   "metadata": {},
   "outputs": [
    {
     "name": "stdout",
     "output_type": "stream",
     "text": [
      "(13, 25) 734-764-1817\n",
      "(30, 44) (734) 764-1817\n",
      "(53, 65) 734 746-1817\n",
      "(72, 84) 123-567-1839\n",
      "(88, 100) 123-567-1839\n",
      "(101, 115) (202) 388-6389\n"
     ]
    }
   ],
   "source": [
    "for mo in re.finditer(phone_number_regex, test_string):\n",
    "    print(mo.span(), mo.group())"
   ]
  },
  {
   "cell_type": "markdown",
   "id": "475466df-7d29-4f1d-a4bb-ce11e84e49f4",
   "metadata": {},
   "source": [
    "Note that the match object spans correspond to the start and end positions. \n",
    "That can be used to slice the string, for example:"
   ]
  },
  {
   "cell_type": "code",
   "execution_count": 7,
   "id": "a72cb4ec-2e36-41ed-997d-36651b00cc46",
   "metadata": {},
   "outputs": [
    {
     "data": {
      "text/plain": [
       "'734-764-1817'"
      ]
     },
     "execution_count": 7,
     "metadata": {},
     "output_type": "execute_result"
    }
   ],
   "source": [
    "test_string[13:25]"
   ]
  },
  {
   "cell_type": "markdown",
   "id": "34d72537-1237-4835-91e6-668414081ada",
   "metadata": {},
   "source": [
    "# Using groups\n",
    "\n",
    "Now, we can add groups, say for the area code and the rest of the number. First, `.compile()` the regex pattern:"
   ]
  },
  {
   "cell_type": "code",
   "execution_count": 8,
   "id": "b3313544-95da-4d79-9d9a-bbebbb75d395",
   "metadata": {},
   "outputs": [],
   "source": [
    "phone_number_regex_with_groups = re.compile(r\"\\(?(\\d\\d\\d)\\)?-? ?(\\d{3}-\\d{4})\")"
   ]
  },
  {
   "cell_type": "markdown",
   "id": "d2fc55a1-0553-4a63-a588-23ce47898c31",
   "metadata": {},
   "source": [
    "Next, search. This time, other methods are available:\n",
    "\n",
    "* `.group()` matches a specific group (you can specify the group by passing a number in as the argument\n",
    "* `.groups()` returns a tuple of all of the groups in the match"
   ]
  },
  {
   "cell_type": "markdown",
   "id": "685e9893-f09b-48d8-bb0f-e39a548e0626",
   "metadata": {},
   "source": [
    "When used with groups, `.findall()` returns a list of tuples, so we can reference things using their index in the list (`mo[i]`) and then access the elements of the match using their index in the tuple (`mo[i][index_in_tuple]`). "
   ]
  },
  {
   "cell_type": "code",
   "execution_count": 9,
   "id": "459923ee-94c5-45a2-b666-bf0a5ccfe616",
   "metadata": {},
   "outputs": [
    {
     "name": "stdout",
     "output_type": "stream",
     "text": [
      "734 | 764-1817\n",
      "734 | 764-1817\n",
      "734 | 746-1817\n",
      "123 | 567-1839\n",
      "123 | 567-1839\n",
      "202 | 388-6389\n"
     ]
    }
   ],
   "source": [
    "mo = re.findall(phone_number_regex_with_groups, test_string)\n",
    "\n",
    "for i in range(0,len(mo)):\n",
    "    print(mo[i][0], '|', mo[i][1])"
   ]
  },
  {
   "cell_type": "markdown",
   "id": "eb40d9a4-9580-48fc-8f3f-2ad027854765",
   "metadata": {},
   "source": [
    "Or, use the `.finditer()`, which we can iterate through as in a list and then use the `.group()` method to reference the groups by their number:\n",
    "\n",
    "From `phone_number_regex_with_groups`:\n",
    "\n",
    "| `\\(?` | `(\\d\\d\\d)` | `\\)?-? ?` | `(\\d{3}-\\d{4})` |\n",
    "| --- | --- | --- | --- |\n",
    "| ungrouped | Group 1 | ungrouped | Group 2 |"
   ]
  },
  {
   "cell_type": "code",
   "execution_count": 10,
   "id": "49a78d4b-8b30-4edc-9be5-4ac5d9255f81",
   "metadata": {},
   "outputs": [
    {
     "name": "stdout",
     "output_type": "stream",
     "text": [
      "<re.Match object; span=(13, 25), match='734-764-1817'>\n",
      "<re.Match object; span=(30, 44), match='(734) 764-1817'>\n",
      "<re.Match object; span=(53, 65), match='734 746-1817'>\n",
      "<re.Match object; span=(72, 84), match='123-567-1839'>\n",
      "<re.Match object; span=(88, 100), match='123-567-1839'>\n",
      "<re.Match object; span=(101, 115), match='(202) 388-6389'>\n"
     ]
    }
   ],
   "source": [
    "for mo in re.finditer(phone_number_regex_with_groups, test_string):\n",
    "    print(mo)"
   ]
  },
  {
   "cell_type": "code",
   "execution_count": 11,
   "id": "171da895-02b0-4dbb-9cac-22a5ef8156a3",
   "metadata": {},
   "outputs": [
    {
     "name": "stdout",
     "output_type": "stream",
     "text": [
      "positions: (13, 25) \tGroup 1: 734 | Group 2: 764-1817\n",
      "positions: (30, 44) \tGroup 1: 734 | Group 2: 764-1817\n",
      "positions: (53, 65) \tGroup 1: 734 | Group 2: 746-1817\n",
      "positions: (72, 84) \tGroup 1: 123 | Group 2: 567-1839\n",
      "positions: (88, 100) \tGroup 1: 123 | Group 2: 567-1839\n",
      "positions: (101, 115) \tGroup 1: 202 | Group 2: 388-6389\n"
     ]
    }
   ],
   "source": [
    "for mo in re.finditer(phone_number_regex_with_groups, test_string):\n",
    "    print('positions:', mo.span(), '\\tGroup 1:', mo.group(1), '| Group 2:', mo.group(2))"
   ]
  },
  {
   "cell_type": "markdown",
   "id": "5acd3488-76dd-4708-9109-fcd4524011bf",
   "metadata": {},
   "source": [
    "### How about searching for URLs?"
   ]
  },
  {
   "cell_type": "code",
   "execution_count": 12,
   "id": "7a2523b4-f40b-4ebf-a415-258f77970748",
   "metadata": {
    "tags": []
   },
   "outputs": [],
   "source": [
    "url_regex = re.compile(r'https?:\\/\\/www\\..*\\.com')"
   ]
  },
  {
   "cell_type": "code",
   "execution_count": 13,
   "id": "4df80d46-00e1-41b8-8716-7ddc5330deaa",
   "metadata": {},
   "outputs": [
    {
     "name": "stdout",
     "output_type": "stream",
     "text": [
      "<re.Match object; span=(433, 454), match='http://www.google.com'>\n"
     ]
    }
   ],
   "source": [
    "mo = re.search(url_regex, test_string)\n",
    "\n",
    "print(mo)"
   ]
  },
  {
   "cell_type": "code",
   "execution_count": 14,
   "id": "e3817b1a-2bae-42cc-b329-924f85db014e",
   "metadata": {},
   "outputs": [
    {
     "name": "stdout",
     "output_type": "stream",
     "text": [
      "['http://www.google.com']\n"
     ]
    }
   ],
   "source": [
    "mo = re.findall(url_regex, test_string)\n",
    "\n",
    "print(mo)"
   ]
  },
  {
   "cell_type": "markdown",
   "id": "73cba955-a17c-4127-9115-37df80e831cb",
   "metadata": {},
   "source": [
    "But there are a lot of patterns that aren't matching, including `https` URLs, those with subdomains other than `www` (or no subdomain), and those that are not `.com` sites. Can you develop some refinements that will match those other patterns? Here's one way using groups: "
   ]
  },
  {
   "cell_type": "code",
   "execution_count": 15,
   "id": "246f7f21-b389-454c-91c8-c0770cddc830",
   "metadata": {
    "tags": []
   },
   "outputs": [],
   "source": [
    "url_regex_with_groups = re.compile(r\"(http|https)(:\\/\\/)(\\w*)\\.(.*)\\.(org|net|com|edu)\")"
   ]
  },
  {
   "cell_type": "code",
   "execution_count": 17,
   "id": "8909f532-6b6f-4f9f-8763-4e6fc312a596",
   "metadata": {},
   "outputs": [
    {
     "name": "stdout",
     "output_type": "stream",
     "text": [
      "[('http', '://', 'www', 'librarycarpentry', 'org'), ('http', '://', 'www', 'library-carpentry', 'net'), ('https', '://', 'www2', 'librarycarpentry', 'com'), ('http', '://', 'subdomain', 'ebook-central', 'edu'), ('http', '://', 'www', 'google', 'com')]\n"
     ]
    }
   ],
   "source": [
    "mo = re.findall(url_regex_with_groups, test_string)\n",
    "\n",
    "print(mo)"
   ]
  },
  {
   "cell_type": "markdown",
   "id": "282e7f63-1cf7-4168-984c-eeb075d6d578",
   "metadata": {},
   "source": [
    "For an even more detailed parsing, try nested groups to separate out the basic domain (.com, .edu) from the named domain (site.com). Also, we can make the subdomain optional, so it matches domains with no subdomain:"
   ]
  },
  {
   "cell_type": "code",
   "execution_count": 18,
   "id": "13f42299-9bd6-4378-a239-38be72292ece",
   "metadata": {
    "tags": []
   },
   "outputs": [],
   "source": [
    "url_regex_with_nested_groups = re.compile(r\"(http|https)(:\\/\\/)((\\w*)\\.)?((.*)\\.(org|net|com|edu))\")"
   ]
  },
  {
   "cell_type": "markdown",
   "id": "31dbc6b0-1f69-427a-93bc-f93b154947d2",
   "metadata": {},
   "source": [
    "Using `.finditer()` and the `.groups()` method, we can see that these are tuples: "
   ]
  },
  {
   "cell_type": "code",
   "execution_count": 19,
   "id": "b7f685a7-8b73-46c1-8cc2-499b6fe8bb8e",
   "metadata": {},
   "outputs": [
    {
     "name": "stdout",
     "output_type": "stream",
     "text": [
      "<class 'tuple'> 7 ('http', '://', 'www.', 'www', 'librarycarpentry.org', 'librarycarpentry', 'org')\n",
      "<class 'tuple'> 7 ('http', '://', 'www.', 'www', 'library-carpentry.net', 'library-carpentry', 'net')\n",
      "<class 'tuple'> 7 ('https', '://', 'www2.', 'www2', 'librarycarpentry.com', 'librarycarpentry', 'com')\n",
      "<class 'tuple'> 7 ('http', '://', None, None, 'disciplineoforganizing.org', 'disciplineoforganizing', 'org')\n",
      "<class 'tuple'> 7 ('http', '://', 'subdomain.', 'subdomain', 'ebook-central.edu', 'ebook-central', 'edu')\n",
      "<class 'tuple'> 7 ('http', '://', None, None, 'library.com', 'library', 'com')\n",
      "<class 'tuple'> 7 ('http', '://', 'www.', 'www', 'google.com', 'google', 'com')\n"
     ]
    }
   ],
   "source": [
    "for url_mo in re.finditer(url_regex_with_nested_groups, test_string):\n",
    "    print(type(url_mo.groups()),len(url_mo.groups()),url_mo.groups())"
   ]
  },
  {
   "cell_type": "markdown",
   "id": "76d53547-86bf-4b81-9862-b80ec66b7156",
   "metadata": {},
   "source": [
    "## Match file extensions\n",
    "\n",
    "Let's create one that will match different versions of file extensions. What is the basic pattern of a file extension? Generally, a filename ends with three lowercase letters following a dot/period. \n",
    "\n",
    "To ensure that the three suffix letters are indeed at the end, assert that it is the end of the line using the `\\b` selector for word boundary at the end of the regex."
   ]
  },
  {
   "cell_type": "code",
   "execution_count": 20,
   "id": "457b09cd-51b8-43ad-88a7-4338e2266cd4",
   "metadata": {},
   "outputs": [],
   "source": [
    "extension_matcher_basic = re.compile(r'.*\\.\\w\\w\\w\\b')"
   ]
  },
  {
   "cell_type": "markdown",
   "id": "7f5587f0-ec74-4224-8661-f544a001a426",
   "metadata": {},
   "source": [
    "To \"match\" the regex, I use a variable `mo` (match object), although you could use anything else that you want.\n",
    "\n",
    "For a basic search, use the `.match()` function:"
   ]
  },
  {
   "cell_type": "code",
   "execution_count": 21,
   "id": "785805d9-356b-4781-b21c-9f9059f13343",
   "metadata": {},
   "outputs": [],
   "source": [
    "filename_test_string = \"\"\"doge.jpg\n",
    "doge.jpeg\n",
    "doge.JPEG\n",
    "doge.jpeg2000\n",
    "doge.doc\n",
    "doge.docx\n",
    "doge.htm\n",
    "doge.html\n",
    "doge.HTML\"\"\""
   ]
  },
  {
   "cell_type": "code",
   "execution_count": 22,
   "id": "882da5ca-694e-40d3-8b8c-f3b0dbe024f8",
   "metadata": {},
   "outputs": [
    {
     "name": "stdout",
     "output_type": "stream",
     "text": [
      "['doge.jpg', 'doge.doc', 'doge.htm']\n"
     ]
    }
   ],
   "source": [
    "mo = re.findall(extension_matcher_basic, filename_test_string)\n",
    "\n",
    "print(mo)"
   ]
  },
  {
   "cell_type": "markdown",
   "id": "9a86d58c-4c72-45ed-adb4-6c5c329226c1",
   "metadata": {},
   "source": [
    "But as you can see, the three letter extension may be too specific. Here are the filenames we're searching: \n",
    "\n",
    "```txt\n",
    "doge.jpg\n",
    "doge.jpeg\n",
    "doge.JPEG\n",
    "doge.jpeg2000\n",
    "doge.doc\n",
    "doge.docx\n",
    "doge.htm\n",
    "doge.html\n",
    "doge.HTML\n",
    "```\n",
    "\n",
    "All of these are valid filenames, but clearly not all are matched by our basic filename matcher expression. \n",
    "\n",
    "So, let's make it more complex: \n",
    "\n",
    "* must match lower and uppercase (case insensitive)\n",
    "* often 3 or 4 characters\n",
    "* sometimes more (but maybe we can treat these as edge cases one by one)\n",
    "* when you look at the above, note that it is a complex pattern but there are a limited number of options\n",
    "\n",
    "Let's start with the general pattern and more than three letters, but limit to alphanumeric characters:"
   ]
  },
  {
   "cell_type": "code",
   "execution_count": 23,
   "id": "65c56626-2332-470a-bcc9-dceee7fa2e2d",
   "metadata": {},
   "outputs": [],
   "source": [
    "filename_regex_more_complex = re.compile(r'.*\\.[a-zA-Z0-9]{3,8}\\b')"
   ]
  },
  {
   "cell_type": "code",
   "execution_count": 24,
   "id": "b95ac399-1fa2-4176-bc14-fee6e15284b2",
   "metadata": {},
   "outputs": [
    {
     "name": "stdout",
     "output_type": "stream",
     "text": [
      "['doge.jpg', 'doge.jpeg', 'doge.JPEG', 'doge.jpeg2000', 'doge.doc', 'doge.docx', 'doge.htm', 'doge.html', 'doge.HTML']\n"
     ]
    }
   ],
   "source": [
    "mo = re.findall(filename_regex_more_complex, filename_test_string)\n",
    "\n",
    "print(mo)"
   ]
  },
  {
   "cell_type": "markdown",
   "id": "0f8e597c-7fbc-4bf9-99f8-d32da0001731",
   "metadata": {},
   "source": [
    "Now, the expression matches any alphanumeric string of 3 to 8 characters following a `.` and \n",
    "up to a whitespace (word boundary)."
   ]
  },
  {
   "cell_type": "markdown",
   "id": "920ba925-e4ba-4a70-8adf-5f61bc1c42b8",
   "metadata": {},
   "source": [
    "------\n",
    "Synthesis: regex + file manipulation\n",
    "\n",
    "## Joining it together: regex and file renaming\n",
    "\n",
    "This section requires `re`, `os`, and `shutils`."
   ]
  },
  {
   "cell_type": "code",
   "execution_count": 25,
   "id": "6579cf62-e21b-487f-992c-8fd3b97d1db0",
   "metadata": {},
   "outputs": [],
   "source": [
    "import os"
   ]
  },
  {
   "cell_type": "markdown",
   "id": "352d8832-c152-44c4-8eb7-19c0eaea766f",
   "metadata": {},
   "source": [
    "Create list of the files we want to parse (in `data/shell-tests`)"
   ]
  },
  {
   "cell_type": "code",
   "execution_count": 27,
   "id": "68917e0c-ab7e-43f4-81f9-a9635e402640",
   "metadata": {},
   "outputs": [
    {
     "name": "stdout",
     "output_type": "stream",
     "text": [
      "Found 7 files: ['diary-04-23-20.docx', 'observations-03-30-2018.csv', '08-12-1997-items.xlsx', 'diary-04-23-19.doc', '08-12-1997-items.xls', 'books-on-shelves12-3-2002.txt', 'sightings-202203.jpg']\n"
     ]
    }
   ],
   "source": [
    "data_folder = 'data'\n",
    "files_folder = 'filenames-with-american-dates'\n",
    "\n",
    "#file_list = os.listdir(os.path.join(os.getcwd(), data_folder, files_folder))\n",
    "american_date_filenames = os.listdir(os.path.join(os.getcwd(), data_folder, files_folder))\n",
    "\n",
    "print('Found',len(american_date_filenames),'files:',american_date_filenames)"
   ]
  },
  {
   "cell_type": "markdown",
   "id": "5e30bd88-7b69-4874-9a74-88ca5f63fcb3",
   "metadata": {},
   "source": [
    "Now we'll use an additional feature of regex building in Python, the `re.VERBOSE` option. You can add this to your compile string to allow for the inclusion of whitespace in between elements of the regex, such as groups. In this case, I want to separate out the parts because it makes the groups (a bit) easier to track\n",
    "\n",
    "Hint: for more complex regexes like this next one, use a regex tool like [Regex101](https://regex101.com/) or [RegEx Pal](https://www.regexpal.com/) to develop your pattern string first. Easier than working like this in Python. "
   ]
  },
  {
   "cell_type": "code",
   "execution_count": 28,
   "id": "a99cc1e8-f9d9-4deb-a23c-4f74c03eb5dc",
   "metadata": {},
   "outputs": [],
   "source": [
    "US_date_pattern = re.compile(r\"\"\"^(.*?) # Group 1: all text that might be before the date \n",
    "                           ((0|1)?\\d)-   #  match a 1- or 2-digit month, assuming separator is a hyphen\n",
    "                           ((0|1|2|3)?\\d)- #  match a 1- or 2-digit day\n",
    "                           ((19|20)?\\d\\d) #  match a 2-digit year or 4-digit year, 1900s or 2000s\n",
    "                           (.*?)$       #  suffix\n",
    "                           \"\"\", re.VERBOSE) # the re.VERBOSE argument allows us to use this sort of extended display, which can be useful for long or complicated expressions"
   ]
  },
  {
   "cell_type": "markdown",
   "id": "6e1918f2-4b9b-47f8-a299-f21cdcd28a95",
   "metadata": {},
   "source": [
    "So, let's check it. Questions to consider: \n",
    "\n",
    "* is the pattern matching all of the things we want it to? \n",
    "* are there any non-\"American\" dates that it matches? \n",
    "\n",
    "Okay, let's try it out and see if we can assign the groups to variables, so we can use them later on: "
   ]
  },
  {
   "cell_type": "code",
   "execution_count": 29,
   "id": "5df06c94-3185-4b6a-8260-66268ce2b4b9",
   "metadata": {},
   "outputs": [
    {
     "name": "stdout",
     "output_type": "stream",
     "text": [
      "Retrieved: diary-04-23-20.docx \n",
      "prefix: diary- \n",
      "month: 04 \n",
      "day: 23 \n",
      "year: 20 \n",
      "suffix: .docx \n",
      "\n",
      "Retrieved: observations-03-30-2018.csv \n",
      "prefix: observations- \n",
      "month: 03 \n",
      "day: 30 \n",
      "year: 2018 \n",
      "suffix: .csv \n",
      "\n",
      "Retrieved: 08-12-1997-items.xlsx \n",
      "prefix:  \n",
      "month: 08 \n",
      "day: 12 \n",
      "year: 1997 \n",
      "suffix: -items.xlsx \n",
      "\n",
      "Retrieved: diary-04-23-19.doc \n",
      "prefix: diary- \n",
      "month: 04 \n",
      "day: 23 \n",
      "year: 19 \n",
      "suffix: .doc \n",
      "\n",
      "Retrieved: 08-12-1997-items.xls \n",
      "prefix:  \n",
      "month: 08 \n",
      "day: 12 \n",
      "year: 1997 \n",
      "suffix: -items.xls \n",
      "\n",
      "Retrieved: books-on-shelves12-3-2002.txt \n",
      "prefix: books-on-shelves \n",
      "month: 12 \n",
      "day: 3 \n",
      "year: 2002 \n",
      "suffix: .txt \n",
      "\n",
      "no match: sightings-202203.jpg\n"
     ]
    }
   ],
   "source": [
    "for file in american_date_filenames:\n",
    "    mo = US_date_pattern.match(file)\n",
    "    \n",
    "    # continue to the next if it doesn't match\n",
    "    if mo == None:\n",
    "        print(\"no match:\",file)\n",
    "        continue\n",
    "    \n",
    "    prefix    = mo.group(1)\n",
    "    monthPart = mo.group(2)\n",
    "    dayPart   = mo.group(4)\n",
    "    yearPart  = mo.group(6)\n",
    "    suffix    = mo.group(8)\n",
    "    \n",
    "    print(\"Retrieved:\", file, \"\\nprefix:\", prefix, \"\\nmonth:\", monthPart, \"\\nday:\", dayPart, \"\\nyear:\", yearPart, \"\\nsuffix:\", suffix, \"\\n\")"
   ]
  },
  {
   "cell_type": "markdown",
   "id": "393006fc-0e66-4fb1-a354-0e41612da565",
   "metadata": {},
   "source": [
    "TODO: now that our match is working, use the `os` tools to rename the files with datestrings consistent with ISO 8601. That is, YYYY-MM-DD: "
   ]
  },
  {
   "cell_type": "markdown",
   "id": "6e3e0cf0-7829-4856-be7d-1a450e8809b8",
   "metadata": {},
   "source": [
    "## Practice Questions\n",
    "\n",
    "These are inspired in part from Al Sweigart, _Automate the Boring Stuff with Python_ (2015 version).\n",
    "\n",
    "1. What function do you use in Python to create a regex pattern?\n",
    "1. What does the re `.search()` method return?\n",
    "1. How can you display or return the strings that are matched? (The use fo `group` can be a bit unexpected in the implementation of this python library.)\n",
    "1. Can you write a regex that matches a number with commas for every three digits? It would match:\n",
    "  * 42\n",
    "  * 1,234\n",
    "  * 6,368,745\n",
    "  * but not match:\n",
    "  * 12,24,567 (2 digits)\n",
    "  * 1234 (no commas)\n",
    "1. The `findall()` method can return a list of strings or a list of tuples. Why would it return one or the other? "
   ]
  }
 ],
 "metadata": {
  "kernelspec": {
   "display_name": "Python 3 (ipykernel)",
   "language": "python",
   "name": "python3"
  },
  "language_info": {
   "codemirror_mode": {
    "name": "ipython",
    "version": 3
   },
   "file_extension": ".py",
   "mimetype": "text/x-python",
   "name": "python",
   "nbconvert_exporter": "python",
   "pygments_lexer": "ipython3",
   "version": "3.9.12"
  }
 },
 "nbformat": 4,
 "nbformat_minor": 5
}
