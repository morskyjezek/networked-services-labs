{
 "cells": [
  {
   "cell_type": "markdown",
   "metadata": {},
   "source": [
    "# Workbook for accessing loc.gov API\n",
    "\n",
    "This workbook provides prompts for working with the loc.gov API. \n",
    "For reference, also see: \n",
    "\n",
    "* Laura Wrubel's [documentation of the API](https://libraryofcongress.github.io/data-exploration/)\n",
    "* New Library [explanation of the API](https://www.loc.gov/apis/json-and-yaml/).\n",
    "* Library's [Data Exploration notebooks series](https://github.com/LibraryOfCongress/data-exploration).\n",
    "\n",
    "## Setup\n",
    "More advanced work may require additional modules, but the \n",
    "basic actions of interacting with an API can be acomplished \n",
    "using the requests module. \n",
    "Related work may benefit from Python's JSON and CSV libraries, \n",
    "as well as the os, os.path, and glob libraries\n",
    "to support working with local files.     "
   ]
  },
  {
   "cell_type": "code",
   "execution_count": 5,
   "metadata": {},
   "outputs": [],
   "source": [
    "# write your import statements\n",
    "import requests"
   ]
  },
  {
   "cell_type": "markdown",
   "metadata": {},
   "source": [
    "## Making an API call\n",
    "\n",
    "Use requests to scrape some data from an API endpoint. In this case, we can use the Library of Congress search function, which is a REST API that responds to HTTP requests.\n",
    "\n",
    "The documentation for requests can be found here: http://docs.python-requests.org/en/master/\n",
    "\n",
    "There are multiple loc endpoints, which access different collection aspects. \n",
    "Consult the documentation here: https://www.loc.gov/apis/json-and-yaml/requests/. \n",
    "\n",
    "The endpoint for the search query is http://www.loc.gov/search/\n",
    "\n",
    "The response can be modified by supplying various parameters:\n",
    "* To request the json format, use the `fo=json` parameter. \n",
    "* To provide a search query, use the `q` parameter, for example how would you search for images of kittens? \n",
    "* To specify images, use the `fa=online-format:image` paramter."
   ]
  },
  {
   "cell_type": "code",
   "execution_count": 3,
   "metadata": {},
   "outputs": [],
   "source": [
    "searchendpoint = 'http://www.loc.gov/search/'\n",
    "\n",
    "parameters = {\n",
    "    'fo' : 'json',\n",
    "    'q'  : 'kittens',\n",
    "    'fa' : 'online-format:image'\n",
    "}"
   ]
  },
  {
   "cell_type": "code",
   "execution_count": 6,
   "metadata": {},
   "outputs": [],
   "source": [
    "r = requests.get(searchendpoint, params=parameters)"
   ]
  },
  {
   "cell_type": "code",
   "execution_count": 9,
   "metadata": {},
   "outputs": [
    {
     "data": {
      "text/plain": [
       "'https://www.loc.gov/search/?fo=json&q=kittens&fa=online-format%3Aimage'"
      ]
     },
     "execution_count": 9,
     "metadata": {},
     "output_type": "execute_result"
    }
   ],
   "source": [
    "r.url"
   ]
  },
  {
   "cell_type": "markdown",
   "metadata": {},
   "source": [
    "You can explore the headers by calling `r.headers`, which is a dictionary. You can see the items in the dictionary using the `keys()` function:"
   ]
  },
  {
   "cell_type": "code",
   "execution_count": 12,
   "metadata": {},
   "outputs": [
    {
     "name": "stdout",
     "output_type": "stream",
     "text": [
      "Date\n",
      "Content-Type\n",
      "Content-Length\n",
      "Connection\n",
      "X-Robots-Tag\n",
      "X-Frame-Options\n",
      "Access-Control-Allow-Origin\n",
      "Referrer-Policy\n",
      "Strict-Transport-Security\n",
      "X-Content-Type-Options\n",
      "ETag\n",
      "Expires\n",
      "Content-Security-Policy\n",
      "X-Grace\n",
      "X-Nearside-Cache\n",
      "X-Nearside-Cache-Hits\n",
      "Cache-Control\n",
      "Age\n",
      "Accept-Ranges\n",
      "CF-Cache-Status\n",
      "Server\n",
      "CF-RAY\n"
     ]
    }
   ],
   "source": [
    "for key in r.headers.keys():\n",
    "    print(key)"
   ]
  },
  {
   "cell_type": "markdown",
   "metadata": {},
   "source": [
    "The response is a JSON object. You can use the JSON library to parse this. \n",
    "You can also use requests' built-in json function:  "
   ]
  },
  {
   "cell_type": "code",
   "execution_count": 14,
   "metadata": {},
   "outputs": [
    {
     "data": {
      "text/plain": [
       "dict_keys(['breadcrumbs', 'expert_resources', 'facet_trail', 'facet_views', 'facets', 'form_facets', 'options', 'pagination', 'results', 'search', 'timestamp', 'views'])"
      ]
     },
     "execution_count": 14,
     "metadata": {},
     "output_type": "execute_result"
    }
   ],
   "source": [
    "r.json().keys()"
   ]
  },
  {
   "cell_type": "markdown",
   "metadata": {},
   "source": [
    "### What is the pagination info?"
   ]
  },
  {
   "cell_type": "code",
   "execution_count": 22,
   "metadata": {},
   "outputs": [
    {
     "data": {
      "text/plain": [
       "dict_keys(['current', 'first', 'from', 'last', 'next', 'of', 'page_list', 'perpage', 'perpage_options', 'previous', 'results', 'to', 'total'])"
      ]
     },
     "execution_count": 22,
     "metadata": {},
     "output_type": "execute_result"
    }
   ],
   "source": [
    "r.json()['pagination'].keys()"
   ]
  },
  {
   "cell_type": "code",
   "execution_count": 19,
   "metadata": {},
   "outputs": [
    {
     "data": {
      "text/plain": [
       "1257"
      ]
     },
     "execution_count": 19,
     "metadata": {},
     "output_type": "execute_result"
    }
   ],
   "source": [
    "r.json()['pagination']['total']"
   ]
  },
  {
   "cell_type": "markdown",
   "metadata": {},
   "source": [
    "In theory, you could use this as the definition of a range function and request the list of all 31,000+ kitten images. "
   ]
  },
  {
   "cell_type": "markdown",
   "metadata": {},
   "source": [
    "### Where are the data about the items? \n",
    "\n",
    "Hint: what are the `results`?"
   ]
  },
  {
   "cell_type": "code",
   "execution_count": 27,
   "metadata": {},
   "outputs": [
    {
     "data": {
      "text/plain": [
       "25"
      ]
     },
     "execution_count": 27,
     "metadata": {},
     "output_type": "execute_result"
    }
   ],
   "source": [
    "len(r.json()['results'])"
   ]
  },
  {
   "cell_type": "markdown",
   "metadata": {},
   "source": [
    "This makes sense since the pagination is set to 25 per page, so this is likely the items. In other words, the things we want to take a look at. "
   ]
  },
  {
   "cell_type": "code",
   "execution_count": 26,
   "metadata": {},
   "outputs": [
    {
     "data": {
      "text/plain": [
       "dict_keys(['access_restricted', 'aka', 'campaigns', 'contributor', 'date', 'dates', 'description', 'digitized', 'extract_timestamp', 'group', 'hassegments', 'id', 'image_url', 'index', 'item', 'language', 'location', 'location_country', 'mime_type', 'number', 'number_former_id', 'online_format', 'original_format', 'other_title', 'partof', 'related', 'reproductions', 'resources', 'shelf_id', 'site', 'subject', 'timestamp', 'title', 'unrestricted', 'url'])"
      ]
     },
     "execution_count": 26,
     "metadata": {},
     "output_type": "execute_result"
    }
   ],
   "source": [
    "r.json()['results'][0].keys()"
   ]
  },
  {
   "cell_type": "markdown",
   "metadata": {},
   "source": [
    "### How can we find the URL to the images?\n",
    "\n",
    "Start by isolating the item information. . . "
   ]
  },
  {
   "cell_type": "code",
   "execution_count": 29,
   "metadata": {},
   "outputs": [
    {
     "name": "stdout",
     "output_type": "stream",
     "text": [
      "25\n"
     ]
    }
   ],
   "source": [
    "kittenList = r.json()['results']\n",
    "\n",
    "print(len(kittenList))"
   ]
  },
  {
   "cell_type": "code",
   "execution_count": 31,
   "metadata": {},
   "outputs": [
    {
     "data": {
      "text/plain": [
       "dict_keys(['access_restricted', 'aka', 'campaigns', 'contributor', 'date', 'dates', 'description', 'digitized', 'extract_timestamp', 'group', 'hassegments', 'id', 'image_url', 'index', 'item', 'language', 'location', 'location_country', 'mime_type', 'number', 'number_former_id', 'online_format', 'original_format', 'other_title', 'partof', 'related', 'reproductions', 'resources', 'shelf_id', 'site', 'subject', 'timestamp', 'title', 'unrestricted', 'url'])"
      ]
     },
     "execution_count": 31,
     "metadata": {},
     "output_type": "execute_result"
    }
   ],
   "source": [
    "kittenList[0].keys()"
   ]
  },
  {
   "cell_type": "markdown",
   "metadata": {},
   "source": [
    "What is the `url` value?"
   ]
  },
  {
   "cell_type": "code",
   "execution_count": 32,
   "metadata": {},
   "outputs": [
    {
     "name": "stdout",
     "output_type": "stream",
     "text": [
      "https://www.loc.gov/item/2016892679/\n",
      "https://www.loc.gov/item/20002503/\n",
      "https://www.loc.gov/item/sm1880.04831/\n",
      "https://www.loc.gov/item/2013646722/\n",
      "https://www.loc.gov/item/2017650796/\n",
      "https://www.loc.gov/item/2008461635/\n",
      "https://www.loc.gov/item/20020550/\n",
      "https://www.loc.gov/item/04028966/\n",
      "https://www.loc.gov/item/jukebox-668708/\n",
      "https://www.loc.gov/item/sm1883.19433/\n",
      "https://www.loc.gov/item/sm1879.15529/\n",
      "https://www.loc.gov/item/2016780779/\n",
      "https://www.loc.gov/item/2016770792/\n",
      "https://www.loc.gov/item/2016816441/\n",
      "https://www.loc.gov/item/2016817090/\n",
      "https://www.loc.gov/item/2008660988/\n",
      "https://www.loc.gov/item/2005681032/\n",
      "https://www.loc.gov/item/2016796464/\n",
      "https://www.loc.gov/item/2022653071/\n",
      "https://www.loc.gov/item/2022652300/\n",
      "https://www.loc.gov/item/2014717546/\n",
      "https://www.loc.gov/item/2002706499/\n",
      "https://www.loc.gov/item/22017222/\n",
      "https://www.loc.gov/item/sm1882.12947/\n",
      "https://www.loc.gov/item/2002697129/\n"
     ]
    }
   ],
   "source": [
    "for kitten in kittenList: \n",
    "    print(kitten['url'])"
   ]
  },
  {
   "cell_type": "markdown",
   "metadata": {},
   "source": [
    "### Can you save the item metadata to a local file?"
   ]
  },
  {
   "cell_type": "code",
   "execution_count": null,
   "metadata": {},
   "outputs": [],
   "source": []
  }
 ],
 "metadata": {
  "kernelspec": {
   "display_name": "Python 3.9.12 ('base')",
   "language": "python",
   "name": "python3"
  },
  "language_info": {
   "codemirror_mode": {
    "name": "ipython",
    "version": 3
   },
   "file_extension": ".py",
   "mimetype": "text/x-python",
   "name": "python",
   "nbconvert_exporter": "python",
   "pygments_lexer": "ipython3",
   "version": "3.9.12"
  },
  "orig_nbformat": 4,
  "vscode": {
   "interpreter": {
    "hash": "433e84b6a98ffad52b36edc50e1a65f78fac85298e4e4f5ab24f4a24b9cfbcd2"
   }
  }
 },
 "nbformat": 4,
 "nbformat_minor": 2
}
