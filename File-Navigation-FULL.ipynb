{
 "cells": [
  {
   "cell_type": "markdown",
   "metadata": {},
   "source": [
    "# Writing Files, Inventorying Files\n",
    "\n",
    "This notebook goes through the basics of writing files. We look through one basic example and one that extracts specific information from one file then writes it to a new file. After that, we look at a few modules that will help us to build an inventory of basic system information including filenames, locations (paths), and sizes. Once we identify this information we can use it to create an inventory manifest. \n",
    "\n",
    "## Python libraries/modules used\n",
    "\n",
    "* `os` module ([docs](https://docs.python.org/3/library/os.html)) for navigating and interacting with the file system\n",
    "* `os.path` module ([docs](https://docs.python.org/3/library/os.path.html)) for working with paths\n",
    "* `shutil` module ([docs](https://docs.python.org/3/library/shutil.html)) for copying, moving, removing\n",
    "\n",
    "\n",
    "## Key points / Questions\n",
    "\n",
    "* How can I interact with the files on my computer using python?\n",
    "* How can I work with file paths in various operating systems?\n",
    "* How do I move around the file system in Python? \n",
    "* How can I find out the current location on the file system, and how can I look in other locations, using Python?\n",
    "* How can I identify file information and metadata using Python?\n",
    "\n",
    "First, let's look at writing files. "
   ]
  },
  {
   "cell_type": "markdown",
   "metadata": {},
   "source": [
    "## Writing Files\n",
    "\n",
    "The basic function for writing files is the `write()` function. This can be used to write contents from the argument or \n",
    "to write multi-line content. Unlike in other environments like the GUI or shell, where the open command is often assumed, \n",
    "you may need to `open()` and then `close()` files when working in python. You cannot write to a file that is not known and opened, and a file that is not closed may be corrupted. \n",
    "\n",
    "Fortunately, we can usually use the contexual opener:\n",
    "\n",
    "```python\n",
    "with open(file, 'w') as f:\n",
    "    ```\n",
    "\n",
    "This will automatically close the file when the loop completes. The `w` argument indicates that the file is opened in \"write\" mode. If the file doesn't exist, the file will be written. "
   ]
  },
  {
   "cell_type": "code",
   "execution_count": 1,
   "metadata": {},
   "outputs": [],
   "source": [
    "# Basic use of open() and write()\n",
    "\n",
    "line = 'Believe that life is worth living, and your belief will help create the fact.'\n",
    "# Credit William James https://en.wikiquote.org/wiki/William_James\n",
    "\n",
    "fout = open('quote-output.txt', 'w')\n",
    "\n",
    "fout.write(line)\n",
    "\n",
    "fout.close()"
   ]
  },
  {
   "cell_type": "code",
   "execution_count": 2,
   "metadata": {},
   "outputs": [
    {
     "name": "stdout",
     "output_type": "stream",
     "text": [
      "Believe that life is worth living, and your belief will help create the fact.\n"
     ]
    }
   ],
   "source": [
    "# use the with open() syntax to check if the file is there\n",
    "\n",
    "with open('quote-output.txt', 'r') as f:\n",
    "    print(f.read())"
   ]
  },
  {
   "cell_type": "markdown",
   "metadata": {},
   "source": [
    "## OS Navigation and File Paths\n",
    "\n",
    "Now, let's look at moving around and managing file paths. This uses the `os` and `os.path` libraries. We can use the `os` module to interact with the operating system. For example, \n",
    "functions similar to file navigation on the terminal."
   ]
  },
  {
   "cell_type": "code",
   "execution_count": 4,
   "metadata": {},
   "outputs": [],
   "source": [
    "import os\n",
    "import os.path"
   ]
  },
  {
   "cell_type": "markdown",
   "metadata": {},
   "source": [
    "The `getcwd()` funcrtion is like `pwd`:"
   ]
  },
  {
   "cell_type": "code",
   "execution_count": 5,
   "metadata": {},
   "outputs": [
    {
     "data": {
      "text/plain": [
       "'/Users/jajohnst/Desktop/networked-services-labs-2022'"
      ]
     },
     "execution_count": 5,
     "metadata": {},
     "output_type": "execute_result"
    }
   ],
   "source": [
    "os.getcwd()"
   ]
  },
  {
   "cell_type": "markdown",
   "metadata": {},
   "source": [
    "The `chdir()` allows you to move around, like `cd`:"
   ]
  },
  {
   "cell_type": "code",
   "execution_count": 6,
   "metadata": {},
   "outputs": [],
   "source": [
    "os.chdir('data')"
   ]
  },
  {
   "cell_type": "code",
   "execution_count": 7,
   "metadata": {},
   "outputs": [
    {
     "data": {
      "text/plain": [
       "'/Users/jajohnst/Desktop/networked-services-labs-2022/data'"
      ]
     },
     "execution_count": 7,
     "metadata": {},
     "output_type": "execute_result"
    }
   ],
   "source": [
    "os.getcwd()"
   ]
  },
  {
   "cell_type": "code",
   "execution_count": 8,
   "metadata": {},
   "outputs": [],
   "source": [
    "os.chdir('..')"
   ]
  },
  {
   "cell_type": "code",
   "execution_count": 9,
   "metadata": {},
   "outputs": [
    {
     "data": {
      "text/plain": [
       "'/Users/jajohnst/Desktop/networked-services-labs-2022'"
      ]
     },
     "execution_count": 9,
     "metadata": {},
     "output_type": "execute_result"
    }
   ],
   "source": [
    "os.getcwd()"
   ]
  },
  {
   "cell_type": "markdown",
   "metadata": {},
   "source": [
    "You should now be in the repo's top directory (`networked-services-labs-2022`).\n",
    "\n",
    "the `os.path` functions help to work with paths. This can also help to make your scripts more platform agnostic (will usually work in both Mac, Windows, or *nix settings)."
   ]
  },
  {
   "cell_type": "code",
   "execution_count": 10,
   "metadata": {},
   "outputs": [
    {
     "data": {
      "text/plain": [
       "'/Users/jajohnst/Desktop/networked-services-labs-2022'"
      ]
     },
     "execution_count": 10,
     "metadata": {},
     "output_type": "execute_result"
    }
   ],
   "source": [
    "os.getcwd()"
   ]
  },
  {
   "cell_type": "code",
   "execution_count": 11,
   "metadata": {},
   "outputs": [
    {
     "name": "stdout",
     "output_type": "stream",
     "text": [
      "data/emails/mbox-short.txt\n"
     ]
    }
   ],
   "source": [
    "file = 'mbox-short.txt'\n",
    "\n",
    "path_to_file = os.path.join('data','emails',file)\n",
    "\n",
    "print(path_to_file)"
   ]
  },
  {
   "cell_type": "markdown",
   "metadata": {},
   "source": [
    "## Interacting with files and paths\n",
    "\n",
    "We can also extract information from a file then reuse that in another file. \n",
    "For example, we could extract the email addresses from `mbox-short.txt` and create\n",
    "an address book file:"
   ]
  },
  {
   "cell_type": "code",
   "execution_count": 15,
   "metadata": {},
   "outputs": [
    {
     "name": "stdout",
     "output_type": "stream",
     "text": [
      "['stephen.marquard@uct.ac.za', 'louis@media.berkeley.edu', 'zqian@umich.edu', 'rjlowe@iupui.edu', 'cwen@iupui.edu', 'gsilver@umich.edu', 'wagnermr@iupui.edu', 'antranig@caret.cam.ac.uk', 'gopal.ramasammycook@gmail.com', 'david.horwitz@uct.ac.za', 'ray@media.berkeley.edu'] \n",
      "\n",
      "\n",
      "stephen.marquard@uct.ac.za\n",
      "louis@media.berkeley.edu\n",
      "zqian@umich.edu\n",
      "rjlowe@iupui.edu\n",
      "cwen@iupui.edu\n",
      "gsilver@umich.edu\n",
      "wagnermr@iupui.edu\n",
      "antranig@caret.cam.ac.uk\n",
      "gopal.ramasammycook@gmail.com\n",
      "david.horwitz@uct.ac.za\n",
      "ray@media.berkeley.edu\n",
      "\n"
     ]
    }
   ],
   "source": [
    "# set up a file name for a file to create\n",
    "fout = 'email-list.txt'\n",
    "\n",
    "#establish a list to record emails as they are identified\n",
    "emails = []\n",
    "\n",
    "# open the source file to extract emails\n",
    "with open(path_to_file, 'r') as f:\n",
    "    for line in f:\n",
    "        if line.startswith('From:'):\n",
    "            email = line[6:].strip()\n",
    "            if email not in emails:\n",
    "                emails.append(email)\n",
    "print(emails, '\\n\\n')\n",
    "\n",
    "# open another file in write mode to write the emails.\n",
    "with open(fout, 'w') as f:\n",
    "    for email in emails:\n",
    "        f.write(email + '\\n')\n",
    "\n",
    "print(open(fout).read())"
   ]
  },
  {
   "cell_type": "markdown",
   "metadata": {},
   "source": [
    "## Inventorying Files\n",
    "\n",
    "For this activity, we are going to expand the use of modules that allow us to interact with the file system. These should be somewhat familiar after we have already looked into basic shell commands.\n",
    "\n",
    "* `os` assists in using aspects of the operating system, in this case particularly file information and paths. See https://docs.python.org/3/library/os.html; \n",
    "* `os.path` is often called by itself and allows us to interact with file path and directory information. See https://docs.python.org/3/library/os.path.html#module-os.path. \n",
    "* `shutil` allows to access some shell utilities, like move, copy, rename, delete. See https://docs.python.org/3/library/shutil.html?highlight=shutils.\n",
    "\n",
    "We will also use the `csv` module since it will help us to write the information that we gather to a structured data file that can later be opened in Excel or other spreadsheet applications. See https://docs.python.org/3/library/csv.html"
   ]
  },
  {
   "cell_type": "code",
   "execution_count": 4,
   "metadata": {},
   "outputs": [],
   "source": [
    "# if you haven't yet imported the modules, run this cell\n",
    "import os\n",
    "from os.path import join, getsize, getctime\n",
    "import csv"
   ]
  },
  {
   "cell_type": "markdown",
   "metadata": {},
   "source": [
    "Once we know what we want in the csv, how do we get that information? We can use the `os` module to get file information. We will use the `os.walk` function to \"walk\" over the file tree, identify folder lists, paths, and filenames.  "
   ]
  },
  {
   "cell_type": "code",
   "execution_count": 17,
   "metadata": {},
   "outputs": [
    {
     "name": "stdout",
     "output_type": "stream",
     "text": [
      "data/webfiles-samples\n"
     ]
    }
   ],
   "source": [
    "walk_this_directory = os.path.join('data','webfiles-samples')\n",
    "\n",
    "print(walk_this_directory)"
   ]
  },
  {
   "cell_type": "markdown",
   "metadata": {},
   "source": [
    "### Using os.listdir()\n",
    "\n",
    "We can generate a list of the files in the directory using the `os.listdir()` function. This list will include the file names for all the files in the directory. "
   ]
  },
  {
   "cell_type": "code",
   "execution_count": 18,
   "metadata": {},
   "outputs": [
    {
     "name": "stdout",
     "output_type": "stream",
     "text": [
      "['video', '.DS_Store', 'pdf', 'image', 'audio', 'web-files-small-metadata.csv', 'presentation']\n"
     ]
    }
   ],
   "source": [
    "dir_list = os.listdir(walk_this_directory)\n",
    "\n",
    "print(dir_list)"
   ]
  },
  {
   "cell_type": "markdown",
   "metadata": {},
   "source": [
    "Let's use the `listdir()` function to create manifest of the files in the `pdf` directory:"
   ]
  },
  {
   "cell_type": "code",
   "execution_count": 19,
   "metadata": {},
   "outputs": [
    {
     "name": "stdout",
     "output_type": "stream",
     "text": [
      "wrote pdf-file-list.txt\n"
     ]
    }
   ],
   "source": [
    "# create the list\n",
    "pdf_dir_list = os.listdir(os.path.join(walk_this_directory, 'pdf'))\n",
    "\n",
    "# set up a file name for a file to create\n",
    "fout = 'pdf-file-list.txt'\n",
    "\n",
    "# open outfile in write mode to write the filenames\n",
    "with open(fout, 'w') as f:\n",
    "    for filename in pdf_dir_list:\n",
    "        f.write(filename)\n",
    "        f.write('\\n')\n",
    "print('wrote',fout)"
   ]
  },
  {
   "cell_type": "markdown",
   "metadata": {},
   "source": [
    "To view the contents of a file quickly, it's possible to use the `.read()` like `cat` on the terminal."
   ]
  },
  {
   "cell_type": "code",
   "execution_count": 20,
   "metadata": {},
   "outputs": [
    {
     "name": "stdout",
     "output_type": "stream",
     "text": [
      "01-1480.pdf\n",
      "file.pdf\n",
      "Chapter03.pdf\n",
      "PFCHEJ.pdf\n",
      "HR2021 commtext.pdf\n",
      "\n"
     ]
    }
   ],
   "source": [
    "print(open(fout).read())"
   ]
  },
  {
   "cell_type": "markdown",
   "metadata": {},
   "source": [
    "### Using os.scandir()\n",
    "\n",
    "The previous steps are a good way to record a simple list of files in a directory, but there is still a lot of information from the filepath information. For example, what are the abosolute paths to the files? How big are the files? That information is stored in the filesystem, but we do not get it using the listdir() method. \n",
    "\n",
    "We can use the `scandir()` function to get a list that we can iterate through. For example, we may want to check whether items are recognized as files by the system. Other functions, like `os.is_file()`, will evaluate whether the item is a file. We can use this function to create data that we can iterate through using a `with` ... `as` construction, like we have seen in opening files."
   ]
  },
  {
   "cell_type": "code",
   "execution_count": 26,
   "metadata": {},
   "outputs": [
    {
     "name": "stdout",
     "output_type": "stream",
     "text": [
      "Looking at: <DirEntry 'video'>\n",
      "This is a directory and contains 4 files ( ['vlwhcssc.asx', '04-04-21full.asf', 'glmp_cig.EQ.wm.p20.t12z', 'oct17cc.asx'] ).\n",
      "Looking at: <DirEntry '.DS_Store'>\n",
      "This is a file named <DirEntry '.DS_Store'> that takes up 6148 bytes\n",
      "Looking at: <DirEntry 'pdf'>\n",
      "This is a directory and contains 5 files ( ['01-1480.pdf', 'file.pdf', 'Chapter03.pdf', 'PFCHEJ.pdf', 'HR2021 commtext.pdf'] ).\n",
      "Looking at: <DirEntry 'image'>\n",
      "This is a directory and contains 5 files ( ['13080t.jpg', 'orca.via_.moc_.noaa_.jpg', 'k7989-7x.jpg', 'm237a2f.gif', '1005107061.tif'] ).\n",
      "Looking at: <DirEntry 'audio'>\n",
      "This is a directory and contains 4 files ( ['11-3250JohnsonvFolinoEtAl.wma', 'NEWSLINE_802AF71F439D401585C6FCB02F358307.mp3', 'mj_telework_exchange_final_100710.mp3', '000727.ram'] ).\n",
      "Looking at: <DirEntry 'web-files-small-metadata.csv'>\n",
      "This is a file named <DirEntry 'web-files-small-metadata.csv'> that takes up 9069 bytes\n",
      "Looking at: <DirEntry 'presentation'>\n",
      "This is a directory and contains 3 files ( ['BudgetandGrants012710.ppt', 'ADAEMPLOYMENTTaxIncentives.ppt', 'Non-FTE-Trainee-Activities-060109.ppt'] ).\n",
      "Scanned 7 items.\n"
     ]
    }
   ],
   "source": [
    "item_count = 0\n",
    "\n",
    "with os.scandir(walk_this_directory) as items_list:    \n",
    "    for entry in items_list:\n",
    "        item_count += 1\n",
    "        print('Looking at:',entry)\n",
    "        if entry.is_dir():\n",
    "            file_list = os.listdir(os.path.join(entry))\n",
    "            print('This is a directory and contains',len(file_list),'files (',file_list,').')\n",
    "        if entry.is_file():\n",
    "            print('This is a file named',entry,'that takes up',os.path.getsize(entry),'bytes')\n",
    "\n",
    "print('Scanned',item_count,'items.')"
   ]
  },
  {
   "cell_type": "markdown",
   "metadata": {},
   "source": [
    "### Using os.walk()\n",
    "\n",
    "The `os.walk()` function allows us to do a more complex mapping of the directory. This function can be used to create a \"tuple\" &ndash; a special datatype that creates a small, unmutable set that we can reuse &ndash; and we can store that information to derive foldernames and paths to individual files. "
   ]
  },
  {
   "cell_type": "code",
   "execution_count": 27,
   "metadata": {},
   "outputs": [
    {
     "name": "stdout",
     "output_type": "stream",
     "text": [
      "folderName is a type <class 'str'> \n",
      "subfolders is a type <class 'list'> \n",
      "filenames is a type <class 'list'>\n",
      "folderName is a type <class 'str'> \n",
      "subfolders is a type <class 'list'> \n",
      "filenames is a type <class 'list'>\n",
      "folderName is a type <class 'str'> \n",
      "subfolders is a type <class 'list'> \n",
      "filenames is a type <class 'list'>\n",
      "folderName is a type <class 'str'> \n",
      "subfolders is a type <class 'list'> \n",
      "filenames is a type <class 'list'>\n",
      "folderName is a type <class 'str'> \n",
      "subfolders is a type <class 'list'> \n",
      "filenames is a type <class 'list'>\n",
      "folderName is a type <class 'str'> \n",
      "subfolders is a type <class 'list'> \n",
      "filenames is a type <class 'list'>\n"
     ]
    }
   ],
   "source": [
    "for folderName, subfolders, filenames in os.walk(walk_this_directory):\n",
    "    # see what this produces\n",
    "    print('folderName is a type',type(folderName),\n",
    "          '\\nsubfolders is a type',type(subfolders),\n",
    "          '\\nfilenames is a type',type(filenames))\n",
    "\n",
    "    ## so, this is a series of nested loops, \n",
    "    ## the top level produces a string for the folder name, \n",
    "    ## and the secondary levels create lists of the contained folders and files "
   ]
  },
  {
   "cell_type": "code",
   "execution_count": 30,
   "metadata": {},
   "outputs": [
    {
     "name": "stdout",
     "output_type": "stream",
     "text": [
      "data/webfiles-samples consumes 15217 bytes in 2 non-directory files\n",
      "data/webfiles-samples/video consumes 115695 bytes in 4 non-directory files\n",
      "data/webfiles-samples/pdf consumes 149427 bytes in 5 non-directory files\n",
      "data/webfiles-samples/image consumes 497284 bytes in 5 non-directory files\n",
      "data/webfiles-samples/audio consumes 25856261 bytes in 4 non-directory files\n",
      "data/webfiles-samples/presentation consumes 289792 bytes in 3 non-directory files\n"
     ]
    }
   ],
   "source": [
    "# get information about how many files are in each directory and how much space they take up\n",
    "for FolderPaths, SubfolderNames, filenames in os.walk(walk_this_directory):\n",
    "    print(FolderPaths, \"consumes\", end=\" \")\n",
    "    print(sum(os.path.getsize(os.path.join(FolderPaths, name)) for name in filenames), end=\" \")\n",
    "    print(\"bytes in\", len(filenames), \"non-directory files\")\n"
   ]
  },
  {
   "cell_type": "code",
   "execution_count": 34,
   "metadata": {},
   "outputs": [
    {
     "name": "stdout",
     "output_type": "stream",
     "text": [
      "Current folder: data/webfiles-samples\n",
      "Parent folder: data/webfiles-samples ; subfolder: video\n",
      "Parent folder: data/webfiles-samples ; subfolder: pdf\n",
      "Parent folder: data/webfiles-samples ; subfolder: image\n",
      "Parent folder: data/webfiles-samples ; subfolder: audio\n",
      "Parent folder: data/webfiles-samples ; subfolder: presentation\n",
      "The file .DS_Store \n",
      "    This is the folder: data/webfiles-samples \n",
      "    The filepath is: data/webfiles-samples/.DS_Store\n",
      "The file web-files-small-metadata.csv \n",
      "    This is the folder: data/webfiles-samples \n",
      "    The filepath is: data/webfiles-samples/web-files-small-metadata.csv\n",
      "\n",
      "\n",
      "Current folder: data/webfiles-samples/video\n",
      "The file vlwhcssc.asx \n",
      "    This is the folder: data/webfiles-samples/video \n",
      "    The filepath is: data/webfiles-samples/video/vlwhcssc.asx\n",
      "The file 04-04-21full.asf \n",
      "    This is the folder: data/webfiles-samples/video \n",
      "    The filepath is: data/webfiles-samples/video/04-04-21full.asf\n",
      "The file glmp_cig.EQ.wm.p20.t12z \n",
      "    This is the folder: data/webfiles-samples/video \n",
      "    The filepath is: data/webfiles-samples/video/glmp_cig.EQ.wm.p20.t12z\n",
      "The file oct17cc.asx \n",
      "    This is the folder: data/webfiles-samples/video \n",
      "    The filepath is: data/webfiles-samples/video/oct17cc.asx\n",
      "\n",
      "\n",
      "Current folder: data/webfiles-samples/pdf\n",
      "The file 01-1480.pdf \n",
      "    This is the folder: data/webfiles-samples/pdf \n",
      "    The filepath is: data/webfiles-samples/pdf/01-1480.pdf\n",
      "The file file.pdf \n",
      "    This is the folder: data/webfiles-samples/pdf \n",
      "    The filepath is: data/webfiles-samples/pdf/file.pdf\n",
      "The file Chapter03.pdf \n",
      "    This is the folder: data/webfiles-samples/pdf \n",
      "    The filepath is: data/webfiles-samples/pdf/Chapter03.pdf\n",
      "The file PFCHEJ.pdf \n",
      "    This is the folder: data/webfiles-samples/pdf \n",
      "    The filepath is: data/webfiles-samples/pdf/PFCHEJ.pdf\n",
      "The file HR2021 commtext.pdf \n",
      "    This is the folder: data/webfiles-samples/pdf \n",
      "    The filepath is: data/webfiles-samples/pdf/HR2021 commtext.pdf\n",
      "\n",
      "\n",
      "Current folder: data/webfiles-samples/image\n",
      "The file 13080t.jpg \n",
      "    This is the folder: data/webfiles-samples/image \n",
      "    The filepath is: data/webfiles-samples/image/13080t.jpg\n",
      "The file orca.via_.moc_.noaa_.jpg \n",
      "    This is the folder: data/webfiles-samples/image \n",
      "    The filepath is: data/webfiles-samples/image/orca.via_.moc_.noaa_.jpg\n",
      "The file k7989-7x.jpg \n",
      "    This is the folder: data/webfiles-samples/image \n",
      "    The filepath is: data/webfiles-samples/image/k7989-7x.jpg\n",
      "The file m237a2f.gif \n",
      "    This is the folder: data/webfiles-samples/image \n",
      "    The filepath is: data/webfiles-samples/image/m237a2f.gif\n",
      "The file 1005107061.tif \n",
      "    This is the folder: data/webfiles-samples/image \n",
      "    The filepath is: data/webfiles-samples/image/1005107061.tif\n",
      "\n",
      "\n",
      "Current folder: data/webfiles-samples/audio\n",
      "The file 11-3250JohnsonvFolinoEtAl.wma \n",
      "    This is the folder: data/webfiles-samples/audio \n",
      "    The filepath is: data/webfiles-samples/audio/11-3250JohnsonvFolinoEtAl.wma\n",
      "The file NEWSLINE_802AF71F439D401585C6FCB02F358307.mp3 \n",
      "    This is the folder: data/webfiles-samples/audio \n",
      "    The filepath is: data/webfiles-samples/audio/NEWSLINE_802AF71F439D401585C6FCB02F358307.mp3\n",
      "The file mj_telework_exchange_final_100710.mp3 \n",
      "    This is the folder: data/webfiles-samples/audio \n",
      "    The filepath is: data/webfiles-samples/audio/mj_telework_exchange_final_100710.mp3\n",
      "The file 000727.ram \n",
      "    This is the folder: data/webfiles-samples/audio \n",
      "    The filepath is: data/webfiles-samples/audio/000727.ram\n",
      "\n",
      "\n",
      "Current folder: data/webfiles-samples/presentation\n",
      "The file BudgetandGrants012710.ppt \n",
      "    This is the folder: data/webfiles-samples/presentation \n",
      "    The filepath is: data/webfiles-samples/presentation/BudgetandGrants012710.ppt\n",
      "The file ADAEMPLOYMENTTaxIncentives.ppt \n",
      "    This is the folder: data/webfiles-samples/presentation \n",
      "    The filepath is: data/webfiles-samples/presentation/ADAEMPLOYMENTTaxIncentives.ppt\n",
      "The file Non-FTE-Trainee-Activities-060109.ppt \n",
      "    This is the folder: data/webfiles-samples/presentation \n",
      "    The filepath is: data/webfiles-samples/presentation/Non-FTE-Trainee-Activities-060109.ppt\n",
      "\n",
      "\n"
     ]
    }
   ],
   "source": [
    "for folderName, subfolders, filenames in os.walk(walk_this_directory):\n",
    "    print('Current folder:',folderName)\n",
    "    \n",
    "    for subfolder in subfolders:\n",
    "        print('Parent folder:',folderName,'; subfolder:',subfolder)\n",
    "        \n",
    "    for filename in filenames:\n",
    "        print('The file', filename, \n",
    "              '\\n    This is the folder:', folderName,\n",
    "             '\\n    The filepath is:',os.path.join(folderName, filename))\n",
    "    \n",
    "    print('\\n')\n",
    "\n",
    "    ## Note that this does not record hidden items like . and .."
   ]
  },
  {
   "cell_type": "code",
   "execution_count": 35,
   "metadata": {},
   "outputs": [
    {
     "name": "stdout",
     "output_type": "stream",
     "text": [
      "Found: .DS_Store data/webfiles-samples data/webfiles-samples/.DS_Store 6148 \n",
      " /Users/jajohnst/Desktop/networked-services-labs-2022/.DS_Store\n",
      "Found: web-files-small-metadata.csv data/webfiles-samples data/webfiles-samples/web-files-small-metadata.csv 9069 \n",
      " /Users/jajohnst/Desktop/networked-services-labs-2022/web-files-small-metadata.csv\n",
      "Found: vlwhcssc.asx data/webfiles-samples/video data/webfiles-samples/video/vlwhcssc.asx 356 \n",
      " /Users/jajohnst/Desktop/networked-services-labs-2022/vlwhcssc.asx\n",
      "Found: 04-04-21full.asf data/webfiles-samples/video data/webfiles-samples/video/04-04-21full.asf 98 \n",
      " /Users/jajohnst/Desktop/networked-services-labs-2022/04-04-21full.asf\n",
      "Found: glmp_cig.EQ.wm.p20.t12z data/webfiles-samples/video data/webfiles-samples/video/glmp_cig.EQ.wm.p20.t12z 8296 \n",
      " /Users/jajohnst/Desktop/networked-services-labs-2022/glmp_cig.EQ.wm.p20.t12z\n",
      "Found: oct17cc.asx data/webfiles-samples/video data/webfiles-samples/video/oct17cc.asx 106945 \n",
      " /Users/jajohnst/Desktop/networked-services-labs-2022/oct17cc.asx\n",
      "Found: 01-1480.pdf data/webfiles-samples/pdf data/webfiles-samples/pdf/01-1480.pdf 49088 \n",
      " /Users/jajohnst/Desktop/networked-services-labs-2022/01-1480.pdf\n",
      "Found: file.pdf data/webfiles-samples/pdf data/webfiles-samples/pdf/file.pdf 1538 \n",
      " /Users/jajohnst/Desktop/networked-services-labs-2022/file.pdf\n",
      "Found: Chapter03.pdf data/webfiles-samples/pdf data/webfiles-samples/pdf/Chapter03.pdf 51919 \n",
      " /Users/jajohnst/Desktop/networked-services-labs-2022/Chapter03.pdf\n",
      "Found: PFCHEJ.pdf data/webfiles-samples/pdf data/webfiles-samples/pdf/PFCHEJ.pdf 10577 \n",
      " /Users/jajohnst/Desktop/networked-services-labs-2022/PFCHEJ.pdf\n",
      "Found: HR2021 commtext.pdf data/webfiles-samples/pdf data/webfiles-samples/pdf/HR2021 commtext.pdf 36305 \n",
      " /Users/jajohnst/Desktop/networked-services-labs-2022/HR2021 commtext.pdf\n",
      "Found: 13080t.jpg data/webfiles-samples/image data/webfiles-samples/image/13080t.jpg 3764 \n",
      " /Users/jajohnst/Desktop/networked-services-labs-2022/13080t.jpg\n",
      "Found: orca.via_.moc_.noaa_.jpg data/webfiles-samples/image data/webfiles-samples/image/orca.via_.moc_.noaa_.jpg 82546 \n",
      " /Users/jajohnst/Desktop/networked-services-labs-2022/orca.via_.moc_.noaa_.jpg\n",
      "Found: k7989-7x.jpg data/webfiles-samples/image data/webfiles-samples/image/k7989-7x.jpg 7864 \n",
      " /Users/jajohnst/Desktop/networked-services-labs-2022/k7989-7x.jpg\n",
      "Found: m237a2f.gif data/webfiles-samples/image data/webfiles-samples/image/m237a2f.gif 7376 \n",
      " /Users/jajohnst/Desktop/networked-services-labs-2022/m237a2f.gif\n",
      "Found: 1005107061.tif data/webfiles-samples/image data/webfiles-samples/image/1005107061.tif 395734 \n",
      " /Users/jajohnst/Desktop/networked-services-labs-2022/1005107061.tif\n",
      "Found: 11-3250JohnsonvFolinoEtAl.wma data/webfiles-samples/audio data/webfiles-samples/audio/11-3250JohnsonvFolinoEtAl.wma 21423499 \n",
      " /Users/jajohnst/Desktop/networked-services-labs-2022/11-3250JohnsonvFolinoEtAl.wma\n",
      "Found: NEWSLINE_802AF71F439D401585C6FCB02F358307.mp3 data/webfiles-samples/audio data/webfiles-samples/audio/NEWSLINE_802AF71F439D401585C6FCB02F358307.mp3 961195 \n",
      " /Users/jajohnst/Desktop/networked-services-labs-2022/NEWSLINE_802AF71F439D401585C6FCB02F358307.mp3\n",
      "Found: mj_telework_exchange_final_100710.mp3 data/webfiles-samples/audio data/webfiles-samples/audio/mj_telework_exchange_final_100710.mp3 3471488 \n",
      " /Users/jajohnst/Desktop/networked-services-labs-2022/mj_telework_exchange_final_100710.mp3\n",
      "Found: 000727.ram data/webfiles-samples/audio data/webfiles-samples/audio/000727.ram 79 \n",
      " /Users/jajohnst/Desktop/networked-services-labs-2022/000727.ram\n",
      "Found: BudgetandGrants012710.ppt data/webfiles-samples/presentation data/webfiles-samples/presentation/BudgetandGrants012710.ppt 85504 \n",
      " /Users/jajohnst/Desktop/networked-services-labs-2022/BudgetandGrants012710.ppt\n",
      "Found: ADAEMPLOYMENTTaxIncentives.ppt data/webfiles-samples/presentation data/webfiles-samples/presentation/ADAEMPLOYMENTTaxIncentives.ppt 137216 \n",
      " /Users/jajohnst/Desktop/networked-services-labs-2022/ADAEMPLOYMENTTaxIncentives.ppt\n",
      "Found: Non-FTE-Trainee-Activities-060109.ppt data/webfiles-samples/presentation data/webfiles-samples/presentation/Non-FTE-Trainee-Activities-060109.ppt 67072 \n",
      " /Users/jajohnst/Desktop/networked-services-labs-2022/Non-FTE-Trainee-Activities-060109.ppt\n"
     ]
    }
   ],
   "source": [
    "# get information about each of the files\n",
    "for folderName, subfolders, filenames in os.walk(walk_this_directory):\n",
    "    \n",
    "    for filename in filenames:\n",
    "        filename = filename \n",
    "        folder = folderName\n",
    "        path = os.path.join(folderName, filename)\n",
    "        absolutePath = os.path.abspath(filename)\n",
    "        size = os.path.getsize(path)\n",
    "        print('Found:', filename, folder, path, size,'\\n',absolutePath)\n",
    "\n",
    "    ## Note that this does not record hidden items like . and .."
   ]
  },
  {
   "cell_type": "code",
   "execution_count": 36,
   "metadata": {},
   "outputs": [
    {
     "name": "stdout",
     "output_type": "stream",
     "text": [
      "Found 23 items.\n",
      "\n",
      " [[1, '.DS_Store', 'data/webfiles-samples', 'data/webfiles-samples/.DS_Store', 6148], [2, 'web-files-small-metadata.csv', 'data/webfiles-samples', 'data/webfiles-samples/web-files-small-metadata.csv', 9069], [3, 'vlwhcssc.asx', 'data/webfiles-samples/video', 'data/webfiles-samples/video/vlwhcssc.asx', 356], [4, '04-04-21full.asf', 'data/webfiles-samples/video', 'data/webfiles-samples/video/04-04-21full.asf', 98], [5, 'glmp_cig.EQ.wm.p20.t12z', 'data/webfiles-samples/video', 'data/webfiles-samples/video/glmp_cig.EQ.wm.p20.t12z', 8296], [6, 'oct17cc.asx', 'data/webfiles-samples/video', 'data/webfiles-samples/video/oct17cc.asx', 106945], [7, '01-1480.pdf', 'data/webfiles-samples/pdf', 'data/webfiles-samples/pdf/01-1480.pdf', 49088], [8, 'file.pdf', 'data/webfiles-samples/pdf', 'data/webfiles-samples/pdf/file.pdf', 1538], [9, 'Chapter03.pdf', 'data/webfiles-samples/pdf', 'data/webfiles-samples/pdf/Chapter03.pdf', 51919], [10, 'PFCHEJ.pdf', 'data/webfiles-samples/pdf', 'data/webfiles-samples/pdf/PFCHEJ.pdf', 10577], [11, 'HR2021 commtext.pdf', 'data/webfiles-samples/pdf', 'data/webfiles-samples/pdf/HR2021 commtext.pdf', 36305], [12, '13080t.jpg', 'data/webfiles-samples/image', 'data/webfiles-samples/image/13080t.jpg', 3764], [13, 'orca.via_.moc_.noaa_.jpg', 'data/webfiles-samples/image', 'data/webfiles-samples/image/orca.via_.moc_.noaa_.jpg', 82546], [14, 'k7989-7x.jpg', 'data/webfiles-samples/image', 'data/webfiles-samples/image/k7989-7x.jpg', 7864], [15, 'm237a2f.gif', 'data/webfiles-samples/image', 'data/webfiles-samples/image/m237a2f.gif', 7376], [16, '1005107061.tif', 'data/webfiles-samples/image', 'data/webfiles-samples/image/1005107061.tif', 395734], [17, '11-3250JohnsonvFolinoEtAl.wma', 'data/webfiles-samples/audio', 'data/webfiles-samples/audio/11-3250JohnsonvFolinoEtAl.wma', 21423499], [18, 'NEWSLINE_802AF71F439D401585C6FCB02F358307.mp3', 'data/webfiles-samples/audio', 'data/webfiles-samples/audio/NEWSLINE_802AF71F439D401585C6FCB02F358307.mp3', 961195], [19, 'mj_telework_exchange_final_100710.mp3', 'data/webfiles-samples/audio', 'data/webfiles-samples/audio/mj_telework_exchange_final_100710.mp3', 3471488], [20, '000727.ram', 'data/webfiles-samples/audio', 'data/webfiles-samples/audio/000727.ram', 79], [21, 'BudgetandGrants012710.ppt', 'data/webfiles-samples/presentation', 'data/webfiles-samples/presentation/BudgetandGrants012710.ppt', 85504], [22, 'ADAEMPLOYMENTTaxIncentives.ppt', 'data/webfiles-samples/presentation', 'data/webfiles-samples/presentation/ADAEMPLOYMENTTaxIncentives.ppt', 137216], [23, 'Non-FTE-Trainee-Activities-060109.ppt', 'data/webfiles-samples/presentation', 'data/webfiles-samples/presentation/Non-FTE-Trainee-Activities-060109.ppt', 67072]]\n"
     ]
    }
   ],
   "source": [
    "## get information about each of the files\n",
    "\n",
    "# first set some counters\n",
    "fileCount = 0\n",
    "\n",
    "# and a list to hold the information about the file, and another to hold the fileInfo\n",
    "fileInfo = list()\n",
    "manifestInfo = list()\n",
    "\n",
    "for folderName, subfolders, filenames in os.walk(walk_this_directory):    \n",
    "    for filename in filenames:\n",
    "        fileCount += 1\n",
    "        index = fileCount\n",
    "        filename = filename \n",
    "        folder = folderName\n",
    "        path = os.path.join(folderName, filename)\n",
    "        size = os.path.getsize(path)\n",
    "#        print('Found:', filename, folder, path, size)\n",
    "\n",
    "        fileInfo = [\n",
    "            index,\n",
    "            filename,\n",
    "            folder,\n",
    "            path,\n",
    "            size\n",
    "            ]\n",
    "        manifestInfo.append(fileInfo)\n",
    "\n",
    "print('Found',len(manifestInfo),'items.\\n\\n',manifestInfo)"
   ]
  },
  {
   "cell_type": "markdown",
   "metadata": {},
   "source": [
    "There are additional things that the `os` module can tell us. So let's take a moment to pause here to explore some of its additional uses. \n",
    "\n",
    "Now that we can handle file paths, we may want additional information about the files that we are taking a look at. \n",
    "Our goal is to create a script that inventories a specific directory and records metadata about the files in that directory.\n",
    "Using `os.path`, it is possible to get the size of the file (bytes), well as additional path information, such as the full path to the file (aka, the \"absolute path\"), and the \"base\" name of the file (just the name of the file), as well as the file extension. \n",
    "\n",
    "To retrieve this metadata:\n",
    "\n",
    "* `os.path.abspath(path)` returns a string that has the absolute path to the requested argument; this can also be used to convert a relative path to an absolute path\n",
    "* `os.path.relpath(path, start)` returns a string of the relative path to the given argument \"path,\" and you can specify where to \"start\", that is the location. \n",
    "* `os.path.getsize(path)` returns the size of the requested file location in bytes, note that this may require an absolute path argument, so as illustrated below you may need to create the full path\n",
    "* `os.path.splitext(file)` returns a tuple with the first part of the filename as the first element and the the extension of the file as the second element)\n",
    "* `os.path.getmtime(file)` returns a timestamp with the most recent modification time recorded; this should work on both MAC and Windows platforms, but some file metadata will be specific to your operating system; the returned value will be an era number, and to 'decode' the time will require a time conversion, which we will cover later"
   ]
  },
  {
   "cell_type": "markdown",
   "metadata": {},
   "source": [
    "## Getting file hashes\n",
    "\n",
    "There is an additional Python library that can help us create fixity information. The `hashlib` library can craete many different types of has digests, including MD5, SHA256, and SHA512."
   ]
  },
  {
   "cell_type": "code",
   "execution_count": 40,
   "metadata": {},
   "outputs": [],
   "source": [
    "import hashlib"
   ]
  },
  {
   "cell_type": "code",
   "execution_count": 64,
   "metadata": {},
   "outputs": [
    {
     "ename": "AttributeError",
     "evalue": "'posix.DirEntry' object has no attribute 'encode'",
     "output_type": "error",
     "traceback": [
      "\u001b[0;31m---------------------------------------------------------------------------\u001b[0m",
      "\u001b[0;31mAttributeError\u001b[0m                            Traceback (most recent call last)",
      "Input \u001b[0;32mIn [64]\u001b[0m, in \u001b[0;36m<cell line: 3>\u001b[0;34m()\u001b[0m\n\u001b[1;32m      1\u001b[0m \u001b[38;5;66;03m# for example, look at the pdfs\u001b[39;00m\n\u001b[1;32m      3\u001b[0m \u001b[38;5;28;01mfor\u001b[39;00m file \u001b[38;5;129;01min\u001b[39;00m os\u001b[38;5;241m.\u001b[39mscandir(os\u001b[38;5;241m.\u001b[39mpath\u001b[38;5;241m.\u001b[39mjoin(walk_this_directory, \u001b[38;5;124m'\u001b[39m\u001b[38;5;124mpdf\u001b[39m\u001b[38;5;124m'\u001b[39m)):\n\u001b[0;32m----> 5\u001b[0m     \u001b[38;5;28mprint\u001b[39m(os\u001b[38;5;241m.\u001b[39mpath\u001b[38;5;241m.\u001b[39mabspath(file), hashlib\u001b[38;5;241m.\u001b[39mmd5(\u001b[43mfile\u001b[49m\u001b[38;5;241;43m.\u001b[39;49m\u001b[43mencode\u001b[49m(\u001b[38;5;124m'\u001b[39m\u001b[38;5;124mutf-8\u001b[39m\u001b[38;5;124m'\u001b[39m))\u001b[38;5;241m.\u001b[39mhexdigest())\n",
      "\u001b[0;31mAttributeError\u001b[0m: 'posix.DirEntry' object has no attribute 'encode'"
     ]
    }
   ],
   "source": [
    "# for example, look at the pdfs\n",
    "\n",
    "for file in os.scandir(os.path.join(walk_this_directory, 'pdf')):\n",
    "\n",
    "    print(os.path.abspath(file), hashlib.md5(file.hexdigest()) # the encode here is to ensure that the file is treated as a file, not a string of characters. "
   ]
  },
  {
   "cell_type": "markdown",
   "metadata": {},
   "source": [
    "## Write the results to a CSV\n",
    "\n",
    "Now that we can gather the information, let's write to a file:"
   ]
  },
  {
   "cell_type": "code",
   "execution_count": 38,
   "metadata": {},
   "outputs": [],
   "source": [
    "import csv"
   ]
  },
  {
   "cell_type": "code",
   "execution_count": 39,
   "metadata": {},
   "outputs": [
    {
     "name": "stdout",
     "output_type": "stream",
     "text": [
      "[1, '.DS_Store', 'data/webfiles-samples', 'data/webfiles-samples/.DS_Store', 6148]\n",
      "[2, 'web-files-small-metadata.csv', 'data/webfiles-samples', 'data/webfiles-samples/web-files-small-metadata.csv', 9069]\n",
      "[3, 'vlwhcssc.asx', 'data/webfiles-samples/video', 'data/webfiles-samples/video/vlwhcssc.asx', 356]\n",
      "[4, '04-04-21full.asf', 'data/webfiles-samples/video', 'data/webfiles-samples/video/04-04-21full.asf', 98]\n",
      "[5, 'glmp_cig.EQ.wm.p20.t12z', 'data/webfiles-samples/video', 'data/webfiles-samples/video/glmp_cig.EQ.wm.p20.t12z', 8296]\n",
      "[6, 'oct17cc.asx', 'data/webfiles-samples/video', 'data/webfiles-samples/video/oct17cc.asx', 106945]\n",
      "[7, '01-1480.pdf', 'data/webfiles-samples/pdf', 'data/webfiles-samples/pdf/01-1480.pdf', 49088]\n",
      "[8, 'file.pdf', 'data/webfiles-samples/pdf', 'data/webfiles-samples/pdf/file.pdf', 1538]\n",
      "[9, 'Chapter03.pdf', 'data/webfiles-samples/pdf', 'data/webfiles-samples/pdf/Chapter03.pdf', 51919]\n",
      "[10, 'PFCHEJ.pdf', 'data/webfiles-samples/pdf', 'data/webfiles-samples/pdf/PFCHEJ.pdf', 10577]\n",
      "[11, 'HR2021 commtext.pdf', 'data/webfiles-samples/pdf', 'data/webfiles-samples/pdf/HR2021 commtext.pdf', 36305]\n",
      "[12, '13080t.jpg', 'data/webfiles-samples/image', 'data/webfiles-samples/image/13080t.jpg', 3764]\n",
      "[13, 'orca.via_.moc_.noaa_.jpg', 'data/webfiles-samples/image', 'data/webfiles-samples/image/orca.via_.moc_.noaa_.jpg', 82546]\n",
      "[14, 'k7989-7x.jpg', 'data/webfiles-samples/image', 'data/webfiles-samples/image/k7989-7x.jpg', 7864]\n",
      "[15, 'm237a2f.gif', 'data/webfiles-samples/image', 'data/webfiles-samples/image/m237a2f.gif', 7376]\n",
      "[16, '1005107061.tif', 'data/webfiles-samples/image', 'data/webfiles-samples/image/1005107061.tif', 395734]\n",
      "[17, '11-3250JohnsonvFolinoEtAl.wma', 'data/webfiles-samples/audio', 'data/webfiles-samples/audio/11-3250JohnsonvFolinoEtAl.wma', 21423499]\n",
      "[18, 'NEWSLINE_802AF71F439D401585C6FCB02F358307.mp3', 'data/webfiles-samples/audio', 'data/webfiles-samples/audio/NEWSLINE_802AF71F439D401585C6FCB02F358307.mp3', 961195]\n",
      "[19, 'mj_telework_exchange_final_100710.mp3', 'data/webfiles-samples/audio', 'data/webfiles-samples/audio/mj_telework_exchange_final_100710.mp3', 3471488]\n",
      "[20, '000727.ram', 'data/webfiles-samples/audio', 'data/webfiles-samples/audio/000727.ram', 79]\n",
      "[21, 'BudgetandGrants012710.ppt', 'data/webfiles-samples/presentation', 'data/webfiles-samples/presentation/BudgetandGrants012710.ppt', 85504]\n",
      "[22, 'ADAEMPLOYMENTTaxIncentives.ppt', 'data/webfiles-samples/presentation', 'data/webfiles-samples/presentation/ADAEMPLOYMENTTaxIncentives.ppt', 137216]\n",
      "[23, 'Non-FTE-Trainee-Activities-060109.ppt', 'data/webfiles-samples/presentation', 'data/webfiles-samples/presentation/Non-FTE-Trainee-Activities-060109.ppt', 67072]\n",
      "Wrote the file manifest\n"
     ]
    }
   ],
   "source": [
    "## write to a CSV\n",
    "# To do: Create a header row, write rows of file information, close the complete file\n",
    "\n",
    "# set up the csv, create a header row\n",
    "headers = [\n",
    "    'index',\n",
    "    'filename',\n",
    "    'in_folder_path',\n",
    "    'full_file_path',\n",
    "    'size'\n",
    "    ]\n",
    "\n",
    "# write the information using csvwriter()\n",
    "with open('file-manifest.csv', 'w') as f:\n",
    "    writer = csv.writer(f)\n",
    "    writer.writerow(headers)\n",
    "    for file in manifestInfo:\n",
    "        print(file)\n",
    "        writer.writerow(file)\n",
    "    print('Wrote the file manifest')"
   ]
  },
  {
   "cell_type": "markdown",
   "metadata": {},
   "source": [
    "## Reflection Activities\n",
    "\n",
    "1. Write a script that uses `os.listdir()` for each of the directories in the `webfiles-samples` directory. You can put in the path names directly as variables, but you should use the `os.path.join()` function to create filepaths that do not depend on your inputting the exact filepath string, which will vary across operating systems.\n",
    "1. Write a script that uses `os.scandir()` to check whether or not the entities in the director are files or directories. The script should output a count of files and a count of directories.\n",
    "1. Examine the examples above that use `os.walk()`. What is the difference between this and the previous two functions? In some ways it lets you get deeper into the file structure, so please explain your observation in a sentence or two.  \n",
    "1. Create a script that will print out an inventory of all the files in the assets folder `webfiles-samples`. The list should include the filename of the file, the directory path for the file, the full path to the file, and the file size. You may include any other information that you think is important. Call your script file `inventory_script.py`.\n",
    "1. Extend the previous script: Create a script that will print out an inventory of all the files in the assets folder `webfiles-samples`. The inventory should be a CSV file, and it should include the filename of the file, the directory path for the file, the full path to the file, and the file size. You may include any other information that you think is important. Call your script file `inventory_script.py`.\n",
    "1. Extend the above script, using the techniques demonstrated here, and add in a way to determine the file extension of the file, then add the extension to the CSV output? (Hint: you could split the filename string, right?)\n",
    "1. Write a script that can walk through a series of directories and identify files based on their file extension. For example, perhaps you want to count the number of .pdf files or .jpg. Create file that can look for this information and then tally the files. Then, have the program output the list of filenames and filepaths in a CSV file. Call this file `extension_detector.py`. "
   ]
  },
  {
   "cell_type": "markdown",
   "metadata": {},
   "source": [
    "### Function exercises \n",
    "\n",
    "1. Building on the above examples, can you a) write functions that bundle code to ask for a directory? You could call this function `create_manifest_information` and it should be able to accept a path to a directory as an argument and return the manifestInfo list. And b) write a function that would accept the manifestInfo list as an argument and create a CSV? \n",
    "1. Write a script that creates a `master` and `derivative` directory within a subdirectory that has the file's name as its name. For example, if there are two files, one named `001.jpg` and `audition.wav`, there should be a directory named `001` and another named `audition`. Within these, there should be master and derivative folders. The original files should be in the `master` folder. Call this file `master_and_derivatives.py`."
   ]
  }
 ],
 "metadata": {
  "kernelspec": {
   "display_name": "Python 3 (ipykernel)",
   "language": "python",
   "name": "python3"
  },
  "language_info": {
   "codemirror_mode": {
    "name": "ipython",
    "version": 3
   },
   "file_extension": ".py",
   "mimetype": "text/x-python",
   "name": "python",
   "nbconvert_exporter": "python",
   "pygments_lexer": "ipython3",
   "version": "3.9.12"
  }
 },
 "nbformat": 4,
 "nbformat_minor": 4
}
