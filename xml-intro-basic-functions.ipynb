{
 "cells": [
  {
   "cell_type": "markdown",
   "metadata": {},
   "source": [
    "# Introduction to XML Parsing in Python wiht the ETree module\n",
    "\n",
    "This notebook reviews some of the essential functions and procedures for parsing XML in Python.\n",
    "\n",
    "First, import the etree module. Although it does support other parsers, we will mostly use ElementTree, which is imported as follows (this is favored since it allows you to call the module by typing `ET` rather than the whole string): "
   ]
  },
  {
   "cell_type": "code",
   "execution_count": 1,
   "metadata": {},
   "outputs": [],
   "source": [
    "import xml.etree.ElementTree as ET"
   ]
  },
  {
   "cell_type": "markdown",
   "metadata": {},
   "source": [
    "To get an idea of the available classes and functions, try the `inspect` module:"
   ]
  },
  {
   "cell_type": "code",
   "execution_count": 2,
   "metadata": {},
   "outputs": [],
   "source": [
    "from inspect import getmembers, isclass, isfunction"
   ]
  },
  {
   "cell_type": "code",
   "execution_count": 3,
   "metadata": {},
   "outputs": [
    {
     "name": "stdout",
     "output_type": "stream",
     "text": [
      "C14NWriterTarget\n",
      "Element\n",
      "ElementTree\n",
      "ParseError\n",
      "QName\n",
      "TreeBuilder\n",
      "XMLParser\n",
      "XMLPullParser\n"
     ]
    }
   ],
   "source": [
    "# Display classes in ET module\n",
    "for (name, member) in getmembers(ET, isclass):\n",
    "    if not name.startswith('_'):\n",
    "        print(name)"
   ]
  },
  {
   "cell_type": "markdown",
   "metadata": {},
   "source": [
    "# focus on Element and ElementTree"
   ]
  },
  {
   "cell_type": "code",
   "execution_count": 4,
   "metadata": {},
   "outputs": [
    {
     "name": "stdout",
     "output_type": "stream",
     "text": [
      "Comment\n",
      "PI\n",
      "ProcessingInstruction\n",
      "XML\n",
      "XMLID\n",
      "canonicalize\n",
      "dump\n",
      "fromstring\n",
      "fromstringlist\n",
      "indent\n",
      "iselement\n",
      "iterparse\n",
      "parse\n",
      "register_namespace\n",
      "tostring\n",
      "tostringlist\n"
     ]
    }
   ],
   "source": [
    "# display functions in ET module\n",
    "for (name, member) in getmembers(ET, isfunction):\n",
    "    if not name.startswith('_'):\n",
    "        print(name)"
   ]
  },
  {
   "cell_type": "markdown",
   "metadata": {},
   "source": [
    "In this section, we will focus on the basic usage of a few of the functions. To accomplish initial XML parsing these are:\n",
    "\n",
    "* `.parse()` - creates a python object that we can manipulate with ElementTree\n",
    "* `.getroot()` - structures an ElementTree object according to the root element that you set\n",
    "* `.tostring()` - converts XML object data into string format\n",
    "* `.fromstring()` - converts string data into an XML encodable object\n",
    "\n",
    "Additional methods that we will use include:\n",
    "\n",
    "* `.get()` - allows you to get specified attributes\n",
    "* `.set()` - allows you to add (\"set\") specified attributes\n",
    "* `.write()` when applied to an ElementTree object, this will write out to the filename passed as an argument\n",
    "* `.append()` - to add a new Element or \"tag\" if input as a string (that is, `.fromstring()`); alternatively use an `Element` constructor\n",
    "* to remove attributes, use `del()` - this works because the ElementTree processes attributes as a dictionary"
   ]
  },
  {
   "cell_type": "code",
   "execution_count": 2,
   "metadata": {},
   "outputs": [],
   "source": [
    "ead_file = os.path.join('data','day_20221004_205435_UTC__ead.xml')"
   ]
  },
  {
   "cell_type": "code",
   "execution_count": 3,
   "metadata": {},
   "outputs": [
    {
     "name": "stdout",
     "output_type": "stream",
     "text": [
      "[<Element '{http://ead3.archivists.org/schema/}control' at 0x7fe048d804a0>, <Element '{http://ead3.archivists.org/schema/}archdesc' at 0x7fe048d78950>]\n"
     ]
    }
   ],
   "source": [
    "tree = ET.parse(ead_file)\n",
    "root = tree.getroot()\n",
    "\n",
    "print(root[:250])"
   ]
  },
  {
   "cell_type": "markdown",
   "metadata": {},
   "source": [
    "Note it is possible to use the `tag` method to print the name of the tag. \n",
    "\n",
    "In addition, since we are parsing an EAD document with a namespace specified, the name of the element includes the very specific and helpful (though rather long) specification to the EAD3 namespace. In other words, it is telling us the vocabulary that it is associated with."
   ]
  },
  {
   "cell_type": "code",
   "execution_count": 7,
   "metadata": {},
   "outputs": [
    {
     "name": "stdout",
     "output_type": "stream",
     "text": [
      "{http://ead3.archivists.org/schema/}control <class 'xml.etree.ElementTree.Element'>\n",
      "{http://ead3.archivists.org/schema/}archdesc <class 'xml.etree.ElementTree.Element'>\n"
     ]
    }
   ],
   "source": [
    "for element in root:\n",
    "    print(element.tag, type(element))"
   ]
  },
  {
   "cell_type": "markdown",
   "metadata": {},
   "source": [
    "If you see things like Element ... `control` and `archdesc` IT WORKED! You've parsed XML with python. \n",
    "\n",
    "Now, let's get more fancy. For example, let's look at the content in a human readable text. This can be done wiht the `.tostring()` function, which will convert those binary byte objects into plain text."
   ]
  },
  {
   "cell_type": "code",
   "execution_count": 10,
   "metadata": {},
   "outputs": [
    {
     "name": "stdout",
     "output_type": "stream",
     "text": [
      "b'<ns0:ead xmlns:ns0=\"http://ead3.archivists.org/schema/\"><ns0:control countryencoding=\"iso3166-1\" dateencoding=\"iso8601\" langencoding=\"iso639-2b\" relatedencoding=\"marc\" repositoryencoding=\"iso15511\" scriptencoding=\"iso15924\"><ns0:recordid instanceurl=\"\">umich-scl-day</ns0:recordid><ns0:filedesc><ns0:titlestmt><ns0:titleproper>Finding Aid for the William R. Day Collection day </ns0:titleproper><ns0:titleproper localtype=\"filing\">William R. Day Collection</ns0:titleproper><ns0:author>Finding aid pr'\n"
     ]
    }
   ],
   "source": [
    "print(ET.tostring(root)[:500])"
   ]
  },
  {
   "cell_type": "markdown",
   "metadata": {},
   "source": [
    "We can seet the tags of an Element object using the `.tag` method, and the attributes associated with the element are stored in a dictionary that can be called with the `.attrib` method. "
   ]
  },
  {
   "cell_type": "code",
   "execution_count": 24,
   "metadata": {},
   "outputs": [
    {
     "data": {
      "text/plain": [
       "'{http://ead3.archivists.org/schema/}ead'"
      ]
     },
     "execution_count": 24,
     "metadata": {},
     "output_type": "execute_result"
    }
   ],
   "source": [
    "root.tag"
   ]
  },
  {
   "cell_type": "code",
   "execution_count": 25,
   "metadata": {},
   "outputs": [
    {
     "data": {
      "text/plain": [
       "{}"
      ]
     },
     "execution_count": 25,
     "metadata": {},
     "output_type": "execute_result"
    }
   ],
   "source": [
    "root.attrib"
   ]
  },
  {
   "cell_type": "code",
   "execution_count": 26,
   "metadata": {},
   "outputs": [
    {
     "name": "stdout",
     "output_type": "stream",
     "text": [
      "{http://ead3.archivists.org/schema/}control {'countryencoding': 'iso3166-1', 'dateencoding': 'iso8601', 'langencoding': 'iso639-2b', 'relatedencoding': 'marc', 'repositoryencoding': 'iso15511', 'scriptencoding': 'iso15924'}\n",
      "{http://ead3.archivists.org/schema/}archdesc {'level': 'collection'}\n"
     ]
    }
   ],
   "source": [
    "for element in root:\n",
    "    print(element.tag, element.attrib)"
   ]
  },
  {
   "cell_type": "markdown",
   "metadata": {},
   "source": [
    "To select particular elements, use the `find()` function (this will return the first element that matches your request). The argument here is a modified XPath selector, which is how we will guide the function to the elements that we want to see in the tree. If looking for multiple elements, there is also a `findall()` function. "
   ]
  },
  {
   "cell_type": "code",
   "execution_count": 32,
   "metadata": {},
   "outputs": [
    {
     "name": "stdout",
     "output_type": "stream",
     "text": [
      "{'countryencoding': 'iso3166-1', 'dateencoding': 'iso8601', 'langencoding': 'iso639-2b', 'relatedencoding': 'marc', 'repositoryencoding': 'iso15511', 'scriptencoding': 'iso15924'}\n"
     ]
    }
   ],
   "source": [
    "control = tree.find('{http://ead3.archivists.org/schema/}control')\n",
    "print(control.attrib) "
   ]
  },
  {
   "cell_type": "markdown",
   "metadata": {},
   "source": [
    "\n",
    "Once we find the elements, use the `.get()` method to take a look at the attributes associated with a particular element. To start, let's check the root element. This has attributes which list the namespaces used in the file, in this case the attribute is named `xmlns`."
   ]
  },
  {
   "cell_type": "code",
   "execution_count": 34,
   "metadata": {},
   "outputs": [
    {
     "name": "stdout",
     "output_type": "stream",
     "text": [
      "Country encoding is according to: iso3166-1\n"
     ]
    }
   ],
   "source": [
    "countryCode = control.get('countryencoding')\n",
    "\n",
    "print(f'Country encoding is according to: {countryCode}')"
   ]
  },
  {
   "cell_type": "markdown",
   "metadata": {},
   "source": [
    "Once identified, Element objects can be iterated through, like the root element previously:"
   ]
  },
  {
   "cell_type": "code",
   "execution_count": 35,
   "metadata": {},
   "outputs": [
    {
     "data": {
      "text/plain": [
       "xml.etree.ElementTree.Element"
      ]
     },
     "execution_count": 35,
     "metadata": {},
     "output_type": "execute_result"
    }
   ],
   "source": [
    "type(control)"
   ]
  },
  {
   "cell_type": "code",
   "execution_count": 36,
   "metadata": {},
   "outputs": [
    {
     "name": "stdout",
     "output_type": "stream",
     "text": [
      "{http://ead3.archivists.org/schema/}recordid {'instanceurl': ''}\n",
      "{http://ead3.archivists.org/schema/}filedesc {}\n",
      "{http://ead3.archivists.org/schema/}maintenancestatus {'value': 'derived'}\n",
      "{http://ead3.archivists.org/schema/}maintenanceagency {'countrycode': 'US'}\n",
      "{http://ead3.archivists.org/schema/}languagedeclaration {}\n",
      "{http://ead3.archivists.org/schema/}conventiondeclaration {}\n",
      "{http://ead3.archivists.org/schema/}localcontrol {'localtype': 'findaidstatus'}\n",
      "{http://ead3.archivists.org/schema/}maintenancehistory {}\n"
     ]
    }
   ],
   "source": [
    "for element in control:\n",
    "    print(element.tag, element.attrib)"
   ]
  },
  {
   "cell_type": "markdown",
   "metadata": {},
   "source": [
    "Now, let's simplify the usage of namespaces. As you can see from the tags above, it can get tedious to use the full reference for each tag. Instead, our aim will be to shorten this to a prefix, in this case `ead:` as a shorthand for the schema URI. \n",
    "\n",
    "To do this, the etree module provides a namespace handler. To initial namespaces, establish a dictionary, typically named `ns` (or something short and easy to remember), that will be passed into the parser:"
   ]
  },
  {
   "cell_type": "code",
   "execution_count": 37,
   "metadata": {},
   "outputs": [],
   "source": [
    "ns = {\n",
    "    'ead' : 'http://ead3.archivists.org/schema/'\n",
    "}"
   ]
  },
  {
   "cell_type": "code",
   "execution_count": 49,
   "metadata": {},
   "outputs": [
    {
     "name": "stdout",
     "output_type": "stream",
     "text": [
      "{'countryencoding': 'iso3166-1', 'dateencoding': 'iso8601', 'langencoding': 'iso639-2b', 'relatedencoding': 'marc', 'repositoryencoding': 'iso15511', 'scriptencoding': 'iso15924'}\n"
     ]
    }
   ],
   "source": [
    "control = root.find('ead:control', ns)\n",
    "print(control.attrib)"
   ]
  },
  {
   "cell_type": "markdown",
   "metadata": {},
   "source": [
    "Compared to JSON, this may seem a bit fussy, but the advantage is that we can be highly specific when referencing elements, and we can be very precise in defining what an element means. For example, all of the elements and allowed attributes are defined in detail at the EAD specification: https://loc.gov/ead/EAD3taglib/. "
   ]
  },
  {
   "cell_type": "markdown",
   "metadata": {},
   "source": [
    "## Using XPath within etree\n",
    "\n",
    "XPath is a selector language that allows us to search for specific elements and attributes within the tree. The power of this language is that it allows us to select very precisely, and it also allows us to see multiple items at similar levels in the hierarchy or those that meet particular characteristics (such as having a particular attribute). \n",
    "\n",
    "For a quick introduction to XPath, see this introduction from Library Carpentry: https://librarycarpentry.org/lc-webscraping/02-xpath/index.html\n",
    "\n",
    "Let's take a closer look with the `<titleproper>` elements:"
   ]
  },
  {
   "cell_type": "code",
   "execution_count": 58,
   "metadata": {},
   "outputs": [
    {
     "name": "stdout",
     "output_type": "stream",
     "text": [
      "{http://ead3.archivists.org/schema/}titleproper Finding Aid for the William R. Day Collection day \n"
     ]
    }
   ],
   "source": [
    "title = tree.find('ead:control/ead:filedesc/ead:titlestmt/ead:titleproper', ns)\n",
    "print(title.tag, title.text)"
   ]
  },
  {
   "cell_type": "code",
   "execution_count": 59,
   "metadata": {},
   "outputs": [
    {
     "name": "stdout",
     "output_type": "stream",
     "text": [
      "{http://ead3.archivists.org/schema/}titleproper Finding Aid for the William R. Day Collection day \n",
      "{http://ead3.archivists.org/schema/}titleproper William R. Day Collection\n"
     ]
    }
   ],
   "source": [
    "for title in tree.findall('ead:control/ead:filedesc/ead:titlestmt/ead:titleproper', ns):\n",
    "    print(title.tag, title.text)"
   ]
  },
  {
   "cell_type": "markdown",
   "metadata": {},
   "source": [
    "Using a more general XPath selector, we can write the above more efficiently. We can select all elements with a matching element tag using `.` followed by `//`. The `.` selects the current element (if we specify `tree` that is the root element in this case `ead`), and the double slash `//` selects any child element matching the element name supllied. Thus. `.//ead:titleproper` will select any `titleproper` elements in the file:"
   ]
  },
  {
   "cell_type": "code",
   "execution_count": 63,
   "metadata": {},
   "outputs": [
    {
     "name": "stdout",
     "output_type": "stream",
     "text": [
      "<Element '{http://ead3.archivists.org/schema/}titleproper' at 0x7fe048d80090>\n",
      "<Element '{http://ead3.archivists.org/schema/}titleproper' at 0x7fe048d80770>\n"
     ]
    }
   ],
   "source": [
    "for title in tree.findall('.//ead:titleproper', ns):\n",
    "    print(title)"
   ]
  },
  {
   "cell_type": "markdown",
   "metadata": {},
   "source": [
    "Similarly, we could look for digital objects, the `c01` tag (representing the \"first level\" of container objects, here we will see that these represent series in the collection):"
   ]
  },
  {
   "cell_type": "code",
   "execution_count": 96,
   "metadata": {},
   "outputs": [
    {
     "name": "stdout",
     "output_type": "stream",
     "text": [
      "Series id: aspace_ref1\n",
      " {http://ead3.archivists.org/schema/}c01 {'id': 'aspace_ref1', 'level': 'series'}\n",
      "The Correspondence and Papers series contains correspondence and papers from William Day and various family members. \n",
      "\n",
      "William Day\n",
      "1896\n",
      "1897\n",
      "1898 (3 folders)\n",
      "1899\n",
      "1900-1911\n",
      "1920-1923\n",
      "Undated\n",
      "Biographical\n",
      "Scrapbook\n",
      "Family\n",
      "Luther Day (Father)\n",
      "Emily Spalding Day (Mother)\n",
      "Louis Schaefer (Father-in-Law)\n",
      "Other Members\n",
      "Miscellaneous (3 folders)\n",
      "Series id: aspace_ref18\n",
      " {http://ead3.archivists.org/schema/}c01 {'id': 'aspace_ref18', 'level': 'series'}\n",
      "The Manuscripts series contains work by William Day and his son, Stephen Day. It also has a dissertation about William Day by Joseph McLean, and a folder of miscellaneous materials. \n",
      "\n",
      "William Day on McKinley\n",
      "Stephan Day Notebook\n",
      "McLean Dissertation on William Day (2 folders)\n",
      "Miscellaneous\n",
      "Series id: aspace_ref22\n",
      " {http://ead3.archivists.org/schema/}c01 {'id': 'aspace_ref22', 'level': 'series'}\n",
      "The Newspaper series includes issues of the University of Michigan newspaper  \n",
      "\n",
      "None\n",
      "Clippings\n",
      "Series id: aspace_ref26\n",
      " {http://ead3.archivists.org/schema/}c01 {'id': 'aspace_ref26', 'level': 'series'}\n",
      "The Publications series brings together the published materials within the William R. Day Collection, including some of his speeches. \n",
      "\n",
      "Supreme Court Booklets (2 folders)\n",
      "None\n",
      "None\n",
      "None\n",
      "None\n",
      "None\n",
      "None\n",
      "None\n",
      "None\n",
      "House of Representatives Booklets\n",
      "Forty-Eighth Congress Jonathan H. Wallace vs William McKinley, Jr (2 copies)\n",
      "H. R. 12704 - appropriation act\n",
      "Expenses of Mixed Claims Commission, United States and Germany\n",
      "Treaties\n",
      "Treaty series number 659 between the United States and Austria\n",
      "Treaty series 665 between the United States and Germany\n",
      "Papers Relating to the Treaty with Spain\n",
      "Ohio Booklets\n",
      "None\n",
      "Supreme Court of Ohio Richard H. Umbenhour vs The State of Ohio\n",
      "Speeches and Writings by William Day\n",
      "Address of William R. Day at the Ravenna, Ohio Homecoming, August 25, 1909 (2 copies)\n",
      "None\n",
      "Address of William R. Day at the Conference under the auspices of the American Peace Centenary Committee, held at Makinac Island July 21, 22, 1914\n",
      "Address of William R. Day at the Unveiling of the Marquette Statue on Mackinac Island, September 1, 1909 (2 copies)\n",
      "Remarks of William R. Day at the dinner in honor of John Joy Edson on this seventy-fifth birthday, May 17, 1921 (2 copies)\n",
      "Testimonial to John Joy Edson by his Friends and Fellow-Citizens\n",
      "Sophomore Exhibition program Class of 1870\n",
      "Miscellaneous Booklets\n",
      "None\n",
      "None\n",
      "None\n",
      "None\n",
      "None\n",
      "None\n",
      "None\n",
      "None\n",
      "None\n",
      "Series id: aspace_ref28\n",
      " {http://ead3.archivists.org/schema/}c01 {'id': 'aspace_ref28', 'level': 'series'}\n",
      "The Ephemera series contains a carte de visite and a packet of seeds. \n",
      "\n",
      "Envelope for Goldie's Pens: Contains seeds.\n",
      "Carte de Visite of William R. Day (?)\n"
     ]
    }
   ],
   "source": [
    "did_count = 0\n",
    "\n",
    "for obj in tree.findall('.//ead:c01', ns):\n",
    "    did_count += 1\n",
    "    # pull out the series id for the c01 element \n",
    "    print(f'Series id: {obj.attrib[\"id\"]}\\n',obj.tag, obj.attrib)\n",
    "    # pull out and print the paragraph in the scopecontent note for the series \n",
    "    scope = obj.find('.//ead:scopecontent/ead:p', ns)\n",
    "    print(scope.text,'\\n')\n",
    "    # look through the siers and find the c02 second levels and their unittitles to see the various folders or subseries in the c01 level\n",
    "    for item in obj.findall('.//ead:c02//ead:unittitle', ns):\n",
    "        print(item.text)"
   ]
  },
  {
   "cell_type": "markdown",
   "metadata": {},
   "source": [
    "## Modifying XML with the etree module\n",
    "\n",
    "The `etree` module can also be used to modify XML, including adding/modifying/removing attributes, reading and modifying elements, or adding text within an element.\n",
    "\n",
    "`.set()` and `del()`"
   ]
  }
 ],
 "metadata": {
  "kernelspec": {
   "display_name": "Python 3.9.12 ('base')",
   "language": "python",
   "name": "python3"
  },
  "language_info": {
   "codemirror_mode": {
    "name": "ipython",
    "version": 3
   },
   "file_extension": ".py",
   "mimetype": "text/x-python",
   "name": "python",
   "nbconvert_exporter": "python",
   "pygments_lexer": "ipython3",
   "version": "3.9.12"
  },
  "orig_nbformat": 4,
  "vscode": {
   "interpreter": {
    "hash": "433e84b6a98ffad52b36edc50e1a65f78fac85298e4e4f5ab24f4a24b9cfbcd2"
   }
  }
 },
 "nbformat": 4,
 "nbformat_minor": 2
}
