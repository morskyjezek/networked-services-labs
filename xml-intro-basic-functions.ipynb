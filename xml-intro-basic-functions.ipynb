{
 "cells": [
  {
   "cell_type": "markdown",
   "metadata": {},
   "source": [
    "# Introduction to XML Parsing in Python wiht the ETree module\n",
    "\n",
    "This notebook reviews some of the essential functions and procedures for parsing XML in Python.\n",
    "\n",
    "First, import the etree module. Although it does support other parsers, we will mostly use ElementTree, which is imported as follows (this is favored since it allows you to call the module by typing `ET` rather than the whole string): "
   ]
  },
  {
   "cell_type": "code",
   "execution_count": 1,
   "metadata": {},
   "outputs": [],
   "source": [
    "import xml.etree.ElementTree as ET"
   ]
  },
  {
   "cell_type": "markdown",
   "metadata": {},
   "source": [
    "## Inspect the available classes and functions\n",
    "\n",
    "To get an idea of the available classes and functions, try the `inspect` module:"
   ]
  },
  {
   "cell_type": "code",
   "execution_count": 2,
   "metadata": {},
   "outputs": [],
   "source": [
    "from inspect import getmembers, isclass, isfunction"
   ]
  },
  {
   "cell_type": "code",
   "execution_count": 3,
   "metadata": {},
   "outputs": [
    {
     "name": "stdout",
     "output_type": "stream",
     "text": [
      "C14NWriterTarget\n",
      "Element\n",
      "ElementTree\n",
      "ParseError\n",
      "QName\n",
      "TreeBuilder\n",
      "XMLParser\n",
      "XMLPullParser\n"
     ]
    }
   ],
   "source": [
    "# Display classes in ET module\n",
    "for (name, member) in getmembers(ET, isclass):\n",
    "    if not name.startswith('_'):\n",
    "        print(name)"
   ]
  },
  {
   "cell_type": "code",
   "execution_count": 4,
   "metadata": {},
   "outputs": [
    {
     "name": "stdout",
     "output_type": "stream",
     "text": [
      "Comment\n",
      "PI\n",
      "ProcessingInstruction\n",
      "XML\n",
      "XMLID\n",
      "canonicalize\n",
      "dump\n",
      "fromstring\n",
      "fromstringlist\n",
      "indent\n",
      "iselement\n",
      "iterparse\n",
      "parse\n",
      "register_namespace\n",
      "tostring\n",
      "tostringlist\n"
     ]
    }
   ],
   "source": [
    "# display functions in ET module\n",
    "for (name, member) in getmembers(ET, isfunction):\n",
    "    if not name.startswith('_'):\n",
    "        print(name)"
   ]
  },
  {
   "cell_type": "markdown",
   "metadata": {},
   "source": [
    "## Basic parsing with etree\n",
    "\n",
    "In this section, we will focus on the basic usage of a few of the functions. To accomplish initial XML parsing these are:\n",
    "\n",
    "### Load and parse an XML document\n",
    "\n",
    "* `.parse()` - creates a python object that we can manipulate with ElementTree\n",
    "* `.getroot()` - structures an ElementTree object according to the root element that you set\n",
    "* `.tostring()` - converts XML object data into string format\n",
    "* `.fromstring()` - converts string data into an XML encodable object\n",
    "\n",
    "### Find and retrieve values of elements and attributes\n",
    "\n",
    "* `find()` - returns the first match to an element name, provided as a string or variable; \n",
    "* related, if you want to locate multiple elements or search through the tree, `findall()` will return a list of \n",
    "* `.get()` - allows you to get specified attributes\n",
    "\n",
    "### Modify or add values\n",
    "\n",
    "* `.set()` - allows you to add (\"set\") specified attributes\n",
    "* `.write()` when applied to an ElementTree object, this will write out to the filename passed as an argument\n",
    "* `.append()` - to add a new Element or \"tag\" if input as a string (that is, `.fromstring()`); alternatively use an `Element` constructor\n",
    "* to remove attributes, use `del()` - this works because the ElementTree processes attributes as a dictionary"
   ]
  },
  {
   "cell_type": "code",
   "execution_count": 5,
   "metadata": {},
   "outputs": [],
   "source": [
    "ead_file = os.path.join('data','xml','day_20221004_205435_UTC__ead.xml')"
   ]
  },
  {
   "cell_type": "code",
   "execution_count": 6,
   "metadata": {},
   "outputs": [
    {
     "name": "stdout",
     "output_type": "stream",
     "text": [
      "[<Element '{http://ead3.archivists.org/schema/}control' at 0x7fb059552a40>, <Element '{http://ead3.archivists.org/schema/}archdesc' at 0x7fb049241680>]\n"
     ]
    }
   ],
   "source": [
    "tree = ET.parse(ead_file)\n",
    "root = tree.getroot()\n",
    "\n",
    "print(root[:250])"
   ]
  },
  {
   "cell_type": "markdown",
   "metadata": {},
   "source": [
    "## Finding values of tags, attributes, or contents\n",
    "\n",
    "Once elements are identified or parsed, it is possible to extract the values of tag, any associated attributes, and the contents nested within the element markers. These methods can be appended to any `Element` object : `.tag` returns the name of the tag; `.attrib` provides the attributes, as a dictionary; and `.text` returns the nested content. \n",
    "\n",
    "In addition, since we are parsing an EAD document with a namespace specified, the name of the element includes the very specific and helpful (though rather long) specification to the EAD3 namespace. In other words, it is telling us the vocabulary that it is associated with."
   ]
  },
  {
   "cell_type": "code",
   "execution_count": 7,
   "metadata": {},
   "outputs": [
    {
     "name": "stdout",
     "output_type": "stream",
     "text": [
      "{http://ead3.archivists.org/schema/}control <class 'xml.etree.ElementTree.Element'>\n",
      "{http://ead3.archivists.org/schema/}archdesc <class 'xml.etree.ElementTree.Element'>\n"
     ]
    }
   ],
   "source": [
    "for element in root:\n",
    "    print(element.tag, type(element))"
   ]
  },
  {
   "cell_type": "markdown",
   "metadata": {},
   "source": [
    "If you see things like ... `control` and `archdesc` IT WORKED! You've parsed XML with python. \n",
    "\n",
    "Now, let's get more fancy. For example, let's look at the content in a human readable text. This can be done wiht the `.tostring()` function, which will convert those binary byte objects into plain text."
   ]
  },
  {
   "cell_type": "code",
   "execution_count": 8,
   "metadata": {},
   "outputs": [
    {
     "name": "stdout",
     "output_type": "stream",
     "text": [
      "b'<ns0:ead xmlns:ns0=\"http://ead3.archivists.org/schema/\"><ns0:control countryencoding=\"iso3166-1\" dateencoding=\"iso8601\" langencoding=\"iso639-2b\" relatedencoding=\"marc\" repositoryencoding=\"iso15511\" scriptencoding=\"iso15924\"><ns0:recordid instanceurl=\"\">umich-scl-day</ns0:recordid><ns0:filedesc><ns0:titlestmt><ns0:titleproper>Finding Aid for the William R. Day Collection day </ns0:titleproper><ns0:titleproper localtype=\"filing\">William R. Day Collection</ns0:titleproper><ns0:author>Finding aid pr'\n"
     ]
    }
   ],
   "source": [
    "print(ET.tostring(root)[:500])"
   ]
  },
  {
   "cell_type": "markdown",
   "metadata": {},
   "source": [
    "We can seet the tags of an Element object using the `.tag` method, and the attributes associated with the element are stored in a dictionary that can be called with the `.attrib` method. "
   ]
  },
  {
   "cell_type": "code",
   "execution_count": 9,
   "metadata": {},
   "outputs": [
    {
     "data": {
      "text/plain": [
       "'{http://ead3.archivists.org/schema/}ead'"
      ]
     },
     "execution_count": 9,
     "metadata": {},
     "output_type": "execute_result"
    }
   ],
   "source": [
    "root.tag"
   ]
  },
  {
   "cell_type": "code",
   "execution_count": 10,
   "metadata": {},
   "outputs": [
    {
     "data": {
      "text/plain": [
       "{}"
      ]
     },
     "execution_count": 10,
     "metadata": {},
     "output_type": "execute_result"
    }
   ],
   "source": [
    "root.attrib"
   ]
  },
  {
   "cell_type": "code",
   "execution_count": 11,
   "metadata": {},
   "outputs": [
    {
     "name": "stdout",
     "output_type": "stream",
     "text": [
      "{http://ead3.archivists.org/schema/}control {'countryencoding': 'iso3166-1', 'dateencoding': 'iso8601', 'langencoding': 'iso639-2b', 'relatedencoding': 'marc', 'repositoryencoding': 'iso15511', 'scriptencoding': 'iso15924'}\n",
      "{http://ead3.archivists.org/schema/}archdesc {'level': 'collection'}\n"
     ]
    }
   ],
   "source": [
    "for element in root:\n",
    "    print(element.tag, element.attrib)"
   ]
  },
  {
   "cell_type": "markdown",
   "metadata": {},
   "source": [
    "To select particular elements, use the `find()` function (this will return the first element that matches your request). The argument here is a modified XPath selector, which is how we will guide the function to the elements that we want to see in the tree. If looking for multiple elements, there is also a `findall()` function. "
   ]
  },
  {
   "cell_type": "code",
   "execution_count": 12,
   "metadata": {},
   "outputs": [
    {
     "name": "stdout",
     "output_type": "stream",
     "text": [
      "{'countryencoding': 'iso3166-1', 'dateencoding': 'iso8601', 'langencoding': 'iso639-2b', 'relatedencoding': 'marc', 'repositoryencoding': 'iso15511', 'scriptencoding': 'iso15924'}\n"
     ]
    }
   ],
   "source": [
    "control = tree.find('{http://ead3.archivists.org/schema/}control')\n",
    "print(control.attrib) "
   ]
  },
  {
   "cell_type": "markdown",
   "metadata": {},
   "source": [
    "\n",
    "Once we find the elements, use the `.get()` method to take a look at the attributes associated with a particular element. \n",
    "\n",
    "Continuing with the `control` element, get the value of a particular attribute. For example, `countryencoding`."
   ]
  },
  {
   "cell_type": "code",
   "execution_count": 13,
   "metadata": {},
   "outputs": [
    {
     "name": "stdout",
     "output_type": "stream",
     "text": [
      "Country encoding is according to: iso3166-1\n"
     ]
    }
   ],
   "source": [
    "countryCode = control.get('countryencoding')\n",
    "\n",
    "print(f'Country encoding is according to: {countryCode}')"
   ]
  },
  {
   "cell_type": "markdown",
   "metadata": {},
   "source": [
    "Once identified, Element objects can be iterated through, like the root element previously:"
   ]
  },
  {
   "cell_type": "code",
   "execution_count": 14,
   "metadata": {},
   "outputs": [
    {
     "name": "stdout",
     "output_type": "stream",
     "text": [
      "{http://ead3.archivists.org/schema/}recordid {'instanceurl': ''}\n",
      "{http://ead3.archivists.org/schema/}filedesc {}\n",
      "{http://ead3.archivists.org/schema/}maintenancestatus {'value': 'derived'}\n",
      "{http://ead3.archivists.org/schema/}maintenanceagency {'countrycode': 'US'}\n",
      "{http://ead3.archivists.org/schema/}languagedeclaration {}\n",
      "{http://ead3.archivists.org/schema/}conventiondeclaration {}\n",
      "{http://ead3.archivists.org/schema/}localcontrol {'localtype': 'findaidstatus'}\n",
      "{http://ead3.archivists.org/schema/}maintenancehistory {}\n"
     ]
    }
   ],
   "source": [
    "for element in control:\n",
    "    print(element.tag, element.attrib)"
   ]
  },
  {
   "cell_type": "markdown",
   "metadata": {},
   "source": [
    "## Working with namespaces\n",
    "\n",
    "Now, let's simplify the usage of namespaces. As you can see from the tags above, it can get tedious to use the full reference for each tag. When an XML with a namespace declaration is parsed by eTree, it prepends the associated namespace to each tag element. Thus, the `control` element in the EAD document here becomes `{http://ead3.archivists.org/schema/}control`. It's a lot to type each time you reference an element. Easier would be to shorten this to a prefix, in this case `ead:control` which provides a shorthand for the schema URI. \n",
    "\n",
    "To do this, the etree module provides a namespace handler. To initialize namespaces, establish a dictionary, typically named `ns` (or something short and easy to remember), that will be passed into the parser:"
   ]
  },
  {
   "cell_type": "code",
   "execution_count": 15,
   "metadata": {},
   "outputs": [],
   "source": [
    "ns = {\n",
    "    'ead' : 'http://ead3.archivists.org/schema/'\n",
    "}"
   ]
  },
  {
   "cell_type": "markdown",
   "metadata": {},
   "source": [
    "Now, elements associated with that namespace can be referenced in find, findall, or other statements in your code by using the prefix and element name, like `ead:control`: "
   ]
  },
  {
   "cell_type": "code",
   "execution_count": 16,
   "metadata": {},
   "outputs": [
    {
     "name": "stdout",
     "output_type": "stream",
     "text": [
      "{'countryencoding': 'iso3166-1', 'dateencoding': 'iso8601', 'langencoding': 'iso639-2b', 'relatedencoding': 'marc', 'repositoryencoding': 'iso15511', 'scriptencoding': 'iso15924'}\n"
     ]
    }
   ],
   "source": [
    "control = root.find('ead:control', ns)\n",
    "print(control.attrib)"
   ]
  },
  {
   "cell_type": "markdown",
   "metadata": {},
   "source": [
    "Compared to JSON, this may seem a bit fussy, but the advantage is that we can be highly specific when referencing elements, and we can be very precise in defining what an element means. For example, all of the elements and allowed attributes are defined in detail at the EAD specification: https://loc.gov/ead/EAD3taglib/. "
   ]
  },
  {
   "cell_type": "markdown",
   "metadata": {},
   "source": [
    "## Writing XML with etree\n",
    "\n",
    "To write an XML file, use the `.write()` function. This can be applied to an ElementTree object. Since above we have assigned the object to `tree`, we can use that here to write out the XML. \n",
    "\n",
    "A few additional arguments must be passed to the `write()` function in order to create valid XML. First, you will need to register any namespaces that are used in the document. To register namespaces, use the `.register_namespace()` function. This can be used multiple times to register multiple namespaces within a single script.\n",
    "\n",
    "To establish a primary namespace (i.e., one that is assumed for the whole document, supplied in an `xmlns` attribute on the root element, and not prepended to each element), use a blank reference in the first argument passed to the `register_namespace()` function. Below, the `register_namespace()` function is called multiple times to register EAD, MODS, DublinCore, and the basic W3C schema for XML (many shared attributes among these schemes is inherited from the W3C XML schema). (To learn more about these metadata structure standards, follow the associated links.) \n",
    "\n",
    "Depending on how you register namespaces, your XML document may look slightly different: if you do not establish a primary namespace each tag will be prepended with the namespace. That can look a bit redundant, but it is specific and still valid XML. As the [MODS User Guide states](https://www.loc.gov/standards/mods/userguide/introduction.html), \"Within a record or group of records it is optional to use the \"mods\" prefix before each element (and before the \"mods\" namespace declaration), since the MODS namespace is indicated in the record. It is most useful to use the prefix \"mods:\" before each element when combining a MODS record with XML data from another namespace.\" (referenced October 2022) "
   ]
  },
  {
   "cell_type": "code",
   "execution_count": 17,
   "metadata": {},
   "outputs": [],
   "source": [
    "# to establish an unprefixed namespace, use a blank in the first argument:\n",
    "ET.register_namespace('', 'http://ead3.archivists.org/schema/')\n",
    "# alternatively, specify the 'ead' prefix to be extra specific\n",
    "#ET.register_namespace('ead', 'http://ead3.archivists.org/schema/')\n",
    "ET.register_namespace('mods', 'http://www.loc.gov/mods/v3')\n",
    "ET.register_namespace('dc', 'http://purl.org/dc/elements/1.1/')\n",
    "ET.register_namespace('xsi', 'http://www.w3.org/2001/XMLSchema')"
   ]
  },
  {
   "cell_type": "markdown",
   "metadata": {},
   "source": [
    "In addition, you must specify how you want eTree to write the file. To do this, you will provide a file name for output, as well as specify the following variables: \n",
    "\n",
    "* `xml_declaration` variable - takes a boolean (True or False) \n",
    "* `encoding` variable - to specify the character encoding (here use 'utf-8'), and \n",
    "* `method` variable to specify for the writer to use (the default here is `xml`, but you can also request `xhtml` or `html`) provided as a string.\n",
    "\n",
    "Notice that the first two variables you need are the same information provided in a standard XML document declaration statement:\n",
    "\n",
    "```xml\n",
    "<?xml version='1.0' encoding='utf-8'?>\n",
    "```\n",
    "\n",
    "A full `write` function might look like this:"
   ]
  },
  {
   "cell_type": "code",
   "execution_count": 18,
   "metadata": {},
   "outputs": [],
   "source": [
    "tree.write(ead_file, xml_declaration=True, encoding='utf-8', method='xml')"
   ]
  },
  {
   "cell_type": "markdown",
   "metadata": {},
   "source": [
    "## Modifying XML with the etree module\n",
    "\n",
    "The `etree` module can also be used to modify XML, including adding/modifying/removing attributes, reading and modifying elements, or adding text within an element.\n",
    "\n",
    "To create new attributes, etree provides the `.set()` function. This takes the name of the desired attribute and the value as strings; it is called on an Element object. "
   ]
  },
  {
   "cell_type": "code",
   "execution_count": 19,
   "metadata": {},
   "outputs": [],
   "source": [
    "# control already contains the ead:control element\n",
    "control.set('language', 'en-US')"
   ]
  },
  {
   "cell_type": "code",
   "execution_count": 20,
   "metadata": {},
   "outputs": [
    {
     "name": "stdout",
     "output_type": "stream",
     "text": [
      "wrote data/xml/day_20221004_205435_UTC__ead.xml\n"
     ]
    }
   ],
   "source": [
    "# save the changes using write()\n",
    "tree.write(ead_file, xml_declaration=True, encoding='utf-8', method='xml')\n",
    "print('wrote',ead_file)"
   ]
  },
  {
   "cell_type": "markdown",
   "metadata": {},
   "source": [
    "When you run the above two cells, you will notice that the `xml-model` declaration disappears. It is replaced by a different namespace declaration contined in the root tag (in this case, an `xmlns:ead` attribute). The elements are transcribed slightly differently as well: instead of bare EAD elements (like `ead` and `control`), these are now prefixed (thus `ead:ead` or `ead:control`). While this makes the file slightly longer, this is standard and also creates well-formed and valid XML. In fact, many machine-generated XML files will use this sort of prefixed convention. "
   ]
  },
  {
   "cell_type": "markdown",
   "metadata": {},
   "source": [
    "To remove attributes, use the `del()` function which is a standard dictionary operation since Python treats the attributes of any Element object as a dictionary."
   ]
  },
  {
   "cell_type": "code",
   "execution_count": 21,
   "metadata": {},
   "outputs": [],
   "source": [
    "del(control.attrib['language'])"
   ]
  },
  {
   "cell_type": "code",
   "execution_count": 22,
   "metadata": {},
   "outputs": [],
   "source": [
    "# save the changes using write()\n",
    "tree.write(ead_file, xml_declaration=True, encoding='utf-8', method='xml')"
   ]
  },
  {
   "cell_type": "markdown",
   "metadata": {},
   "source": [
    "## Using XPath within etree\n",
    "\n",
    "XPath is a selector language that allows us to search for specific elements and attributes within the tree. The power of this language is that it allows us to select very precisely, and it also allows us to see multiple items at similar levels in the hierarchy or those that meet particular characteristics (such as having a particular attribute). \n",
    "\n",
    "For a quick introduction to XPath, see this introduction from Library Carpentry: https://librarycarpentry.org/lc-webscraping/02-xpath/index.html\n",
    "\n",
    "Let's take a closer look with the `<titleproper>` elements:"
   ]
  },
  {
   "cell_type": "code",
   "execution_count": 23,
   "metadata": {},
   "outputs": [
    {
     "name": "stdout",
     "output_type": "stream",
     "text": [
      "{http://ead3.archivists.org/schema/}titleproper Finding Aid for the William R. Day Collection day \n"
     ]
    }
   ],
   "source": [
    "title = tree.find('ead:control/ead:filedesc/ead:titlestmt/ead:titleproper', ns)\n",
    "print(title.tag, title.text)"
   ]
  },
  {
   "cell_type": "code",
   "execution_count": 24,
   "metadata": {},
   "outputs": [
    {
     "name": "stdout",
     "output_type": "stream",
     "text": [
      "{http://ead3.archivists.org/schema/}titleproper Finding Aid for the William R. Day Collection day \n",
      "{http://ead3.archivists.org/schema/}titleproper William R. Day Collection\n"
     ]
    }
   ],
   "source": [
    "for title in tree.findall('ead:control/ead:filedesc/ead:titlestmt/ead:titleproper', ns):\n",
    "    print(title.tag, title.text)"
   ]
  },
  {
   "cell_type": "markdown",
   "metadata": {},
   "source": [
    "Using an XPath selector, we can write the above more efficiently. We can select all elements with a matching element tag using `.` followed by `//`. The `.` selects the current element (if we specify `tree` that is the root element in this case `ead`), and the double slash `//` selects any child element matching the element name supllied. Thus. `.//ead:titleproper` will select any `titleproper` elements in the file:"
   ]
  },
  {
   "cell_type": "code",
   "execution_count": 25,
   "metadata": {},
   "outputs": [
    {
     "name": "stdout",
     "output_type": "stream",
     "text": [
      "<Element '{http://ead3.archivists.org/schema/}titleproper' at 0x7fb04923a220>\n",
      "<Element '{http://ead3.archivists.org/schema/}titleproper' at 0x7fb04923a040>\n"
     ]
    }
   ],
   "source": [
    "for title in tree.findall('.//ead:titleproper', ns):\n",
    "    print(title)"
   ]
  },
  {
   "cell_type": "markdown",
   "metadata": {},
   "source": [
    "Similarly, we could look for some of the elements in the collection contents using the `c` elements. For example, the `c01` tag (representing the \"first level\" of container objects), occurs multiple times and in this case represents the various series in the collection). Below, the loop uses `findall` to look for all `c01` elements in the current tree, prints the `id` attribute, tag name and list of attributes. Then, a `find` statement is extracts the text of the series description from the `scopecontent` note of the `c01` level and prints it. Finally, a second nested `findall()` looks for the `unittitle` of all `c02` elements within the series and prints a list of the folders or boxes in the series:  "
   ]
  },
  {
   "cell_type": "code",
   "execution_count": 26,
   "metadata": {},
   "outputs": [
    {
     "name": "stdout",
     "output_type": "stream",
     "text": [
      "Series id: aspace_ref1\n",
      " {http://ead3.archivists.org/schema/}c01 {'id': 'aspace_ref1', 'level': 'series'}\n",
      "The Correspondence and Papers series contains correspondence and papers from William Day and various family members. \n",
      "\n",
      "William Day\n",
      "1896\n",
      "1897\n",
      "1898 (3 folders)\n",
      "1899\n",
      "1900-1911\n",
      "1920-1923\n",
      "Undated\n",
      "Biographical\n",
      "Scrapbook\n",
      "Family\n",
      "Luther Day (Father)\n",
      "Emily Spalding Day (Mother)\n",
      "Louis Schaefer (Father-in-Law)\n",
      "Other Members\n",
      "Miscellaneous (3 folders)\n",
      "Series id: aspace_ref18\n",
      " {http://ead3.archivists.org/schema/}c01 {'id': 'aspace_ref18', 'level': 'series'}\n",
      "The Manuscripts series contains work by William Day and his son, Stephen Day. It also has a dissertation about William Day by Joseph McLean, and a folder of miscellaneous materials. \n",
      "\n",
      "William Day on McKinley\n",
      "Stephan Day Notebook\n",
      "McLean Dissertation on William Day (2 folders)\n",
      "Miscellaneous\n",
      "Series id: aspace_ref22\n",
      " {http://ead3.archivists.org/schema/}c01 {'id': 'aspace_ref22', 'level': 'series'}\n",
      "The Newspaper series includes issues of the University of Michigan newspaper  \n",
      "\n",
      "None\n",
      "Clippings\n",
      "Series id: aspace_ref26\n",
      " {http://ead3.archivists.org/schema/}c01 {'id': 'aspace_ref26', 'level': 'series'}\n",
      "The Publications series brings together the published materials within the William R. Day Collection, including some of his speeches. \n",
      "\n",
      "Supreme Court Booklets (2 folders)\n",
      "None\n",
      "None\n",
      "None\n",
      "None\n",
      "None\n",
      "None\n",
      "None\n",
      "None\n",
      "House of Representatives Booklets\n",
      "Forty-Eighth Congress Jonathan H. Wallace vs William McKinley, Jr (2 copies)\n",
      "H. R. 12704 - appropriation act\n",
      "Expenses of Mixed Claims Commission, United States and Germany\n",
      "Treaties\n",
      "Treaty series number 659 between the United States and Austria\n",
      "Treaty series 665 between the United States and Germany\n",
      "Papers Relating to the Treaty with Spain\n",
      "Ohio Booklets\n",
      "None\n",
      "Supreme Court of Ohio Richard H. Umbenhour vs The State of Ohio\n",
      "Speeches and Writings by William Day\n",
      "Address of William R. Day at the Ravenna, Ohio Homecoming, August 25, 1909 (2 copies)\n",
      "None\n",
      "Address of William R. Day at the Conference under the auspices of the American Peace Centenary Committee, held at Makinac Island July 21, 22, 1914\n",
      "Address of William R. Day at the Unveiling of the Marquette Statue on Mackinac Island, September 1, 1909 (2 copies)\n",
      "Remarks of William R. Day at the dinner in honor of John Joy Edson on this seventy-fifth birthday, May 17, 1921 (2 copies)\n",
      "Testimonial to John Joy Edson by his Friends and Fellow-Citizens\n",
      "Sophomore Exhibition program Class of 1870\n",
      "Miscellaneous Booklets\n",
      "None\n",
      "None\n",
      "None\n",
      "None\n",
      "None\n",
      "None\n",
      "None\n",
      "None\n",
      "None\n",
      "Series id: aspace_ref28\n",
      " {http://ead3.archivists.org/schema/}c01 {'id': 'aspace_ref28', 'level': 'series'}\n",
      "The Ephemera series contains a carte de visite and a packet of seeds. \n",
      "\n",
      "Envelope for Goldie's Pens: Contains seeds.\n",
      "Carte de Visite of William R. Day (?)\n"
     ]
    }
   ],
   "source": [
    "did_count = 0\n",
    "\n",
    "for obj in tree.findall('.//ead:c01', ns):\n",
    "    did_count += 1\n",
    "    # pull out the series id for the c01 element \n",
    "    print(f'Series id: {obj.attrib[\"id\"]}\\n',obj.tag, obj.attrib)\n",
    "    # pull out and print the paragraph in the scopecontent note for the series \n",
    "    scope = obj.find('.//ead:scopecontent/ead:p', ns)\n",
    "    print(scope.text,'\\n')\n",
    "    # look through the siers and find the c02 second levels and their unittitles to see the various folders or subseries in the c01 level\n",
    "    for item in obj.findall('.//ead:c02//ead:unittitle', ns):\n",
    "        print(item.text)"
   ]
  },
  {
   "cell_type": "markdown",
   "metadata": {},
   "source": [
    "To summarize, this notebook covered the basics of parsing XML with the eTree module in Python. Specifically, we demonstrated how to load and parse an XML document from a file, explored how to navigate and identify specific elements and attributes, how to work with namespaces (within a progrm and when writing out XML), how to write XML to a file, and how add and remove attributes. This provides a basic toolbox for working with, analyzing, and modifying XML.  "
   ]
  }
 ],
 "metadata": {
  "kernelspec": {
   "display_name": "Python 3.9.12 ('base')",
   "language": "python",
   "name": "python3"
  },
  "language_info": {
   "codemirror_mode": {
    "name": "ipython",
    "version": 3
   },
   "file_extension": ".py",
   "mimetype": "text/x-python",
   "name": "python",
   "nbconvert_exporter": "python",
   "pygments_lexer": "ipython3",
   "version": "3.9.12"
  },
  "orig_nbformat": 4,
  "vscode": {
   "interpreter": {
    "hash": "433e84b6a98ffad52b36edc50e1a65f78fac85298e4e4f5ab24f4a24b9cfbcd2"
   }
  }
 },
 "nbformat": 4,
 "nbformat_minor": 2
}
