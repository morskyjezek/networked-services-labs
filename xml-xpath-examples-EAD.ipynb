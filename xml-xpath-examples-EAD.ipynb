{
 "cells": [
  {
   "cell_type": "markdown",
   "metadata": {},
   "source": [
    "# XML: XPath and EAD examples\n",
    "\n",
    "Some additional examples using XPath to make queries to sample EAD documents stored as XML."
   ]
  },
  {
   "cell_type": "code",
   "execution_count": 4,
   "metadata": {},
   "outputs": [],
   "source": [
    "import xml.etree.ElementTree as ET"
   ]
  },
  {
   "cell_type": "markdown",
   "metadata": {},
   "source": [
    "The lxml library allows for greater use of XPath and also pretty printing. The lxml library also has some useful functions like `.subElement()` and `.getparent()`. So let's import lxml too:"
   ]
  },
  {
   "cell_type": "code",
   "execution_count": 5,
   "metadata": {},
   "outputs": [],
   "source": [
    "# depending on your VS Code setup or what python you're using, you may need to install lxml\n",
    "from lxml import etree"
   ]
  },
  {
   "cell_type": "code",
   "execution_count": 6,
   "metadata": {},
   "outputs": [],
   "source": [
    "tree = ET.parse('data/xml/superior-papers.xml')\n",
    "root = tree.getroot()"
   ]
  },
  {
   "cell_type": "code",
   "execution_count": 7,
   "metadata": {},
   "outputs": [],
   "source": [
    "ns = {\n",
    "    'ead': 'http://ead3.archivists.org/schema/'\n",
    "}"
   ]
  },
  {
   "cell_type": "code",
   "execution_count": null,
   "metadata": {},
   "outputs": [
    {
     "name": "stdout",
     "output_type": "stream",
     "text": [
      "{http://ead3.archivists.org/schema/}control\n",
      "{http://ead3.archivists.org/schema/}archdesc\n"
     ]
    }
   ],
   "source": [
    "for element in root:\n",
    "    print(element.tag)"
   ]
  },
  {
   "cell_type": "markdown",
   "metadata": {},
   "source": [
    "## Prefix and asterisk\n",
    "\n",
    "Use the prefix and an asterisk to find all tags from a particular namespace:"
   ]
  },
  {
   "cell_type": "code",
   "execution_count": 8,
   "metadata": {},
   "outputs": [
    {
     "name": "stdout",
     "output_type": "stream",
     "text": [
      "{http://ead3.archivists.org/schema/}control {'countryencoding': 'iso3166-1', 'dateencoding': 'iso8601', 'langencoding': 'iso639-2b'}\n",
      "{http://ead3.archivists.org/schema/}recordid {'instanceurl': 'http://jajohnst.si.umich.edu/fake-ead.xml'}\n",
      "{http://ead3.archivists.org/schema/}filedesc {}\n",
      "{http://ead3.archivists.org/schema/}titlestmt {}\n",
      "{http://ead3.archivists.org/schema/}titleproper {}\n",
      "{http://ead3.archivists.org/schema/}publicationstmt {}\n",
      "{http://ead3.archivists.org/schema/}publisher {}\n",
      "{http://ead3.archivists.org/schema/}date {'normal': '2022-09-01'}\n",
      "{http://ead3.archivists.org/schema/}archdesc {'level': 'collection', 'audience': 'external'}\n",
      "{http://ead3.archivists.org/schema/}did {}\n",
      "{http://ead3.archivists.org/schema/}repository {}\n",
      "{http://ead3.archivists.org/schema/}corpname {}\n",
      "{http://ead3.archivists.org/schema/}part {}\n",
      "{http://ead3.archivists.org/schema/}part {}\n",
      "{http://ead3.archivists.org/schema/}bioghist {}\n",
      "{http://ead3.archivists.org/schema/}dsc {'dsctype': 'otherdsctype', 'audience': 'external'}\n",
      "{http://ead3.archivists.org/schema/}c01 {'level': 'series'}\n",
      "{http://ead3.archivists.org/schema/}c02 {'level': 'series'}\n",
      "{http://ead3.archivists.org/schema/}c03 {'level': 'file', 'audience': 'internal'}\n"
     ]
    }
   ],
   "source": [
    "allEadTags = root.findall('.//ead:*', ns)\n",
    "\n",
    "for tag in allEadTags:\n",
    "    print(tag.tag, tag.attrib)"
   ]
  },
  {
   "cell_type": "markdown",
   "metadata": {},
   "source": [
    "## Prefix, asterisk, and attribute\n",
    "\n",
    "Use the prefix, an asterisk, and look for any matching tag wiht a particular attribute. In this case, `audience=\"internal\"`:"
   ]
  },
  {
   "cell_type": "code",
   "execution_count": 9,
   "metadata": {},
   "outputs": [
    {
     "name": "stdout",
     "output_type": "stream",
     "text": [
      "{http://ead3.archivists.org/schema/}c03 {'level': 'file', 'audience': 'internal'}\n"
     ]
    }
   ],
   "source": [
    "internalTags = root.findall('.//ead:*[@audience=\"internal\"]', ns)\n",
    "\n",
    "for tag in internalTags:\n",
    "    print(tag.tag, tag.attrib)"
   ]
  },
  {
   "cell_type": "markdown",
   "metadata": {},
   "source": [
    "Similar to above, but audience attribute with the value of \"external\": "
   ]
  },
  {
   "cell_type": "code",
   "execution_count": null,
   "metadata": {},
   "outputs": [
    {
     "name": "stdout",
     "output_type": "stream",
     "text": [
      "{http://ead3.archivists.org/schema/}archdesc {'level': 'collection', 'audience': 'external', 'checked': 'yes'}\n",
      "{http://ead3.archivists.org/schema/}dsc {'dsctype': 'otherdsctype', 'audience': 'external', 'checked': 'yes'}\n"
     ]
    }
   ],
   "source": [
    "# look for any tags that have an audience attribute that is set to \"external\"\n",
    "internalTags = root.findall('.//ead:*[@audience=\"external\"]', ns)\n",
    "\n",
    "for tag in internalTags:\n",
    "    tag.set('checked', 'yes')\n",
    "    print(tag.tag, tag.attrib)\n"
   ]
  },
  {
   "cell_type": "markdown",
   "metadata": {},
   "source": [
    "## Prefix with asterisk and a specific attribute, no specified value\n",
    "\n",
    "Here any tag from the EAD namespace that has an `audience` attribute:"
   ]
  },
  {
   "cell_type": "code",
   "execution_count": null,
   "metadata": {},
   "outputs": [
    {
     "name": "stdout",
     "output_type": "stream",
     "text": [
      "{http://ead3.archivists.org/schema/}archdesc {'level': 'collection', 'audience': 'external', 'checked': 'yes'}\n",
      "{http://ead3.archivists.org/schema/}dsc {'dsctype': 'otherdsctype', 'audience': 'external', 'checked': 'yes'}\n",
      "{http://ead3.archivists.org/schema/}c03 {'level': 'file', 'audience': 'internal'}\n"
     ]
    }
   ],
   "source": [
    "# look for any tags with audience attribute\n",
    "internalTags = root.findall('.//ead:*[@audience]', ns)\n",
    "\n",
    "for tag in internalTags:\n",
    "    print(tag.tag, tag.attrib)"
   ]
  },
  {
   "cell_type": "markdown",
   "metadata": {},
   "source": [
    "Using the asterisk, but only looking wihtin the `archdesc` element:"
   ]
  },
  {
   "cell_type": "code",
   "execution_count": 24,
   "metadata": {},
   "outputs": [
    {
     "name": "stdout",
     "output_type": "stream",
     "text": [
      "{http://ead3.archivists.org/schema/}did {}\n",
      "\n",
      "looking for subElements:\n",
      "{http://ead3.archivists.org/schema/}repository\n",
      "{http://ead3.archivists.org/schema/}corpname\n",
      "{http://ead3.archivists.org/schema/}part\n",
      "{http://ead3.archivists.org/schema/}part\n",
      "{http://ead3.archivists.org/schema/}bioghist {}\n",
      "\n",
      "looking for subElements:\n",
      "{http://ead3.archivists.org/schema/}dsc {'dsctype': 'otherdsctype', 'audience': 'external'}\n",
      "\n",
      "looking for subElements:\n",
      "{http://ead3.archivists.org/schema/}c01\n",
      "{http://ead3.archivists.org/schema/}c02\n",
      "{http://ead3.archivists.org/schema/}c03\n"
     ]
    }
   ],
   "source": [
    "archDesc = root.find('.//ead:archdesc', ns)\n",
    "\n",
    "for tag in archDesc:\n",
    "    print(tag.tag, tag.attrib)\n",
    "    print('\\nlooking for subElements:')\n",
    "    subElements = tag.findall('.//ead:*', ns)\n",
    "    for subE in subElements:\n",
    "        print(subE.tag)"
   ]
  },
  {
   "cell_type": "code",
   "execution_count": 29,
   "metadata": {},
   "outputs": [
    {
     "name": "stdout",
     "output_type": "stream",
     "text": [
      "{http://ead3.archivists.org/schema/}ead {'audience': 'external'}\n"
     ]
    }
   ],
   "source": [
    "# all top-level elements\n",
    "elements = root.findall('.', ns)\n",
    "for element in elements:\n",
    "    print(element.tag, element.attrib)"
   ]
  },
  {
   "cell_type": "code",
   "execution_count": 35,
   "metadata": {},
   "outputs": [
    {
     "name": "stdout",
     "output_type": "stream",
     "text": [
      "{http://ead3.archivists.org/schema/}archdesc {'level': 'collection', 'audience': 'external'}\n"
     ]
    }
   ],
   "source": [
    "# all elements with an audience=external attibute that have a child element did\n",
    "elements = root.findall('.//ead:did/..[@audience=\"external\"]', ns)\n",
    "for element in elements:\n",
    "    print(element.tag, element.attrib)"
   ]
  },
  {
   "cell_type": "code",
   "execution_count": 43,
   "metadata": {},
   "outputs": [
    {
     "name": "stdout",
     "output_type": "stream",
     "text": [
      "{http://ead3.archivists.org/schema/}corpname {}\n"
     ]
    }
   ],
   "source": [
    "# all corpname elements that are children of a node with an external audience attribute\n",
    "elements = root.findall('.//ead:*[@audience=\"external\"]//ead:corpname', ns)\n",
    "for element in elements:\n",
    "    print(element.tag, element.attrib)"
   ]
  },
  {
   "cell_type": "code",
   "execution_count": 107,
   "metadata": {},
   "outputs": [
    {
     "name": "stdout",
     "output_type": "stream",
     "text": [
      "{http://ead3.archivists.org/schema/}c03 <class 'xml.etree.ElementTree.Element'>\n",
      "audience: internal\n",
      "removing...\n"
     ]
    },
    {
     "ename": "ValueError",
     "evalue": "list.remove(x): x not in list",
     "output_type": "error",
     "traceback": [
      "\u001b[0;31m---------------------------------------------------------------------------\u001b[0m",
      "\u001b[0;31mValueError\u001b[0m                                Traceback (most recent call last)",
      "Cell \u001b[0;32mIn [107], line 10\u001b[0m\n\u001b[1;32m      8\u001b[0m     count_removals \u001b[38;5;241m+\u001b[39m\u001b[38;5;241m=\u001b[39m \u001b[38;5;241m1\u001b[39m\n\u001b[1;32m      9\u001b[0m     \u001b[38;5;28mprint\u001b[39m(\u001b[38;5;124m'\u001b[39m\u001b[38;5;124mremoving...\u001b[39m\u001b[38;5;124m'\u001b[39m)\n\u001b[0;32m---> 10\u001b[0m     \u001b[43mroot\u001b[49m\u001b[38;5;241;43m.\u001b[39;49m\u001b[43mremove\u001b[49m\u001b[43m(\u001b[49m\u001b[43meadNode\u001b[49m\u001b[43m)\u001b[49m\n\u001b[1;32m     11\u001b[0m \u001b[38;5;28;01melse\u001b[39;00m:\n\u001b[1;32m     12\u001b[0m     \u001b[38;5;28;01mcontinue\u001b[39;00m\n",
      "\u001b[0;31mValueError\u001b[0m: list.remove(x): x not in list"
     ]
    }
   ],
   "source": [
    "# TODO: fix removals example\n",
    "# At present, this does not work:\n",
    "count_removals = 0\n",
    "# remove all ead nodes with an internal audience attrib\n",
    "for eadNode in root.findall('.//{http://ead3.archivists.org/schema/}c03'):\n",
    "    print(eadNode.tag, type(eadNode))\n",
    "    audience = eadNode.get('audience')\n",
    "    print('audience:',audience)\n",
    "    if audience == 'internal':\n",
    "        count_removals += 1\n",
    "        print('removing...')\n",
    "        root.remove(eadNode)\n",
    "    else:\n",
    "        continue\n",
    "\n",
    "print(f'removed {count_removals} internal elements.')"
   ]
  },
  {
   "cell_type": "markdown",
   "metadata": {},
   "source": [
    "# Write out / Save as XML\n",
    "\n",
    "Examples of how to save the modified tree as well-formed and valid XML with EAD namespace:"
   ]
  },
  {
   "cell_type": "code",
   "execution_count": 25,
   "metadata": {},
   "outputs": [],
   "source": [
    "ET.register_namespace('ead', 'http://ead3.archivists.org/schema/')"
   ]
  },
  {
   "cell_type": "markdown",
   "metadata": {},
   "source": [
    "The `ET` print function is okay, but the `etree` function provides a nice \"pretty\" function:"
   ]
  },
  {
   "cell_type": "code",
   "execution_count": 16,
   "metadata": {},
   "outputs": [
    {
     "name": "stdout",
     "output_type": "stream",
     "text": [
      "b'<ns0:ead xmlns:ns0=\"http://ead3.archivists.org/schema/\" audience=\"external\">\\n    <ns0:control countryencoding=\"iso3166-1\" dateencoding=\"iso8601\" langencoding=\"iso639-2b\">\\n        <ns0:recordid instanceurl=\"http://jajohnst.si.umich.edu/fake-ead.xml\">1234</ns0:recordid>\\n        <ns0:filedesc>\\n            <ns0:titlestmt>\\n                <ns0:titleproper>A Finding Aid for the Superior Papers</ns0:titleproper>\\n            </ns0:titlestmt>\\n            <ns0:publicationstmt>\\n                <ns0:publisher>University of Michigan School of Information</ns0:publisher>\\n                <ns0:date normal=\"2022-09-01\">September 2022</ns0:date>\\n            </ns0:publicationstmt>\\n        </ns0:filedesc>\\n    </ns0:control>\\n    <ns0:archdesc level=\"collection\" audience=\"external\">\\n        <ns0:did>\\n            <ns0:repository>\\n                <ns0:corpname>\\n                    <ns0:part>University of Michigan</ns0:part>\\n                    <ns0:part>School of Information</ns0:part>\\n                </ns0:corpname>\\n            </ns0:repository>\\n        </ns0:did>\\n        \\n        <ns0:bioghist>This collection is a superior collection of papers for a superior organization and individual.</ns0:bioghist>\\n        <ns0:dsc dsctype=\"otherdsctype\" audience=\"external\">\\n            <ns0:c01 level=\"series\">Business Records</ns0:c01>\\n            <ns0:c02 level=\"series\">Correspondence</ns0:c02>\\n            <ns0:c03 level=\"file\" audience=\"internal\">Personal File</ns0:c03>\\n        </ns0:dsc>\\n    </ns0:archdesc>\\n</ns0:ead>'\n"
     ]
    }
   ],
   "source": [
    "print(ET.tostring(root))"
   ]
  },
  {
   "cell_type": "code",
   "execution_count": 102,
   "metadata": {},
   "outputs": [],
   "source": [
    "tree.write('data/xml/superior-papers.xml', xml_declaration=True, encoding='utf-8')"
   ]
  }
 ],
 "metadata": {
  "kernelspec": {
   "display_name": "Python 3.9.12 ('base')",
   "language": "python",
   "name": "python3"
  },
  "language_info": {
   "codemirror_mode": {
    "name": "ipython",
    "version": 3
   },
   "file_extension": ".py",
   "mimetype": "text/x-python",
   "name": "python",
   "nbconvert_exporter": "python",
   "pygments_lexer": "ipython3",
   "version": "3.9.12"
  },
  "orig_nbformat": 4,
  "vscode": {
   "interpreter": {
    "hash": "433e84b6a98ffad52b36edc50e1a65f78fac85298e4e4f5ab24f4a24b9cfbcd2"
   }
  }
 },
 "nbformat": 4,
 "nbformat_minor": 2
}
