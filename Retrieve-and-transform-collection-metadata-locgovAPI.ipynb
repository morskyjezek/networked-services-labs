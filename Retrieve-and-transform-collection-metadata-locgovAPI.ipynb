{
 "cells": [
  {
   "cell_type": "markdown",
   "id": "8bec8f5c-90cb-4936-a161-b1f1c53ed2df",
   "metadata": {},
   "source": [
    "# Extracting and Transforming Metadata\n",
    "\n",
    "This notebook involves many steps, but each of the main steps is signposted with headings that align with the initial outline below. As previously, we will walk through the steps in class, but at this point you have most of the tools to read through and reconstruct a process like this on your own, so this work will be more self-guided. The general process here follows the generalized \"Extract - Transform - Load\" process, which is frequently the abstract model for pulling data from one system, transporting, cleaning, and outputting to another system, which is the goal here: extract the metadata from the Library of Congress, change it into a structure that makes sense to Omeka, then ingest that data and associated content.\n",
    "\n",
    "## Learning objectives\n",
    "\n",
    "After completing the assignment associated with this notebook, you should: \n",
    "\n",
    "* Have a conceptual and a practical understanding of how collection metadata is made available by a REST API.\n",
    "* Be able to explain the concept of metadata extraction and transformation.\n",
    "* Create a structure for documenting metadata practices in a collection or repository (a Metadata Application Profile) and implement that structure for transformations. \n",
    "* Use programming to work with data supplied by an API in JSON format, to manage and transform useful parts of that data into CSV format.\n",
    "* Create ingest-ready collection metadata that conforms to Dublin Core and other digital collection metadata standards, which can be used to load content into another site (in this case, an Omeka S site). \n",
    "\n",
    "## Introduction\n",
    "\n",
    "The main steps outlined in this notebook are as follows:\n",
    "\n",
    "* **Extract the metadata.** This may be done in whatever way works for you. As illustrated here, there are two main steps that involve requesting JSON data from the Library of Congress: \n",
    "  1. Get collections list - using the requests library, make a request to the library of congress API to get the list of items in the \"Free to Use\" libraries collection. Write this to a local file (here called `collection_items_list.csv` and in the `data` directory). \n",
    "  1. Get item metadata - using the list from the previous step, use that a source to query each item in the collection to get details about it. Save the JSON responses locally so we can extract information from them in the next steps. (In this example, you will have around 60 files, but a maximum of 62 as of September 2022. This number may vary when you run this code yourself since the website may have different response rates.)\n",
    "* **Transform the metadata.** As illustrated here, there are three substeps: develop the conceptual model for your transformation (expressed in a Metadata Application Profile and an implementation of the MAP in a crosswalk), test the implementation on a small subset, then run your transformation on the entire set.\n",
    "  1. Draft a metadata crosswalk - this is an exploratory activity and you will need to take some time examining one or two sample responses from the previous step to identify the attributes that you want to extract (the goal is to identify the information that you want to import to your Omeka site collection, essentially we are going to recreate the collection), to see how to extract these from the JSON, and to write a test transformation in the next step. This is largely conceptual and, although it is sketched out in this notebook will not use python like the other steps here. That said, the next step does require this step. \n",
    "  1. Develop your transformation script with a small subset of the metadata. In this case, one record.\n",
    "  1. Transform the data you've gathered in JSON into a CSV file according to the metadata crosswalk you've developed. The goal in this step is to create a CSV that we can use to import items into your Omeka site (using the CSV Import module). Note that the code outlined here suggests how all of these data elements may be extracted and transformed, but it does not necessarily output all of the elements that you will need to complete your assignment. In other words, there is still work to do to complete this code, but you are welcome to adopt or reuse the code here.  \n",
    "* **Load the metadata** into your target system, in this case Omeka which we are using as a display platform. This step is not described in this notebook, because it requires the use of the CSV developed here to be ingested to your Omeka site. Without the above steps, however, you wouldn't be able to directly display these items. "
   ]
  },
  {
   "cell_type": "markdown",
   "id": "00a281bf-4fb1-4bb2-b01f-d4f1c523e905",
   "metadata": {},
   "source": [
    "# Get collection list"
   ]
  },
  {
   "cell_type": "code",
   "execution_count": 1,
   "id": "fd81df05-072c-47cd-b4dc-b3abdbaa8400",
   "metadata": {},
   "outputs": [],
   "source": [
    "import csv\n",
    "import json\n",
    "import requests\n",
    "\n",
    "# for later, when working with local files\n",
    "import glob\n",
    "import os\n",
    "from os.path import join"
   ]
  },
  {
   "cell_type": "code",
   "execution_count": 2,
   "id": "fc347104-09d2-4775-8a40-bcccf62488da",
   "metadata": {},
   "outputs": [],
   "source": [
    "endpoint = 'https://www.loc.gov/free-to-use'\n",
    "parameters = {\n",
    "    'fo' : 'json'\n",
    "}"
   ]
  },
  {
   "cell_type": "code",
   "execution_count": 3,
   "id": "782bf143-ead3-4b6c-a5e4-fe716fa6ca29",
   "metadata": {},
   "outputs": [],
   "source": [
    "collection = 'libraries'"
   ]
  },
  {
   "cell_type": "code",
   "execution_count": 4,
   "id": "3f80d186-dae5-4e58-a477-522d2daa3879",
   "metadata": {},
   "outputs": [],
   "source": [
    "collection_list_response = requests.get(endpoint + '/' + collection, params=parameters)"
   ]
  },
  {
   "cell_type": "code",
   "execution_count": 5,
   "id": "818bdf3e-21eb-4cbb-b0c8-cc19b96642b7",
   "metadata": {},
   "outputs": [
    {
     "data": {
      "text/plain": [
       "'https://www.loc.gov/free-to-use/libraries?fo=json'"
      ]
     },
     "execution_count": 5,
     "metadata": {},
     "output_type": "execute_result"
    }
   ],
   "source": [
    "collection_list_response.url"
   ]
  },
  {
   "cell_type": "code",
   "execution_count": 6,
   "id": "085b1467-c97a-4dac-9a8d-e79482d2e892",
   "metadata": {},
   "outputs": [],
   "source": [
    "collection_json = collection_list_response.json()"
   ]
  },
  {
   "cell_type": "markdown",
   "id": "f094c36f-a94a-4645-b3a6-8310898aeaff",
   "metadata": {},
   "source": [
    "Take a moment to look around in the JSON response. Where would you look for the data about the items in the collection of free to use library images? \n",
    "\n",
    "_Hint: At this point we're not really looking for the information about the images, but the pointers to them (such as headings, links, etc)._ "
   ]
  },
  {
   "cell_type": "code",
   "execution_count": 7,
   "id": "02b66184",
   "metadata": {},
   "outputs": [
    {
     "data": {
      "text/plain": [
       "dict_keys(['breadcrumbs', 'content', 'content_is_post', 'description', 'expert_resources', 'next', 'next_sibling', 'options', 'pages', 'portal', 'previous', 'previous_sibling', 'site_type', 'timestamp', 'title', 'type'])"
      ]
     },
     "execution_count": 7,
     "metadata": {},
     "output_type": "execute_result"
    }
   ],
   "source": [
    "# .keys() is a helpful function to see what the data elements are\n",
    "collection_json.keys()"
   ]
  },
  {
   "cell_type": "markdown",
   "id": "b74d398e",
   "metadata": {},
   "source": [
    "Looking further into the dictionary, it seems that you can get a list of the items in the set by looking into `content`, then `set`, then the `items` element:"
   ]
  },
  {
   "cell_type": "code",
   "execution_count": 8,
   "id": "c92bbacc-7cf8-47e7-9e2e-88542eaf9d8b",
   "metadata": {
    "collapsed": true,
    "jupyter": {
     "outputs_hidden": true
    },
    "tags": []
   },
   "outputs": [
    {
     "name": "stdout",
     "output_type": "stream",
     "text": [
      "{'image': '/static/portals/free-to-use/public-domain/libraries/libraries-1.jpg', 'link': '/resource/cph.3f05183/', 'title': 'For greater knowledge, on more subjects, use your library more often. Illinois WPA Arts Project, 1936-1941. Prints & Photographs Division'}\n",
      "{'image': '/static/portals/free-to-use/public-domain/libraries/libraries-2.jpg', 'link': '/resource/highsm.20336/', 'title': 'Noyes Library for Young Children. Kensington, Maryland. Photo by Carol M. Highsmith,  2011. Prints & Photographs Division'}\n",
      "{'image': '/static/portals/free-to-use/public-domain/libraries/libraries-3.jpg', 'link': '/resource/fsa.8d24709/', 'title': 'Bethune-Cookman College. Students in the library reading room, Daytona Beach, Florida. Gordon Parks, 1943. Prints & Photographs Division'}\n",
      "{'image': '/static/portals/free-to-use/public-domain/libraries/libraries-4.jpg', 'link': '/resource/highsm.36052/', 'title': 'Public library in Antonito,  Colorado, near the New Mexico border. Photo by Carol M. Highsmith, 2015. Prints & Photographs Division'}\n",
      "{'image': '/static/portals/free-to-use/public-domain/libraries/libraries-5.jpg', 'link': '/resource/highsm.51772/', 'title': 'Library and Innovation Center in New Castle, Delaware, defines itself as \"a community learning and resource hub.\" Photo by Carol M. Highsmith, 2018. Prints & Photographs Division\\n'}\n",
      "{'image': '/static/portals/free-to-use/public-domain/libraries/libraries-6.jpg', 'link': '/resource/cph.3b43255/', 'title': 'Silence. Lithograph by Mabel Dwight, 1939. Prints & Photographs Division'}\n",
      "{'image': '/static/portals/free-to-use/public-domain/libraries/libraries-7.jpg', 'link': '/resource/highsm.20483/', 'title': 'Patterson Park Branch of the Enoch Pratt Free Library System. Photo by Carol M. Highsmith, 2011. Prints & Photographs Division'}\n",
      "{'image': '/static/portals/free-to-use/public-domain/libraries/libraries-8.jpg', 'link': '/resource/highsm.29207/', 'title': 'The easily identifiable J. Erik Jonsson Central Library, Dallas, Texas. Photo by Carol M. Highsmith, 2014. Prints & Photographs Division'}\n",
      "{'image': '/static/portals/free-to-use/public-domain/libraries/libraries-9.jpg', 'link': '/resource/fsa.8b32222/', 'title': 'Public library in the southwestern section of Mississippi, in the piney woods. Photo by Dorothea Lange, 1937. Prints & Photographs Division'}\n",
      "{'image': '/static/portals/free-to-use/public-domain/libraries/libraries-10.jpg', 'link': '/resource/highsm.64003/', 'title': '\"Bookmobile\" bus belonging to the Perry County Public Library in Hazard, Kentucky. Photo by Carol M. Highsmith, 2020. Prints & Photographs Division\\n'}\n",
      "{'image': '/static/portals/free-to-use/public-domain/libraries/libraries-11.jpg', 'link': '/resource/ppmsca.15412/', 'title': \"Creating the first fully developed children's department in 1899 is one of the historic milestones claimed by the Pittsburgh, Pennsylvania, Carnegie Library. Photo, 1900-1905. Prints & Photographs Division\\n\"}\n",
      "{'image': '/static/portals/free-to-use/public-domain/libraries/libraries-12.jpg', 'link': '/resource/highsm.49335/', 'title': 'Even a sculpted gila monster appears to be into reading near a Little Free Library in the Dunbar Spring neighborhood of Tucson, Arizona. Photo by Carol M. Highsmith, 2018. Prints & Photographs Division'}\n",
      "{'image': '/static/portals/free-to-use/public-domain/libraries/libraries-13.jpg', 'link': '/resource/highsm.20497/', 'title': 'Handley Library, Winchester, Virginia. Photo by Carol M. Highsmith, 2011. Prints & Photographs Division'}\n",
      "{'image': '/static/portals/free-to-use/public-domain/libraries/libraries-14.jpg', 'link': '/resource/npcc.28724/', 'title': 'Reading room for the blind, Library of Congress, Washington, DC. By National Photo Co., 1919 or 1920. Prints & Photographs Division'}\n",
      "{'image': '/static/portals/free-to-use/public-domain/libraries/libraries-15.jpg', 'link': '/resource/ds.06560/', 'title': 'Main public library building, Detroit, Michigan. Cass Gilbert, architect. Postcard by Albertype Co., 1921-1930. Prints & Photographs Division'}\n",
      "{'image': '/static/portals/free-to-use/public-domain/libraries/libraries-16.jpg', 'link': '/resource/hhh.hi0135.photos', 'title': \"Mother Marianne Library, Moloka'i Island, Kalaupapa, Kalawao County, Hawaii. Photo by Jack Boucher, 1991. Historic American Buildings Survey. Prints & Photographs Division\"}\n",
      "{'image': '/static/portals/free-to-use/public-domain/libraries/libraries-17.jpg', 'link': '/resource/cph.3f05168/', 'title': 'Curb service, 10,000 current books, convenient, free, time saving : Chicago Public Library, Randolph St. corridor. Illinois WPA Art Project, 1936-1941. Prints & Photographs Division\\n'}\n",
      "{'image': '/static/portals/free-to-use/public-domain/libraries/libraries-18.jpg', 'link': '/resource/ppmsca.15375/', 'title': 'Reading Room, Billings Memorial Library, University of Vermont, Burlington, Vermont. H.H. Richardson, architect. Photo, approx. 1890. Prints & Photographs Division'}\n",
      "{'image': '/static/portals/free-to-use/public-domain/libraries/libraries-19.jpg', 'link': '/resource/highsm.53335/', 'title': 'Library. Herbert Hoover Federal Building in Washington, D.C. Photo by Carol M. Highsmith, 2018. Prints & Photographs Division'}\n",
      "{'image': '/static/portals/free-to-use/public-domain/libraries/libraries-20.jpg', 'link': '/resource/hhh.ks0072.photos/?sp=2', 'title': 'Paola Free Library, Paola, Kansas. Photo by Dan Collins, 1984. Historic American Buildings Survey. Prints & Photographs Division'}\n",
      "{'image': '/static/portals/free-to-use/public-domain/libraries/libraries-21.jpg', 'link': '/resource/highsm.34640/', 'title': 'The Guernsey Branch Library, in Guernsey, Wyoming. Photo by Carol M. Highsmith, 2015. Prints & Photographs Division'}\n",
      "{'image': '/static/portals/free-to-use/public-domain/libraries/libraries-22.jpg', 'link': '/resource/ppmsca.17588/', 'title': 'Library of Congress when it was located in the U.S. Capitol. Copy of watercolor by William Bengough, 1897. Prints & Photographs Division'}\n",
      "{'image': '/static/portals/free-to-use/public-domain/libraries/libraries-23.jpg', 'link': '/resource/ppmsca.18016/', 'title': 'Library of Congress, Washington. By Detroit Publishing Co., 1902. Prints & Photographs Division'}\n",
      "{'image': '/static/portals/free-to-use/public-domain/libraries/libraries-24.jpg', 'link': '/resource/hhh.me0057.photos/?sp=1', 'title': 'Hubbard Free Library, Hallowell, Kennebec County, Maine. Copy of photo from approx. 1880. Historic American Buildings Survey. Prints & Photographs Division'}\n",
      "{'image': '/static/portals/free-to-use/public-domain/libraries/libraries-25.jpg', 'link': '/resource/highsm.41101/', 'title': 'Modernist stairway and bookstacks inside the Allen County Public Library, Fort Wayne, Indiana. Photo by Carol M. Highsmith, 2016. Prints & Photographs Division'}\n",
      "{'image': '/static/portals/free-to-use/public-domain/libraries/libraries-26.jpg', 'link': '/resource/det.4a17925/', 'title': 'Cossitt Library, Memphis, Tennessee. Photo by Detroit Publishing Co., 1906. Prints & Photographs Division'}\n",
      "{'image': '/static/portals/free-to-use/public-domain/libraries/libraries-27.jpg', 'link': '/resource/ppmsca.15426/', 'title': 'Main entrance. Boston Public Library. Massachusetts. 1895. Prints & Photographs Division'}\n",
      "{'image': '/static/portals/free-to-use/public-domain/libraries/libraries-28.jpg', 'link': '/resource/ppmscd.00084/', 'title': 'Interior view of library reading room with male and female students sitting at tables, reading, at the Tuskegee Institute, Alabama. Photo by Frances B. Johnston, approx. 1902. Prints & Photographs Division'}\n",
      "{'image': '/static/portals/free-to-use/public-domain/libraries/libraries-29.jpg', 'link': '/resource/highsm.18384/', 'title': 'George Peabody Library, Johns Hopkins University, Baltimore, Maryland. Photo by Carol M.  Highsmith, 2012. Prints & Photographs Division'}\n",
      "{'image': '/static/portals/free-to-use/public-domain/libraries/libraries-30.jpg', 'link': '/resource/g3851e.ct006252/', 'title': 'Map of Libraries, Washington, D.C. Library of Congress, 1926. Geography & Map Division'}\n",
      "{'image': '/static/portals/free-to-use/public-domain/libraries/libraries-31.jpg', 'link': '/resource/ppmsca.35590/', 'title': '\"Open Free to All\" is carved over the door of the Carnegie Public Library in Taunton, Massachusetts. Drawing by Albert R. Ross, approx. 1903. Prints & Photographs Division\\n'}\n",
      "{'image': '/static/portals/free-to-use/public-domain/libraries/libraries-32.jpg', 'link': '/resource/hhh.il0998.sheet/?sp=1', 'title': 'Paxton Carnegie Library, Paxton, Illinois. Drawing, 2011. Historic American Buildings Survey. Prints & Photographs Division'}\n",
      "{'image': '/static/portals/free-to-use/public-domain/libraries/libraries-33.jpg', 'link': '/resource/hhh.ok0012.sheet/?sp=8&q=hhh.ok0012', 'title': 'Carnegie Library, Guthrie, Oklahoma. Cross section drawing, 1973. Historic American Buildings Survey. Prints & Photographs Division'}\n",
      "{'image': '/static/portals/free-to-use/public-domain/libraries/libraries-34.jpg', 'link': '/resource/hhh.sc0767.photos/?sp=1', 'title': 'Carnegie Free Library, Union, South Carolina. Photo by Jack Boucher, 1987. Historic American Buildings Survey. Prints & Photographs Division'}\n",
      "{'image': '/static/portals/free-to-use/public-domain/libraries/libraries-35.jpg', 'link': '/resource/hhh.nj0089.photos/?sp=4', 'title': 'Princeton University, Library, Princeton, New Jersey. Photo by Jack Boucher, 1964. Historic American Buildings Survey. Prints & Photographs Division'}\n",
      "{'image': '/static/portals/free-to-use/public-domain/libraries/libraries-36.jpg', 'link': '/resource/highsm.31350/', 'title': 'Public library in Shepherdstown, West Virginia. Photo by Carol M. Highsmith, 2015. Prints & Photographs Division'}\n",
      "{'image': '/static/portals/free-to-use/public-domain/libraries/libraries-37.jpg', 'link': '/resource/hhh.ri0071.photos/?sp=8', 'title': 'Redwood Library, Newport, Rhode Island. Photo by Cervin Robinson, 1970. Historic American Buildings Survey. Prints & Photographs Division'}\n",
      "{'image': '/static/portals/free-to-use/public-domain/libraries/libraries-38.jpg', 'link': '/resource/highsm.48241/', 'title': 'Cook Memorial Library, the public library of Tamworth, New Hampshire. Photo by Carol M. Highsmith, 2017. Prints & Photographs Division'}\n",
      "{'image': '/static/portals/free-to-use/public-domain/libraries/libraries-39.jpg', 'link': '/resource/det.4a23603/', 'title': 'Little Rock Public Library, Little Rock, Arkansas. Photo by Detroit Publishing Co., approx. 1910. Prints & Photographs Division'}\n",
      "{'image': '/static/portals/free-to-use/public-domain/libraries/libraries-40.jpg', 'link': '/resource/highsm.04362/', 'title': 'Public Library, Salt Lake City, Utah. Photo by Carol M. Highsmith, 2007. Prints & Photographs Division'}\n",
      "{'image': '/static/portals/free-to-use/public-domain/libraries/libraries-41.jpg', 'link': '/resource/hhh.dc0121.photos/?sp=24', 'title': 'Riggs Library, Georgetown University, Washington, DC. Historic American Buildings Survey. 1969. Prints & Photographs Division'}\n",
      "{'image': '/static/portals/free-to-use/public-domain/libraries/libraries-42.jpg', 'link': '/resource/ppbd.00600/', 'title': \"The People's Library, set up by the Occupy Wall Street protest movement in Zuccotti Park, New York City. Photo by Teri Sierra, 2011. Prints & Photographs Division\\n\"}\n",
      "{'image': '/static/portals/free-to-use/public-domain/libraries/libraries-43.jpg', 'link': '/resource/fsa.8b14169/', 'title': 'Newspaper reading room of public library. Omaha, Nebraska. Photo by John Vachon, 1938. Prints & Photographs Division'}\n",
      "{'image': '/static/portals/free-to-use/public-domain/libraries/libraries-44.jpg', 'link': '/resource/highsm.32720/', 'title': 'Dusk view, Rawlings Public Library, Pueblo, Colorado. Photo by Carol M. Highsmith, 2015. Prints & Photographs Division'}\n",
      "{'image': '/static/portals/free-to-use/public-domain/libraries/libraries-45.jpg', 'link': '/resource/fsa.8c22565/', 'title': 'Library tent at the Farm Security Administration mobile camp for migratory farm workers, Odell, Oregon. Photo by Russell Lee, 1941. Prints & Photographs Division'}\n",
      "{'image': '/static/portals/free-to-use/public-domain/libraries/libraries-46.jpg', 'link': '/resource/mrg.00785/', 'title': 'Parmly Billings Library (Western Heritage Center), Billings, Montana. Photo by John Margolies, 2004. Prints & Photographs Division'}\n",
      "{'image': '/static/portals/free-to-use/public-domain/libraries/libraries-47.jpg', 'link': '/resource/hhh.ak0345.photos/?sp=2', 'title': 'Juneau Public Library, Juneau, Alaska. Photo by Jet Lowe, 1991. Historic American Buildings Survey. Prints & Photographs Division'}\n",
      "{'image': '/static/portals/free-to-use/public-domain/libraries/libraries-48.jpg', 'link': '/resource/highsm.43863/', 'title': 'Historic library in the North Carolina Capitol in Raleigh. Photo by Carol M. Highsmith, 2017. Prints & Photographs Division'}\n",
      "{'image': '/static/portals/free-to-use/public-domain/libraries/libraries-49.jpg', 'link': '/resource/highsm.42123/', 'title': \"An upright polar bear in Cincinnati, Ohio, not at the zoo, since it's stuffed, but at Cincinnati's main library. Photo by Carol M. Highsmith, 2016. Prints & Photographs Division\\n\"}\n",
      "{'image': '/static/portals/free-to-use/public-domain/libraries/libraries-50.jpg', 'link': '/resource/cph.3c18157/', 'title': 'Carnegie Library, Sheldon, Iowa. 1909. Prints & Photographs Division'}\n",
      "{'image': '/static/portals/free-to-use/public-domain/libraries/libraries-51.jpg', 'link': '/resource/ds.06507/', 'title': \"Buffalo, New York, Public library. Children's room. Photo by Levin C. Handy, approx. 1900. Prints & Photographs Division\\n\"}\n",
      "{'image': '/static/portals/free-to-use/public-domain/libraries/libraries-52.jpg', 'link': '/resource/highsm.24333/', 'title': 'Tower of the Central Library, Los Angeles, California. Photo by Carol M. Highsmith, 2013. Prints & Photographs Division'}\n",
      "{'image': '/static/portals/free-to-use/public-domain/libraries/libraries-53.jpg', 'link': '/resource/mrg.00788/', 'title': 'Library, Dickason Street, Columbus, Wisconsin. Photo by John Margolies, 2008. Prints & Photographs Division'}\n",
      "{'image': '/static/portals/free-to-use/public-domain/libraries/libraries-54.jpg', 'link': '/resource/highsm.20216/', 'title': 'Norfolk Library, Norfolk, Connecticut. Photo by Carol M. Highsmith, 2011. Prints & Photographs Division'}\n",
      "{'image': '/static/portals/free-to-use/public-domain/libraries/libraries-55.jpg', 'link': '/resource/cph.3b41963/', 'title': 'Carnegie Library, Cordele, Georgia. Photo, approx. 1916. Prints & Photographs Division'}\n",
      "{'image': '/static/portals/free-to-use/public-domain/libraries/libraries-56.jpg', 'link': '/resource/mrg.00432/', 'title': 'Nampa Public Library, Nampa, Idaho. Photo by John Margolies, 2004. Prints & Photographs Division'}\n",
      "{'image': '/static/portals/free-to-use/public-domain/libraries/libraries-57.jpg', 'link': '/resource/cph.3b39859/', 'title': 'Louisiana Industrial Institute and College Library with students reading, Ruston, Louisiana. Photo, 1900-1920. Prints & Photographs Division'}\n",
      "{'image': '/static/portals/free-to-use/public-domain/libraries/libraries-58.jpg', 'link': '/resource/highsm.60215/', 'title': 'The public library, with a creative book-themed facade, in Houston, Minnesota. Photo by Carol Highsmith, 2019. Prints & Photographs Division'}\n",
      "{'image': '/static/portals/free-to-use/public-domain/libraries/libraries-59.jpg', 'link': '/resource/ppmsca.15419/', 'title': 'Book room, Carnegie library, St. Joseph, Missouri. Photo, 1900-1905. Prints & Photographs Division'}\n",
      "{'image': '/static/portals/free-to-use/public-domain/libraries/libraries-60.jpg', 'link': '/resource/highsm.50410/', 'title': \"You wouldn't guess that this is a public library, but it is, in Skynomish, Washington. Photo by Carol M. Highsmith, 2018. Prints & Photographs Division\\n\"}\n",
      "{'image': '/static/portals/free-to-use/public-domain/libraries/libraries-61.jpg', 'link': '/resource/hhh.nv0134.photos', 'title': 'Library (C425), looking SW - Hawthorne Naval Ammunition Depot, Babbitt Housing Area, Hawthorne, Nevada. Photo by Joe C. Freeman, 1992. Historic American Buildings Survey. Prints & Photographs Division'}\n",
      "{'image': '/static/portals/free-to-use/public-domain/libraries/libraries-62.jpg', 'link': '/resource/highsm.18402', 'title': 'Interior of the Hutzler Reading room located in Gilman Hall, Johns Hopkins University, Baltimore, Maryland. Photo by Carol M. Highsmith, 2012. Prints & Photographs Division'}\n"
     ]
    }
   ],
   "source": [
    "for k in collection_json['content']['set']['items']:\n",
    "    print(k)"
   ]
  },
  {
   "cell_type": "markdown",
   "id": "d76acaa2",
   "metadata": {},
   "source": [
    "How many items are there in the set?"
   ]
  },
  {
   "cell_type": "code",
   "execution_count": 9,
   "id": "92350a24",
   "metadata": {},
   "outputs": [
    {
     "data": {
      "text/plain": [
       "62"
      ]
     },
     "execution_count": 9,
     "metadata": {},
     "output_type": "execute_result"
    }
   ],
   "source": [
    "len(collection_json['content']['set']['items'])"
   ]
  },
  {
   "cell_type": "markdown",
   "id": "ac468dae-56b8-40ba-8b20-bcb8cf629230",
   "metadata": {},
   "source": [
    " Now that you can find the list of items in the collection, note that each of these \"items\" has 3 elements: `image`, `link`, and `title`. "
   ]
  },
  {
   "cell_type": "code",
   "execution_count": 10,
   "id": "557d0ee2",
   "metadata": {},
   "outputs": [
    {
     "data": {
      "text/plain": [
       "dict_keys(['image', 'link', 'title'])"
      ]
     },
     "execution_count": 10,
     "metadata": {},
     "output_type": "execute_result"
    }
   ],
   "source": [
    "collection_json['content']['set']['items'][0].keys()"
   ]
  },
  {
   "cell_type": "markdown",
   "id": "2ca23fb7",
   "metadata": {},
   "source": [
    "In a more fully automated environment, you might want to make a function that can return and save the collection list, then reuse it in other code, but for this task, it is useful to save the information. So, extract these and save them locally to a CSV. "
   ]
  },
  {
   "cell_type": "code",
   "execution_count": 11,
   "id": "f3dfa45e-27a2-4485-a341-2f3263dffb22",
   "metadata": {},
   "outputs": [
    {
     "name": "stdout",
     "output_type": "stream",
     "text": [
      "wrote data/collection_set_list.csv\n"
     ]
    }
   ],
   "source": [
    "collection_set_list = os.path.join('data','collection_set_list.csv')\n",
    "headers = ['image','link','title']\n",
    "\n",
    "with open(collection_set_list, 'w', encoding='utf-8', newline='') as f:\n",
    "    writer = csv.DictWriter(f, fieldnames=headers)\n",
    "    writer.writeheader()\n",
    "    for item in collection_json['content']['set']['items']:\n",
    "        \n",
    "        # clean up errant spaces in the title fields\n",
    "        item['title'] = item['title'].rstrip()\n",
    "        writer.writerow(item)\n",
    "    print('wrote',collection_set_list)"
   ]
  },
  {
   "cell_type": "markdown",
   "id": "cfd71176-6fce-4209-9337-55fa7206c129",
   "metadata": {},
   "source": [
    "# Get metadata for individual items \n",
    "\n",
    "Details about these items are available on individual pages, so now we have to look at a different location, as specified in the `'link'` fields of the item list."
   ]
  },
  {
   "cell_type": "code",
   "execution_count": 12,
   "id": "44259696-74f1-4b8f-8bfd-6f1bc01c8726",
   "metadata": {},
   "outputs": [],
   "source": [
    "# update endpoint info\n",
    "endpoint = 'https://www.loc.gov'\n",
    "parameters = {\n",
    "    'fo' : 'json'\n",
    "}"
   ]
  },
  {
   "cell_type": "markdown",
   "id": "f78ae481",
   "metadata": {},
   "source": [
    "The task now is to request metadata for each item. So that the data is reusable, save it locally as a JSON file. In the next blocks, you will create individual files for each item, which will save to a directory named `ftu_libs_metadata` in the `data` directory. \n",
    "\n",
    "If you don't have that directory, you will first need to create it. "
   ]
  },
  {
   "cell_type": "code",
   "execution_count": 13,
   "id": "5c1d371f",
   "metadata": {},
   "outputs": [
    {
     "name": "stdout",
     "output_type": "stream",
     "text": [
      "created data/ftu_libs_metadata\n"
     ]
    }
   ],
   "source": [
    "# run this cell to confirm that you have a location for the JSON files\n",
    "item_metadata_directory = os.path.join('data','ftu_libs_metadata')\n",
    "\n",
    "if os.path.isdir(item_metadata_directory):\n",
    "    print(item_metadata_directory,'exists')\n",
    "else:\n",
    "    os.mkdir(item_metadata_directory)\n",
    "    print('created',item_metadata_directory)"
   ]
  },
  {
   "cell_type": "markdown",
   "id": "ccfdcfe0",
   "metadata": {},
   "source": [
    "Now, query the metadata for the individual items:"
   ]
  },
  {
   "cell_type": "code",
   "execution_count": 14,
   "id": "e90cb123-499e-45d9-bc84-586f3245031e",
   "metadata": {},
   "outputs": [
    {
     "name": "stdout",
     "output_type": "stream",
     "text": [
      "requested https://www.loc.gov/resource/cph.3f05183/?fo=json 200\n",
      "wrote data/ftu_libs_metadata/item_metadata-cph.3f05183.json\n",
      "requested https://www.loc.gov/resource/highsm.20336/?fo=json 200\n",
      "wrote data/ftu_libs_metadata/item_metadata-highsm.20336.json\n",
      "requested https://www.loc.gov/resource/fsa.8d24709/?fo=json 200\n",
      "wrote data/ftu_libs_metadata/item_metadata-fsa.8d24709.json\n",
      "requested https://www.loc.gov/resource/highsm.36052/?fo=json 200\n",
      "wrote data/ftu_libs_metadata/item_metadata-highsm.36052.json\n",
      "requested https://www.loc.gov/resource/highsm.51772/?fo=json 200\n",
      "wrote data/ftu_libs_metadata/item_metadata-highsm.51772.json\n",
      "requested https://www.loc.gov/resource/cph.3b43255/?fo=json 200\n",
      "wrote data/ftu_libs_metadata/item_metadata-cph.3b43255.json\n",
      "requested https://www.loc.gov/resource/highsm.20483/?fo=json 200\n",
      "wrote data/ftu_libs_metadata/item_metadata-highsm.20483.json\n",
      "requested https://www.loc.gov/resource/highsm.29207/?fo=json 200\n",
      "wrote data/ftu_libs_metadata/item_metadata-highsm.29207.json\n",
      "requested https://www.loc.gov/resource/fsa.8b32222/?fo=json 200\n",
      "wrote data/ftu_libs_metadata/item_metadata-fsa.8b32222.json\n",
      "requested https://www.loc.gov/resource/highsm.64003/?fo=json 200\n",
      "wrote data/ftu_libs_metadata/item_metadata-highsm.64003.json\n",
      "requested https://www.loc.gov/resource/ppmsca.15412/?fo=json 200\n",
      "wrote data/ftu_libs_metadata/item_metadata-ppmsca.15412.json\n",
      "requested https://www.loc.gov/resource/highsm.49335/?fo=json 200\n",
      "wrote data/ftu_libs_metadata/item_metadata-highsm.49335.json\n",
      "requested https://www.loc.gov/resource/highsm.20497/?fo=json 200\n",
      "wrote data/ftu_libs_metadata/item_metadata-highsm.20497.json\n",
      "requested https://www.loc.gov/resource/npcc.28724/?fo=json 200\n",
      "wrote data/ftu_libs_metadata/item_metadata-npcc.28724.json\n",
      "requested https://www.loc.gov/resource/ds.06560/?fo=json 200\n",
      "wrote data/ftu_libs_metadata/item_metadata-ds.06560.json\n",
      "requested https://www.loc.gov/resource/hhh.hi0135.photos?fo=json 200\n",
      "wrote data/ftu_libs_metadata/item_metadata-hhh.hi0135.photos.json\n",
      "requested https://www.loc.gov/resource/cph.3f05168/?fo=json 200\n",
      "wrote data/ftu_libs_metadata/item_metadata-cph.3f05168.json\n",
      "requested https://www.loc.gov/resource/ppmsca.15375/?fo=json 200\n",
      "wrote data/ftu_libs_metadata/item_metadata-ppmsca.15375.json\n",
      "requested https://www.loc.gov/resource/highsm.53335/?fo=json 200\n",
      "wrote data/ftu_libs_metadata/item_metadata-highsm.53335.json\n",
      "requested https://www.loc.gov/resource/hhh.ks0072.photos/?sp=2&fo=json 200\n",
      "wrote data/ftu_libs_metadata/item_metadata-hhh.ks0072.photos.json\n",
      "requested https://www.loc.gov/resource/highsm.34640/?fo=json 200\n",
      "wrote data/ftu_libs_metadata/item_metadata-highsm.34640.json\n",
      "requested https://www.loc.gov/item/97517380/ 200\n",
      "no json found\n",
      "requested https://www.loc.gov/resource/ppmsca.18016/?fo=json 200\n",
      "wrote data/ftu_libs_metadata/item_metadata-ppmsca.18016.json\n",
      "requested https://www.loc.gov/resource/hhh.me0057.photos/?sp=1&fo=json 200\n",
      "wrote data/ftu_libs_metadata/item_metadata-hhh.me0057.photos.json\n",
      "requested https://www.loc.gov/resource/highsm.41101/?fo=json 200\n",
      "wrote data/ftu_libs_metadata/item_metadata-highsm.41101.json\n",
      "requested https://www.loc.gov/resource/det.4a17925/?fo=json 200\n",
      "wrote data/ftu_libs_metadata/item_metadata-det.4a17925.json\n",
      "requested https://www.loc.gov/resource/ppmsca.15426/?fo=json 200\n",
      "wrote data/ftu_libs_metadata/item_metadata-ppmsca.15426.json\n",
      "requested https://www.loc.gov/resource/ppmscd.00084/?fo=json 200\n",
      "wrote data/ftu_libs_metadata/item_metadata-ppmscd.00084.json\n",
      "requested https://www.loc.gov/resource/highsm.18384/?fo=json 200\n",
      "wrote data/ftu_libs_metadata/item_metadata-highsm.18384.json\n",
      "requested https://www.loc.gov/resource/g3851e.ct006252/?fo=json 200\n",
      "wrote data/ftu_libs_metadata/item_metadata-g3851e.ct006252.json\n",
      "requested https://www.loc.gov/resource/ppmsca.35590/?fo=json 200\n",
      "wrote data/ftu_libs_metadata/item_metadata-ppmsca.35590.json\n",
      "requested https://www.loc.gov/resource/hhh.il0998.sheet/?sp=1&fo=json 200\n",
      "wrote data/ftu_libs_metadata/item_metadata-hhh.il0998.sheet.json\n",
      "requested https://www.loc.gov/resource/hhh.ok0012.sheet/?sp=8&q=hhh.ok0012&fo=json 200\n",
      "wrote data/ftu_libs_metadata/item_metadata-hhh.ok0012.sheet.json\n",
      "requested https://www.loc.gov/resource/hhh.sc0767.photos/?sp=1&fo=json 200\n",
      "wrote data/ftu_libs_metadata/item_metadata-hhh.sc0767.photos.json\n",
      "requested https://www.loc.gov/resource/hhh.nj0089.photos/?sp=4&fo=json 200\n",
      "wrote data/ftu_libs_metadata/item_metadata-hhh.nj0089.photos.json\n",
      "requested https://www.loc.gov/resource/highsm.31350/?fo=json 200\n",
      "wrote data/ftu_libs_metadata/item_metadata-highsm.31350.json\n",
      "requested https://www.loc.gov/resource/hhh.ri0071.photos/?sp=8&fo=json 200\n",
      "wrote data/ftu_libs_metadata/item_metadata-hhh.ri0071.photos.json\n",
      "requested https://www.loc.gov/resource/highsm.48241/?fo=json 200\n",
      "wrote data/ftu_libs_metadata/item_metadata-highsm.48241.json\n",
      "requested https://www.loc.gov/resource/det.4a23603/?fo=json 200\n",
      "wrote data/ftu_libs_metadata/item_metadata-det.4a23603.json\n",
      "requested https://www.loc.gov/resource/highsm.04362/?fo=json 200\n",
      "wrote data/ftu_libs_metadata/item_metadata-highsm.04362.json\n",
      "requested https://www.loc.gov/resource/hhh.dc0121.photos/?sp=24&fo=json 200\n",
      "wrote data/ftu_libs_metadata/item_metadata-hhh.dc0121.photos.json\n",
      "requested https://www.loc.gov/resource/ppbd.00600/?fo=json 200\n",
      "wrote data/ftu_libs_metadata/item_metadata-ppbd.00600.json\n",
      "requested https://www.loc.gov/resource/fsa.8b14169/?fo=json 200\n",
      "wrote data/ftu_libs_metadata/item_metadata-fsa.8b14169.json\n",
      "requested https://www.loc.gov/resource/highsm.32720/?fo=json 200\n",
      "wrote data/ftu_libs_metadata/item_metadata-highsm.32720.json\n",
      "requested https://www.loc.gov/resource/fsa.8c22565/?fo=json 200\n",
      "wrote data/ftu_libs_metadata/item_metadata-fsa.8c22565.json\n",
      "requested https://www.loc.gov/resource/mrg.00785/?fo=json 200\n",
      "wrote data/ftu_libs_metadata/item_metadata-mrg.00785.json\n",
      "requested https://www.loc.gov/resource/hhh.ak0345.photos/?sp=2&fo=json 200\n",
      "wrote data/ftu_libs_metadata/item_metadata-hhh.ak0345.photos.json\n",
      "requested https://www.loc.gov/resource/highsm.43863/?fo=json 200\n",
      "wrote data/ftu_libs_metadata/item_metadata-highsm.43863.json\n",
      "requested https://www.loc.gov/resource/highsm.42123/?fo=json 200\n",
      "wrote data/ftu_libs_metadata/item_metadata-highsm.42123.json\n",
      "requested https://www.loc.gov/resource/cph.3c18157/?fo=json 200\n",
      "wrote data/ftu_libs_metadata/item_metadata-cph.3c18157.json\n",
      "requested https://www.loc.gov/resource/ds.06507/?fo=json 200\n",
      "wrote data/ftu_libs_metadata/item_metadata-ds.06507.json\n",
      "requested https://www.loc.gov/resource/highsm.24333/?fo=json 200\n",
      "wrote data/ftu_libs_metadata/item_metadata-highsm.24333.json\n",
      "requested https://www.loc.gov/resource/mrg.00788/?fo=json 200\n",
      "wrote data/ftu_libs_metadata/item_metadata-mrg.00788.json\n",
      "requested https://www.loc.gov/resource/highsm.20216/?fo=json 200\n",
      "wrote data/ftu_libs_metadata/item_metadata-highsm.20216.json\n",
      "requested https://www.loc.gov/resource/cph.3b41963/?fo=json 200\n",
      "wrote data/ftu_libs_metadata/item_metadata-cph.3b41963.json\n",
      "requested https://www.loc.gov/resource/mrg.00432/?fo=json 200\n",
      "wrote data/ftu_libs_metadata/item_metadata-mrg.00432.json\n",
      "requested https://www.loc.gov/item/93510022/ 200\n",
      "no json found\n",
      "requested https://www.loc.gov/resource/highsm.60215/?fo=json 200\n",
      "wrote data/ftu_libs_metadata/item_metadata-highsm.60215.json\n",
      "requested https://www.loc.gov/item/2007684180/ 200\n",
      "no json found\n",
      "requested https://www.loc.gov/resource/highsm.50410/?fo=json 200\n",
      "wrote data/ftu_libs_metadata/item_metadata-highsm.50410.json\n",
      "requested https://www.loc.gov/resource/hhh.nv0134.photos?fo=json 200\n",
      "wrote data/ftu_libs_metadata/item_metadata-hhh.nv0134.photos.json\n",
      "requested https://www.loc.gov/resource/highsm.18402?fo=json 200\n",
      "wrote data/ftu_libs_metadata/item_metadata-highsm.18402.json\n",
      "--- mini LOG ---\n",
      "items requested: 59\n",
      "errors: 3\n",
      "files written: 59\n"
     ]
    }
   ],
   "source": [
    "item_count = 0\n",
    "error_count = 0\n",
    "file_count = 0\n",
    "\n",
    "data_directory = 'data'\n",
    "item_metadata_directory = 'ftu_libs_metadata'\n",
    "item_metadata_file_start = 'item_metadata'\n",
    "json_suffix = '.json'\n",
    "\n",
    "collection_set_list = os.path.join('data','collection_set_list.csv')\n",
    "\n",
    "with open(collection_set_list, 'r', encoding='utf-8', newline='') as f:\n",
    "    reader = csv.DictReader(f, fieldnames=headers)\n",
    "    for item in reader:\n",
    "        if item['link'] == 'link':\n",
    "            continue\n",
    "        # these resource links could redirect to item pages, but currently don't work\n",
    "        if '?' in item['link']:\n",
    "            resource_ID = item['link']\n",
    "            short_ID = item['link'].split('/')[2]\n",
    "            item_metadata = requests.get(endpoint + resource_ID + '&fo=json')\n",
    "            print('requested',item_metadata.url,item_metadata.status_code)\n",
    "            if item_metadata.status_code != 200:\n",
    "                print('requested',item_metadata.url,item_metadata.status_code)\n",
    "                error_count += 1\n",
    "                continue\n",
    "            try:\n",
    "                item_metadata.json()\n",
    "            except: #basically this catches all of the highsmith photos with hhh in the ID\n",
    "                error_count += 1\n",
    "                print('no json found')\n",
    "                continue\n",
    "            fout = os.path.join(data_directory, item_metadata_directory, str(item_metadata_file_start + '-' + short_ID + json_suffix))\n",
    "            with open(fout, 'w', encoding='utf-8') as json_file:\n",
    "                json_file.write(json.dumps(item_metadata.json()['item']))\n",
    "                file_count += 1\n",
    "                print('wrote', fout)\n",
    "            item_count += 1\n",
    "        else:\n",
    "            resource_ID = item['link']\n",
    "            short_ID = item['link'].split('/')[2]\n",
    "            item_metadata = requests.get(endpoint + resource_ID, params=parameters)\n",
    "            print('requested',item_metadata.url,item_metadata.status_code)\n",
    "            if item_metadata.status_code != 200:\n",
    "                print('requested',item_metadata.url,item_metadata.status_code)\n",
    "                error_count += 1\n",
    "                continue\n",
    "            try:\n",
    "                item_metadata.json()\n",
    "            except:\n",
    "                error_count += 1\n",
    "                print('no json found')\n",
    "                continue\n",
    "            fout = os.path.join(data_directory, item_metadata_directory, str(item_metadata_file_start + '-' + short_ID + json_suffix))\n",
    "            with open(fout, 'w', encoding='utf-8') as json_file:\n",
    "                json_file.write(json.dumps(item_metadata.json()['item']))\n",
    "                file_count += 1\n",
    "                print('wrote', fout)\n",
    "            item_count += 1\n",
    "\n",
    "print('--- mini LOG ---')\n",
    "print('items requested:',item_count)\n",
    "print('errors:',error_count)\n",
    "print('files written:',file_count)"
   ]
  },
  {
   "cell_type": "markdown",
   "id": "f1920293-81dc-4143-9840-a0e3de3faa7c",
   "metadata": {},
   "source": [
    "# Write a metadata crosswalk\n",
    "\n",
    "Below is a start. This is going to get a bit complicated, but identify at least 10 fields that you want to move into the new site. Consider using DublinCore, but also at least one field from another schema, I would suggest MODS (more of a bibliographic schema and allows for more granularity than DublinCore), which is also supported by Omeka. Plus, you should be able to find MODS information for most (if not all) items in any of these sets. For example, looking at resource `highsm.20336`, note the last field in the item metadata is a URL to an `item` page: https://www.loc.gov/item/2012630017/. That item page links to MODS and DublinCore records.\n",
    "\n",
    "\n",
    "| source field name | source field path/dict name | target        | target namespace | notes |\n",
    "|-------------------|-----------------------------|---------------|------------------|-------|\n",
    "| title | item['title'] | dc:title | DC Element | Title provided by the orginal metadata, could also be mapped to MODS:titleInfo:title or other fields in other namespaces | \n",
    "| date              | item['date']                | dc:date       | DC Element | This is a 4-digit year, corresponds to date of creation in most cases   |\n",
    "| LC call number    | item['item']['call_number']  | dc:identifier | DC Element | Alphanumeric string. A Library of Congress number, should record for source/provenance reasons.|\n",
    "| LC control number | item['item']['control_number'] | dc:identifier @type=lccn | DC Element with attribute | Corresponds to the Library of Congress Control Number (can be checked at http://lccn.loc.gov/ |\n",
    "| creator           | item['creator']             | dc:creator    | DC Element | Should be a name. May be repeated. If possible, are various roles needed? Such as 'photographer', 'author', etc |\n",
    "| description | item['description'] / item['summary'] | mods:physicaldescription / dc:abstract | MODS | In the source data, this seems most like physical description, although it might correspond to dc:format or dc:type. Content in the record may come from a controlled vocabulary, such as LC Genre & Form Thesaurus. |\n",
    "| mime_type | | | DC |\n",
    "| notes (may be multiple) | item['notes'] (array) | dcterms:abstract | DC Terms | This appears to be closest to a \"summary\" or description of the content of the items. |\n",
    "| source_collection | | | | |\n",
    "| rights | | | | |\n",
    "| place | | | | |\n",
    "| image (link to the full image) | | | | |\n",
    "| languages | | | | |\n",
    "| subject_heading | | mods:subject | mods | | \n",
    "| format, physical | item['formats'][0]['title'] / also look at item['type'] | mods:physicalDescription:form | Description of the original physical format of this item (photograph, book, poster) | Note: this may not be present or in the same place for the different types of objects in the collection |\n",
    "| format | item['format'] | dc:format | DC Element | The basic type of the digital surrogate (e.g., 'image' or 'text' | |"
   ]
  },
  {
   "cell_type": "markdown",
   "id": "8c45a3bb-b954-44d9-9446-97a049c9b974",
   "metadata": {},
   "source": [
    "# Transformation Part 1: Testing\n",
    "\n",
    "In this step, search the metadata files, extract target fields, write to CSV.\n",
    "\n",
    "First, develop a search pattern for identifying the desired JSON files. Here, you create a list of the files that you want to transform, called `list_of_item_metadata_files`. \n",
    "\n",
    "**Reminder:** This step builds on your regular expression and shell skills! (Note, however, these are technically file path expansions, not actual regular expressions, but the general idea of creating a pattern and asking the computer to respond with a list of results that meet your criteria, is similar.)"
   ]
  },
  {
   "cell_type": "code",
   "execution_count": 15,
   "id": "a899bee6-bed9-4240-85ed-1c946110f2f6",
   "metadata": {},
   "outputs": [
    {
     "name": "stdout",
     "output_type": "stream",
     "text": [
      "/Users/jajohnst/Desktop/networked-services-labs-2022\n"
     ]
    }
   ],
   "source": [
    "current_loc = os.getcwd()\n",
    "\n",
    "print(current_loc)"
   ]
  },
  {
   "cell_type": "code",
   "execution_count": 16,
   "id": "9e195bef-fe55-47e7-a1af-5ecf0c0f324a",
   "metadata": {},
   "outputs": [
    {
     "name": "stdout",
     "output_type": "stream",
     "text": [
      "data/ftu_libs_metadata\n"
     ]
    }
   ],
   "source": [
    "metadata_file_path = os.path.join('data','ftu_libs_metadata')\n",
    "\n",
    "print(metadata_file_path)"
   ]
  },
  {
   "cell_type": "markdown",
   "id": "99c6363a",
   "metadata": {},
   "source": [
    "The next cell uses the `glob` library, which supports the use of file path expanders\n",
    "to look for patterns in file paths. In this case, the previous item metadata exraction\n",
    "wrote files that had the pattern `item_metadata-[item-identifier].json`. \n",
    "So, to match any pattern for the `item-identifier` section, `glob` allows\n",
    "the use of the `*` (asterisk) character to match any pattern:"
   ]
  },
  {
   "cell_type": "code",
   "execution_count": 17,
   "id": "6ff4a730-4208-4e63-8531-4b6da696ec0e",
   "metadata": {
    "tags": []
   },
   "outputs": [
    {
     "name": "stdout",
     "output_type": "stream",
     "text": [
      "data/ftu_libs_metadata/item_metadata-cph.3c18157.json\n",
      "data/ftu_libs_metadata/item_metadata-ppbd.00600.json\n",
      "data/ftu_libs_metadata/item_metadata-mrg.00785.json\n",
      "data/ftu_libs_metadata/item_metadata-cph.3f05183.json\n",
      "data/ftu_libs_metadata/item_metadata-g3851e.ct006252.json\n",
      "data/ftu_libs_metadata/item_metadata-highsm.43863.json\n",
      "data/ftu_libs_metadata/item_metadata-ppmsca.18016.json\n",
      "data/ftu_libs_metadata/item_metadata-highsm.20497.json\n",
      "data/ftu_libs_metadata/item_metadata-fsa.8b14169.json\n",
      "data/ftu_libs_metadata/item_metadata-ppmsca.35590.json\n",
      "data/ftu_libs_metadata/item_metadata-mrg.00788.json\n",
      "data/ftu_libs_metadata/item_metadata-highsm.34640.json\n",
      "data/ftu_libs_metadata/item_metadata-highsm.20336.json\n",
      "data/ftu_libs_metadata/item_metadata-fsa.8c22565.json\n",
      "data/ftu_libs_metadata/item_metadata-cph.3b41963.json\n",
      "data/ftu_libs_metadata/item_metadata-ppmsca.15412.json\n",
      "data/ftu_libs_metadata/item_metadata-highsm.32720.json\n",
      "data/ftu_libs_metadata/item_metadata-mrg.00432.json\n",
      "data/ftu_libs_metadata/item_metadata-hhh.hi0135.photos.json\n",
      "data/ftu_libs_metadata/item_metadata-hhh.il0998.sheet.json\n",
      "data/ftu_libs_metadata/item_metadata-det.4a17925.json\n",
      "data/ftu_libs_metadata/item_metadata-highsm.24333.json\n",
      "data/ftu_libs_metadata/item_metadata-ppmscd.00084.json\n",
      "data/ftu_libs_metadata/item_metadata-hhh.ks0072.photos.json\n",
      "data/ftu_libs_metadata/item_metadata-highsm.64003.json\n",
      "data/ftu_libs_metadata/item_metadata-highsm.41101.json\n",
      "data/ftu_libs_metadata/item_metadata-highsm.31350.json\n",
      "data/ftu_libs_metadata/item_metadata-hhh.ok0012.sheet.json\n",
      "data/ftu_libs_metadata/item_metadata-hhh.sc0767.photos.json\n",
      "data/ftu_libs_metadata/item_metadata-hhh.ri0071.photos.json\n",
      "data/ftu_libs_metadata/item_metadata-cph.3b43255.json\n",
      "data/ftu_libs_metadata/item_metadata-hhh.me0057.photos.json\n",
      "data/ftu_libs_metadata/item_metadata-highsm.36052.json\n",
      "data/ftu_libs_metadata/item_metadata-highsm.60215.json\n",
      "data/ftu_libs_metadata/item_metadata-cph.3f05168.json\n",
      "data/ftu_libs_metadata/item_metadata-ds.06507.json\n",
      "data/ftu_libs_metadata/item_metadata-highsm.51772.json\n",
      "data/ftu_libs_metadata/item_metadata-highsm.18402.json\n",
      "data/ftu_libs_metadata/item_metadata-ppmsca.15375.json\n",
      "data/ftu_libs_metadata/item_metadata-hhh.nv0134.photos.json\n",
      "data/ftu_libs_metadata/item_metadata-highsm.20216.json\n",
      "data/ftu_libs_metadata/item_metadata-highsm.49335.json\n",
      "data/ftu_libs_metadata/item_metadata-highsm.04362.json\n",
      "data/ftu_libs_metadata/item_metadata-npcc.28724.json\n",
      "data/ftu_libs_metadata/item_metadata-highsm.29207.json\n",
      "data/ftu_libs_metadata/item_metadata-det.4a23603.json\n",
      "data/ftu_libs_metadata/item_metadata-ds.06560.json\n",
      "data/ftu_libs_metadata/item_metadata-hhh.ak0345.photos.json\n",
      "data/ftu_libs_metadata/item_metadata-hhh.nj0089.photos.json\n",
      "data/ftu_libs_metadata/item_metadata-highsm.20483.json\n",
      "data/ftu_libs_metadata/item_metadata-highsm.50410.json\n",
      "data/ftu_libs_metadata/item_metadata-fsa.8b32222.json\n",
      "data/ftu_libs_metadata/item_metadata-highsm.18384.json\n",
      "data/ftu_libs_metadata/item_metadata-ppmsca.15426.json\n",
      "data/ftu_libs_metadata/item_metadata-highsm.48241.json\n",
      "data/ftu_libs_metadata/item_metadata-fsa.8d24709.json\n",
      "data/ftu_libs_metadata/item_metadata-highsm.53335.json\n",
      "data/ftu_libs_metadata/item_metadata-highsm.42123.json\n",
      "data/ftu_libs_metadata/item_metadata-hhh.dc0121.photos.json\n",
      "found 59\n"
     ]
    }
   ],
   "source": [
    "file_count = 0\n",
    "\n",
    "for file in glob.glob('data/ftu_libs_metadata/item_metadata-*.json'):\n",
    "    file_count += 1\n",
    "    print(file)\n",
    "    \n",
    "print('found',file_count)"
   ]
  },
  {
   "cell_type": "code",
   "execution_count": 18,
   "id": "a8178914-945e-4bc9-a890-b717db15af99",
   "metadata": {},
   "outputs": [],
   "source": [
    "list_of_item_metadata_files = list() \n",
    "for file in glob.glob('data/ftu_libs_metadata/item_metadata-*.json'):\n",
    "    list_of_item_metadata_files.append(file)"
   ]
  },
  {
   "cell_type": "code",
   "execution_count": 19,
   "id": "dded9141-1613-48db-a74c-ddafd86eb247",
   "metadata": {},
   "outputs": [
    {
     "data": {
      "text/plain": [
       "59"
      ]
     },
     "execution_count": 19,
     "metadata": {},
     "output_type": "execute_result"
    }
   ],
   "source": [
    "len(list_of_item_metadata_files)"
   ]
  },
  {
   "cell_type": "code",
   "execution_count": 20,
   "id": "8bdb38fc-23d5-4b1d-8250-478f21deff56",
   "metadata": {
    "tags": []
   },
   "outputs": [
    {
     "name": "stdout",
     "output_type": "stream",
     "text": [
      "data/ftu_libs_metadata/item_metadata-cph.3b41963.json\n",
      "data/ftu_libs_metadata/item_metadata-cph.3b43255.json\n",
      "data/ftu_libs_metadata/item_metadata-cph.3c18157.json\n",
      "data/ftu_libs_metadata/item_metadata-cph.3f05168.json\n",
      "data/ftu_libs_metadata/item_metadata-cph.3f05183.json\n",
      "data/ftu_libs_metadata/item_metadata-det.4a17925.json\n",
      "data/ftu_libs_metadata/item_metadata-det.4a23603.json\n",
      "data/ftu_libs_metadata/item_metadata-ds.06507.json\n",
      "data/ftu_libs_metadata/item_metadata-ds.06560.json\n",
      "data/ftu_libs_metadata/item_metadata-fsa.8b14169.json\n",
      "data/ftu_libs_metadata/item_metadata-fsa.8b32222.json\n",
      "data/ftu_libs_metadata/item_metadata-fsa.8c22565.json\n",
      "data/ftu_libs_metadata/item_metadata-fsa.8d24709.json\n",
      "data/ftu_libs_metadata/item_metadata-g3851e.ct006252.json\n",
      "data/ftu_libs_metadata/item_metadata-hhh.ak0345.photos.json\n",
      "data/ftu_libs_metadata/item_metadata-hhh.dc0121.photos.json\n",
      "data/ftu_libs_metadata/item_metadata-hhh.hi0135.photos.json\n",
      "data/ftu_libs_metadata/item_metadata-hhh.il0998.sheet.json\n",
      "data/ftu_libs_metadata/item_metadata-hhh.ks0072.photos.json\n",
      "data/ftu_libs_metadata/item_metadata-hhh.me0057.photos.json\n",
      "data/ftu_libs_metadata/item_metadata-hhh.nj0089.photos.json\n",
      "data/ftu_libs_metadata/item_metadata-hhh.nv0134.photos.json\n",
      "data/ftu_libs_metadata/item_metadata-hhh.ok0012.sheet.json\n",
      "data/ftu_libs_metadata/item_metadata-hhh.ri0071.photos.json\n",
      "data/ftu_libs_metadata/item_metadata-hhh.sc0767.photos.json\n",
      "data/ftu_libs_metadata/item_metadata-highsm.04362.json\n",
      "data/ftu_libs_metadata/item_metadata-highsm.18384.json\n",
      "data/ftu_libs_metadata/item_metadata-highsm.18402.json\n",
      "data/ftu_libs_metadata/item_metadata-highsm.20216.json\n",
      "data/ftu_libs_metadata/item_metadata-highsm.20336.json\n",
      "data/ftu_libs_metadata/item_metadata-highsm.20483.json\n",
      "data/ftu_libs_metadata/item_metadata-highsm.20497.json\n",
      "data/ftu_libs_metadata/item_metadata-highsm.24333.json\n",
      "data/ftu_libs_metadata/item_metadata-highsm.29207.json\n",
      "data/ftu_libs_metadata/item_metadata-highsm.31350.json\n",
      "data/ftu_libs_metadata/item_metadata-highsm.32720.json\n",
      "data/ftu_libs_metadata/item_metadata-highsm.34640.json\n",
      "data/ftu_libs_metadata/item_metadata-highsm.36052.json\n",
      "data/ftu_libs_metadata/item_metadata-highsm.41101.json\n",
      "data/ftu_libs_metadata/item_metadata-highsm.42123.json\n",
      "data/ftu_libs_metadata/item_metadata-highsm.43863.json\n",
      "data/ftu_libs_metadata/item_metadata-highsm.48241.json\n",
      "data/ftu_libs_metadata/item_metadata-highsm.49335.json\n",
      "data/ftu_libs_metadata/item_metadata-highsm.50410.json\n",
      "data/ftu_libs_metadata/item_metadata-highsm.51772.json\n",
      "data/ftu_libs_metadata/item_metadata-highsm.53335.json\n",
      "data/ftu_libs_metadata/item_metadata-highsm.60215.json\n",
      "data/ftu_libs_metadata/item_metadata-highsm.64003.json\n",
      "data/ftu_libs_metadata/item_metadata-mrg.00432.json\n",
      "data/ftu_libs_metadata/item_metadata-mrg.00785.json\n",
      "data/ftu_libs_metadata/item_metadata-mrg.00788.json\n",
      "data/ftu_libs_metadata/item_metadata-npcc.28724.json\n",
      "data/ftu_libs_metadata/item_metadata-ppbd.00600.json\n",
      "data/ftu_libs_metadata/item_metadata-ppmsca.15375.json\n",
      "data/ftu_libs_metadata/item_metadata-ppmsca.15412.json\n",
      "data/ftu_libs_metadata/item_metadata-ppmsca.15426.json\n",
      "data/ftu_libs_metadata/item_metadata-ppmsca.18016.json\n",
      "data/ftu_libs_metadata/item_metadata-ppmsca.35590.json\n",
      "data/ftu_libs_metadata/item_metadata-ppmscd.00084.json\n"
     ]
    }
   ],
   "source": [
    "# quick duplicate check\n",
    "list_of_item_metadata_files.sort()\n",
    "\n",
    "for file in list_of_item_metadata_files:\n",
    "    print(file)"
   ]
  },
  {
   "cell_type": "markdown",
   "id": "3f634f77",
   "metadata": {},
   "source": [
    "To develop your data transformation and metadata profile, \n",
    "first you need to explore the information that you have about each item. \n",
    "To do this, explore one item to understand how the information is structured.\n",
    "How do you open the json? How is it structured? Where is the information you want?"
   ]
  },
  {
   "cell_type": "code",
   "execution_count": 21,
   "id": "2b96909e-2cce-4ca6-95b9-7d1c03c74c11",
   "metadata": {},
   "outputs": [
    {
     "name": "stdout",
     "output_type": "stream",
     "text": [
      "file: data/ftu_libs_metadata/item_metadata-cph.3b41963.json \n",
      "\n",
      "_version_ : 1709345645727318016\n",
      "access_restricted : False\n",
      "aka : ['https://www.loc.gov/pictures/item/91787443/', 'http://www.loc.gov/item/91787443/', 'http://www.loc.gov/pictures/item/91787443/', 'https://www.loc.gov/pictures/collection/cph/item/91787443/', 'http://www.loc.gov/pictures/collection/cph/item/91787443/', 'http://www.loc.gov/resource/cph.3b41963/', 'http://lccn.loc.gov/91787443', 'http://hdl.loc.gov/loc.pnp/cph.3b41963']\n",
      "call_number : SSF - Libraries--Georgia--Cordele <item> [P&P]\n",
      "campaigns : []\n",
      "control_number : \n",
      "created : 2016-04-21T09:17:00Z\n",
      "created_published : ['[ca. 1916]']\n",
      "created_published_date : [ca. 1916]\n",
      "date : 1916\n",
      "dates : [{'1916': 'https://www.loc.gov/search/?dates=1916/1916&fo=json'}]\n",
      "description : ['1 photographic print. | Photo shows a group of children posed on and in front of steps, roof and dome draped with stars and stripes banners. A Carnegie grant for $10,000 in 1903 funded this building, with an  additional $7,556 in 1916 for remodeling. Still used as a public library.']\n",
      "digital_id : ['cph 3b41963 //hdl.loc.gov/loc.pnp/cph.3b41963']\n",
      "digitized : True\n",
      "display_offsite : True\n",
      "extract_timestamp : 2021-08-27T19:16:32.264Z\n",
      "extract_urls : ['http://www.loc.gov/pictures/collection/cph/item/91787443/#cph', 'http://lccn.loc.gov/91787443#catalog']\n",
      "format : [{'photo, print, drawing': 'https://www.loc.gov/search/?fa=original_format:photo,+print,+drawing&fo=json'}]\n",
      "format_headings : ['Photographic prints--1910-1920.']\n",
      "group : ['cph', 'catalog', 'miscellaneous-items-high-demand', 'main-catalog']\n",
      "hassegments : False\n",
      "id : http://www.loc.gov/item/91787443/\n",
      "image_url : ['https://tile.loc.gov/storage-services/service/pnp/cph/3b40000/3b41000/3b41900/3b41963_150px.jpg', 'https://tile.loc.gov/storage-services/service/pnp/cph/3b40000/3b41000/3b41900/3b41963_150px.jpg#h=121&w=150', 'https://tile.loc.gov/storage-services/service/pnp/cph/3b40000/3b41000/3b41900/3b41963t.gif#h=121&w=150', 'https://tile.loc.gov/storage-services/service/pnp/cph/3b40000/3b41000/3b41900/3b41963r.jpg#h=515&w=640', 'https://tile.loc.gov/storage-services/service/pnp/cph/3b40000/3b41000/3b41900/3b41963v.jpg#h=823&w=1024']\n",
      "index : 1\n",
      "item : {'call_number': 'SSF - Libraries--Georgia--Cordele <item> [P&P]', 'control_number': '91787443', 'created': '2016-04-21T09:17:00Z', 'created_published': '[ca. 1916]', 'created_published_date': '[ca. 1916]', 'date': '[ca. 1916]', 'digital_id': ['cph 3b41963 //hdl.loc.gov/loc.pnp/cph.3b41963'], 'display_offsite': True, 'format': ['still image'], 'formats': [{'link': 'https://www.loc.gov/pictures/related/?fi=format&q=Photographic%20prints--1910-1920.&co=cph', 'title': 'Photographic prints--1910-1920.'}], 'id': '91787443', 'link': 'https://www.loc.gov/pictures/item/91787443/', 'location': ['Georgia--Cordele'], 'marc': 'https://www.loc.gov/pictures/item/91787443/marc/', 'medium': ['1 photographic print.'], 'medium_brief': '1 photographic print.', 'mediums': ['1 photographic print.'], 'modified': '2016-04-21T09:17:00Z', 'notes': ['At bottom right of photo: \"Cordele Book Co.\"', 'Wittemann Collection.'], 'other_control_numbers': ['11583075'], 'place': [{'latitude': '', 'link': 'https://www.loc.gov/pictures/related/?fi=place&q=Georgia--Cordele&co=cph', 'longitude': '', 'title': 'Georgia--Cordele'}], 'reproduction_number': 'LC-USZ62-95830 (b&w film copy neg.)', 'resource_links': ['//hdl.loc.gov/loc.pnp/cph.3b41963'], 'rights_advisory': 'No known restrictions on publication.', 'rights_information': 'No known restrictions on publication.', 'service_low': 'https://tile.loc.gov/storage-services/service/pnp/cph/3b40000/3b41000/3b41900/3b41963_150px.jpg', 'service_medium': 'https://tile.loc.gov/storage-services/service/pnp/cph/3b40000/3b41000/3b41900/3b41963r.jpg', 'sort_date': '1916', 'source_created': '1991-08-22T00:00:00Z', 'source_modified': '2012-06-14T21:04:56Z', 'subject_headings': ['Libraries--Georgia--Cordele--1910-1920.', 'Georgia--Cordele'], 'subjects': ['Libraries--Georgia--Cordele--1910-1920'], 'summary': 'Photo shows a group of children posed on and in front of steps, roof and dome draped with stars and stripes banners. A Carnegie grant for $10,000 in 1903 funded this building, with an  additional $7,556 in 1916 for remodeling. Still used as a public library.', 'thumb_gallery': 'https://tile.loc.gov/storage-services/service/pnp/cph/3b40000/3b41000/3b41900/3b41963_150px.jpg', 'title': 'Carnegie Library, Cordele, Georgia'}\n",
      "language : ['english']\n",
      "languages : [{'english': 'https://www.loc.gov/search/?fa=language:english&fo=json'}]\n",
      "library_of_congress_control_number : 91787443\n",
      "link : https://www.loc.gov/pictures/item/91787443/\n",
      "location : ['georgia', 'cordele']\n",
      "locations : [{'cordele': 'https://www.loc.gov/search/?fa=location:cordele&fo=json'}, {'georgia': 'https://www.loc.gov/search/?fa=location:georgia&fo=json'}]\n",
      "marc : https://www.loc.gov/pictures/item/91787443/marc/\n",
      "medium : ['1 photographic print.']\n",
      "medium_brief : 1 photographic print.\n",
      "mime_type : ['image/gif', 'image/jpg', 'image/tif', 'image/jpeg']\n",
      "modified : 2016-04-21T09:17:00Z\n",
      "notes : ['At bottom right of photo: \"Cordele Book Co.\"', 'Wittemann Collection.']\n",
      "number : ['http://www.loc.gov/item/11583075']\n",
      "number_former_id : ['http://www.loc.gov/item/11583075']\n",
      "online_format : ['image']\n",
      "original_format : ['photo, print, drawing']\n",
      "other_control_numbers : ['11583075']\n",
      "other_formats : [{'label': 'MARCXML Record', 'link': 'https://lccn.loc.gov/91787443/marcxml'}, {'label': 'MODS Record', 'link': 'https://lccn.loc.gov/91787443/mods'}, {'label': 'Dublin Core Record', 'link': 'https://lccn.loc.gov/91787443/dc'}]\n",
      "other_title : []\n",
      "partof : [{'count': 1024475, 'title': 'prints and photographs division', 'url': 'https://www.loc.gov/search/?fa=partof:prints+and+photographs+division&fo=json'}, {'count': 1344181, 'title': 'catalog', 'url': 'https://www.loc.gov/search/?fa=partof:catalog&fo=json'}]\n",
      "place : [{'latitude': '', 'link': 'https://www.loc.gov/pictures/related/?fi=place&q=Georgia--Cordele&co=cph', 'longitude': '', 'title': 'Georgia--Cordele'}]\n",
      "related : {'neighbors': 'https://www.loc.gov/pictures/related/?&co=cph&pk=91787443&st=gallery&sb=call_number#focus'}\n",
      "reproduction_number : LC-USZ62-95830 (b&w film copy neg.)\n",
      "reproductions : []\n",
      "resource_links : ['//hdl.loc.gov/loc.pnp/cph.3b41963']\n",
      "resources : [{'caption': 'digital file from b&w film copy neg.', 'files': 1, 'image': 'https://tile.loc.gov/storage-services/service/pnp/cph/3b40000/3b41000/3b41900/3b41963_150px.jpg', 'url': 'https://www.loc.gov/resource/cph.3b41963/'}]\n",
      "rights : []\n",
      "rights_advisory : No known restrictions on publication.\n",
      "rights_information : No known restrictions on publication.\n",
      "score : 8.637115\n",
      "shelf_id : SSF - Libraries--Georgia--Cordele <item> [P&P]\n",
      "site : ['pictures', 'catalog']\n",
      "sort_date : 1916\n",
      "source_created : 1991-08-22T00:00:00Z\n",
      "source_modified : 2012-06-14T21:04:56Z\n",
      "subject : ['libraries', 'georgia', 'photographic prints', 'cordele']\n",
      "subject_headings : ['Libraries--Georgia--Cordele--1910-1920']\n",
      "subjects : [{'cordele': 'https://www.loc.gov/search/?fa=subject:cordele&fo=json'}, {'georgia': 'https://www.loc.gov/search/?fa=subject:georgia&fo=json'}, {'libraries': 'https://www.loc.gov/search/?fa=subject:libraries&fo=json'}, {'photographic prints': 'https://www.loc.gov/search/?fa=subject:photographic+prints&fo=json'}]\n",
      "summary : Photo shows a group of children posed on and in front of steps, roof and dome draped with stars and stripes banners. A Carnegie grant for $10,000 in 1903 funded this building, with an  additional $7,556 in 1916 for remodeling. Still used as a public library.\n",
      "thumb_gallery : https://tile.loc.gov/storage-services/service/pnp/cph/3b40000/3b41000/3b41900/3b41963_150px.jpg\n",
      "timestamp : 2021-08-28T13:57:20.112Z\n",
      "title : Carnegie Library, Cordele, Georgia\n",
      "type : ['photo, print, drawing']\n",
      "unrestricted : True\n",
      "url : https://www.loc.gov/item/91787443/\n"
     ]
    }
   ],
   "source": [
    "# try first with one file, can you open the json, can you see what elements are in the json?\n",
    "with open(list_of_item_metadata_files[0], 'r', encoding='utf-8') as item:\n",
    "    # what are we looking at?\n",
    "    print('file:',list_of_item_metadata_files[0],'\\n')\n",
    "    \n",
    "    # load the item data\n",
    "    item_data = json.load(item)\n",
    "    \n",
    "    for element in item_data.keys():\n",
    "        print(element,':',item_data[element])"
   ]
  },
  {
   "cell_type": "markdown",
   "id": "64e1b077",
   "metadata": {},
   "source": [
    "Look around in the dictionary a bit more:"
   ]
  },
  {
   "cell_type": "code",
   "execution_count": 22,
   "id": "cc1bdf07",
   "metadata": {},
   "outputs": [
    {
     "data": {
      "text/plain": [
       "dict_keys(['_version_', 'access_restricted', 'aka', 'call_number', 'campaigns', 'control_number', 'created', 'created_published', 'created_published_date', 'date', 'dates', 'description', 'digital_id', 'digitized', 'display_offsite', 'extract_timestamp', 'extract_urls', 'format', 'format_headings', 'group', 'hassegments', 'id', 'image_url', 'index', 'item', 'language', 'languages', 'library_of_congress_control_number', 'link', 'location', 'locations', 'marc', 'medium', 'medium_brief', 'mime_type', 'modified', 'notes', 'number', 'number_former_id', 'online_format', 'original_format', 'other_control_numbers', 'other_formats', 'other_title', 'partof', 'place', 'related', 'reproduction_number', 'reproductions', 'resource_links', 'resources', 'rights', 'rights_advisory', 'rights_information', 'score', 'shelf_id', 'site', 'sort_date', 'source_created', 'source_modified', 'subject', 'subject_headings', 'subjects', 'summary', 'thumb_gallery', 'timestamp', 'title', 'type', 'unrestricted', 'url'])"
      ]
     },
     "execution_count": 22,
     "metadata": {},
     "output_type": "execute_result"
    }
   ],
   "source": [
    "item_data.keys()"
   ]
  },
  {
   "cell_type": "markdown",
   "id": "bc49f8c4",
   "metadata": {},
   "source": [
    "For the development of your metadata transformation, you're looking for \n",
    "how to extract the elements identified in the MAP table. For example, where are the date, or the format information?"
   ]
  },
  {
   "cell_type": "code",
   "execution_count": 23,
   "id": "aecc7258",
   "metadata": {},
   "outputs": [
    {
     "name": "stdout",
     "output_type": "stream",
     "text": [
      "\n",
      "date: 1916 <class 'str'>\n",
      "\n",
      "format: {'photo, print, drawing': 'https://www.loc.gov/search/?fa=original_format:photo,+print,+drawing&fo=json'} <class 'list'>\n"
     ]
    }
   ],
   "source": [
    "    # can you get the date?\n",
    "    print('\\ndate:',item_data['date'], type(item_data['date']))\n",
    "    # can you get the format?\n",
    "    print('\\nformat:',item_data['format'][0], type(item_data['format']))"
   ]
  },
  {
   "cell_type": "markdown",
   "id": "54be2cad-c5ef-4184-a2ea-3ae2da53db0f",
   "metadata": {},
   "source": [
    "## Test: Try it with one example\n",
    "\n",
    "First, try to set up the extract process with one example. This may get more complicated later since you don't know yet if every item has the same metadata attributes in the JSON. But start with some basics and build up from there. \n",
    "\n",
    "For a first pass, look out for these items, and find where in the JSON you can locate them:\n",
    "\n",
    "* 'item_id'\n",
    "* 'title'\n",
    "* 'date' \n",
    "* 'source_url'\n",
    "* 'phys_format'\n",
    "* 'dig_format'\n",
    "* 'rights'\n",
    "\n",
    "_Hint: use the JSON viewer in JupyterLab, use an extension in VSCode, or use a browser to look through sample JSON. The block below uses item `cph.3b41963`._\n",
    "\n",
    "You may need to use try/except patterns to create workarounds for cases where some items may not have exactly the same attributes that you've identified in your test cases."
   ]
  },
  {
   "cell_type": "code",
   "execution_count": 24,
   "id": "b20cbb86-d872-4e38-8673-0e4e6e2c06e2",
   "metadata": {},
   "outputs": [
    {
     "name": "stdout",
     "output_type": "stream",
     "text": [
      "created row dictionary: {'source_file': 'data/ftu_libs_metadata/item_metadata-ppmscd.00084.json', 'item_id': '91787443', 'title': 'Carnegie Library, Cordele, Georgia', 'date': '1916', 'source_url': 'https://www.loc.gov/item/91787443/', 'phys_format': {'photo, print, drawing': 'https://www.loc.gov/search/?fa=original_format:photo,+print,+drawing&fo=json'}, 'dig_format': 'image', 'rights': 'No known restrictions on publication.'}\n",
      "wrote collection_items_data.csv\n"
     ]
    }
   ],
   "source": [
    "# set up the containers to create the csv of all the item fields\n",
    "# file for csv to read out\n",
    "collection_info_csv = 'collection_items_data.csv'\n",
    "\n",
    "# set up a list for the columns in your csv; \n",
    "# your goal should be to automate this, but . . . \n",
    "# it works for demonstration as you set up the crosswalk\n",
    "headers = ['source_file', 'item_id', 'title', 'date', 'source_url', 'phys_format', 'dig_format', 'rights']\n",
    "\n",
    "# try first with one file\n",
    "with open(list_of_item_metadata_files[0], 'r', encoding='utf-8') as data:\n",
    "    # load the item data\n",
    "    item_data = json.load(data)\n",
    "    \n",
    "    # extract the data you want\n",
    "    # for checking purposes, add in the source of the info\n",
    "    source_file = str(file)\n",
    "    # make sure there's some unique and stable identifier\n",
    "    try:\n",
    "        item_id = item_data['library_of_congress_control_number']\n",
    "    except:\n",
    "        item_id = item_data['url'].split('/')[-2]\n",
    "    title = item_data['title']\n",
    "    date = item_data['date']\n",
    "    source_url = item_data['url']\n",
    "    try:\n",
    "        phys_format = item_data['format'][0]\n",
    "    except:\n",
    "        phys_format = 'Not found'\n",
    "    try:\n",
    "        dig_format = item_data['online_format'][0]\n",
    "    except:\n",
    "        dig_format = 'Not found'\n",
    "    mime_type = item_data['mime_type']\n",
    "    try:\n",
    "        rights = item_data['rights_information']\n",
    "    except:\n",
    "        rights = 'Undetermined'\n",
    "\n",
    "\n",
    "    # dictionary for the rows\n",
    "    row_dict = dict()\n",
    "    \n",
    "    # look for the item metadata, assign it to the dictionary; \n",
    "    # start with some basic elements likely (already enumerated in the headers list) :\n",
    "    # source file\n",
    "    row_dict['source_file'] = source_file\n",
    "    # identifier\n",
    "    row_dict['item_id'] = item_id\n",
    "    # title\n",
    "    row_dict['title'] = title\n",
    "    # date\n",
    "    row_dict['date'] = date\n",
    "    # link\n",
    "    row_dict['source_url'] = source_url\n",
    "    # format\n",
    "    row_dict['phys_format'] = phys_format\n",
    "    # digital format\n",
    "    row_dict['dig_format'] = dig_format\n",
    "    #rights\n",
    "    row_dict['rights'] = rights \n",
    "    print('created row dictionary:',row_dict)\n",
    "\n",
    "    # write to the csv\n",
    "    with open(collection_info_csv, 'w', encoding='utf-8') as fout:\n",
    "        writer = csv.DictWriter(fout, fieldnames=headers)\n",
    "        writer.writeheader()\n",
    "        writer.writerow(row_dict)\n",
    "        print('wrote',collection_info_csv)"
   ]
  },
  {
   "cell_type": "markdown",
   "id": "8db1d9c5-4ec4-45e2-b9a0-38ebdd6cb812",
   "metadata": {},
   "source": [
    "You're now developing the structure of the CSV file that will import items into your Omeka S site. The CSV import module supports the loading of item files via a URL. This provides the location of a file (in this case, an image), which Omeka will copy into its database and attach to your item. This means that it isn't necessary to upload individual files after or during metadata creation. \n",
    "\n",
    "To allow this, you need to find a direct url to a good image file for the item. There are multiple options, and the code below demonstrates looking for the url to a medium-sized image of an item:"
   ]
  },
  {
   "cell_type": "code",
   "execution_count": 25,
   "id": "e3b57056-6708-488f-a196-3a69f477cf4b",
   "metadata": {},
   "outputs": [
    {
     "name": "stdout",
     "output_type": "stream",
     "text": [
      "https://tile.loc.gov/storage-services/service/pnp/cph/3b40000/3b41000/3b41900/3b41963r.jpg#h=515&w=640\n"
     ]
    }
   ],
   "source": [
    "collection_info_csv = 'collection_items_data.csv'\n",
    "\n",
    "# set up a list for the columns in your csv; in future, this should be more automated but this works for now as you set up the crosswalk\n",
    "headers = ['source_file', 'item_id', 'title', 'date', 'source_url', 'phys_format', 'dig_format', 'rights']\n",
    "\n",
    "# try first with one file\n",
    "with open(list_of_item_metadata_files[0], 'r', encoding='utf-8') as data:\n",
    "    # load the item data\n",
    "    item_data = json.load(data)\n",
    "    \n",
    "    print(item_data['image_url'][3])"
   ]
  },
  {
   "cell_type": "markdown",
   "id": "1ec775d7-ab10-45c3-88ad-40706c100967",
   "metadata": {},
   "source": [
    "# Transformation Part 2: Write your CSV\n",
    "\n",
    "The goal of this final step is to create a CSV file, which will be possible to import into your Omeka site. It may seem like it's taken a long time to get to this point... but remember, when this works you will be importing about 60 items into the site at one time, so if you can get all of this to work for an even larger set of materials, you will be saving quite a lot of time in the future when you need to import items (unless, of course, you get the items piecemeal, which will need a different workflow, but let's leave that aside for now).\n",
    "\n",
    "Now, try to extend this to the whole set by looping through each of the desired JSON files:"
   ]
  },
  {
   "cell_type": "code",
   "execution_count": 26,
   "id": "8279cbef-6e98-4537-a013-5feef216d13a",
   "metadata": {},
   "outputs": [
    {
     "name": "stdout",
     "output_type": "stream",
     "text": [
      "removed data/collection_items_data.csv\n"
     ]
    }
   ],
   "source": [
    "# for purposes of demonstration, use this block to make sure there isn't already a list file:\n",
    "\n",
    "items_data_file = os.path.join(data_directory, 'collection_items_data.csv')\n",
    "\n",
    "if os.path.isfile(items_data_file):\n",
    "    os.unlink(items_data_file)\n",
    "    print('removed',items_data_file)\n",
    "\n",
    "# clear row_dict\n",
    "row_dict = ()"
   ]
  },
  {
   "cell_type": "code",
   "execution_count": 27,
   "id": "dd445a1a-473f-432b-942b-3cd40fd3cde9",
   "metadata": {},
   "outputs": [
    {
     "name": "stdout",
     "output_type": "stream",
     "text": [
      "2022-11-04\n"
     ]
    }
   ],
   "source": [
    "from datetime import date\n",
    "\n",
    "date_string_for_today = date.today().strftime('%Y-%m-%d') # see https://docs.python.org/3/library/datetime.html#strftime-strptime-behavior\n",
    "\n",
    "print(date_string_for_today)"
   ]
  },
  {
   "cell_type": "code",
   "execution_count": 28,
   "id": "8e6546cb-d74c-46b7-8286-80df234878a8",
   "metadata": {},
   "outputs": [
    {
     "name": "stdout",
     "output_type": "stream",
     "text": [
      "opening data/ftu_libs_metadata/item_metadata-cph.3b41963.json\n",
      "adding 91787443\n",
      "opening data/ftu_libs_metadata/item_metadata-cph.3b43255.json\n",
      "adding 89710983\n",
      "opening data/ftu_libs_metadata/item_metadata-cph.3c18157.json\n",
      "adding 97511671\n",
      "opening data/ftu_libs_metadata/item_metadata-cph.3f05168.json\n",
      "adding 98508385\n",
      "opening data/ftu_libs_metadata/item_metadata-cph.3f05183.json\n",
      "adding 98508155\n",
      "opening data/ftu_libs_metadata/item_metadata-det.4a17925.json\n",
      "adding 2016809661\n",
      "opening data/ftu_libs_metadata/item_metadata-det.4a23603.json\n",
      "adding 2016815290\n",
      "opening data/ftu_libs_metadata/item_metadata-ds.06507.json\n",
      "adding 2014650180\n",
      "opening data/ftu_libs_metadata/item_metadata-ds.06560.json\n",
      "adding 2014647618\n",
      "opening data/ftu_libs_metadata/item_metadata-fsa.8b14169.json\n",
      "adding 2017762724\n",
      "opening data/ftu_libs_metadata/item_metadata-fsa.8b32222.json\n",
      "adding 2017770391\n",
      "opening data/ftu_libs_metadata/item_metadata-fsa.8c22565.json\n",
      "adding 2017815837\n",
      "opening data/ftu_libs_metadata/item_metadata-fsa.8d24709.json\n",
      "adding 2017843202\n",
      "opening data/ftu_libs_metadata/item_metadata-g3851e.ct006252.json\n",
      "adding 87694100\n",
      "opening data/ftu_libs_metadata/item_metadata-hhh.ak0345.photos.json\n",
      "adding ak0345\n",
      "opening data/ftu_libs_metadata/item_metadata-hhh.dc0121.photos.json\n",
      "adding dc0121\n",
      "opening data/ftu_libs_metadata/item_metadata-hhh.hi0135.photos.json\n",
      "adding hi0135\n",
      "opening data/ftu_libs_metadata/item_metadata-hhh.il0998.sheet.json\n",
      "adding il0998\n",
      "opening data/ftu_libs_metadata/item_metadata-hhh.ks0072.photos.json\n",
      "adding ks0072\n",
      "opening data/ftu_libs_metadata/item_metadata-hhh.me0057.photos.json\n",
      "adding me0057\n",
      "opening data/ftu_libs_metadata/item_metadata-hhh.nj0089.photos.json\n",
      "adding nj0089\n",
      "opening data/ftu_libs_metadata/item_metadata-hhh.nv0134.photos.json\n",
      "adding nv0134\n",
      "opening data/ftu_libs_metadata/item_metadata-hhh.ok0012.sheet.json\n",
      "adding ok0012\n",
      "opening data/ftu_libs_metadata/item_metadata-hhh.ri0071.photos.json\n",
      "adding ri0071\n",
      "opening data/ftu_libs_metadata/item_metadata-hhh.sc0767.photos.json\n",
      "adding sc0767\n",
      "opening data/ftu_libs_metadata/item_metadata-highsm.04362.json\n",
      "adding 2010630352\n",
      "opening data/ftu_libs_metadata/item_metadata-highsm.18384.json\n",
      "adding 2013646466\n",
      "opening data/ftu_libs_metadata/item_metadata-highsm.18402.json\n",
      "adding 2013646484\n",
      "opening data/ftu_libs_metadata/item_metadata-highsm.20216.json\n",
      "adding 2012631625\n",
      "opening data/ftu_libs_metadata/item_metadata-highsm.20336.json\n",
      "adding 2012630017\n",
      "opening data/ftu_libs_metadata/item_metadata-highsm.20483.json\n",
      "adding 2012630164\n",
      "opening data/ftu_libs_metadata/item_metadata-highsm.20497.json\n",
      "adding 2012630178\n",
      "opening data/ftu_libs_metadata/item_metadata-highsm.24333.json\n",
      "adding 2013631511\n",
      "opening data/ftu_libs_metadata/item_metadata-highsm.29207.json\n",
      "adding 2014633407\n",
      "opening data/ftu_libs_metadata/item_metadata-highsm.31350.json\n",
      "adding 2015631425\n",
      "opening data/ftu_libs_metadata/item_metadata-highsm.32720.json\n",
      "adding 2015632735\n",
      "opening data/ftu_libs_metadata/item_metadata-highsm.34640.json\n",
      "adding 2017685123\n",
      "opening data/ftu_libs_metadata/item_metadata-highsm.36052.json\n",
      "adding 2017686535\n",
      "opening data/ftu_libs_metadata/item_metadata-highsm.41101.json\n",
      "adding 2016631919\n",
      "opening data/ftu_libs_metadata/item_metadata-highsm.42123.json\n",
      "adding 2016632941\n",
      "opening data/ftu_libs_metadata/item_metadata-highsm.43863.json\n",
      "adding 2017880767\n",
      "opening data/ftu_libs_metadata/item_metadata-highsm.48241.json\n",
      "adding 2017884872\n",
      "opening data/ftu_libs_metadata/item_metadata-highsm.49335.json\n",
      "adding 2018663053\n",
      "opening data/ftu_libs_metadata/item_metadata-highsm.50410.json\n",
      "adding 2018698612\n",
      "opening data/ftu_libs_metadata/item_metadata-highsm.51772.json\n",
      "adding 2018699890\n",
      "opening data/ftu_libs_metadata/item_metadata-highsm.53335.json\n",
      "adding 2019631085\n",
      "opening data/ftu_libs_metadata/item_metadata-highsm.60215.json\n",
      "adding 2020723718\n",
      "opening data/ftu_libs_metadata/item_metadata-highsm.64003.json\n",
      "adding 2020722343\n",
      "opening data/ftu_libs_metadata/item_metadata-mrg.00432.json\n",
      "adding 2017702546\n",
      "opening data/ftu_libs_metadata/item_metadata-mrg.00785.json\n",
      "adding 2017702899\n",
      "opening data/ftu_libs_metadata/item_metadata-mrg.00788.json\n",
      "adding 2017702902\n",
      "opening data/ftu_libs_metadata/item_metadata-npcc.28724.json\n",
      "adding 2016851550\n",
      "opening data/ftu_libs_metadata/item_metadata-ppbd.00600.json\n",
      "adding 2015647967\n",
      "opening data/ftu_libs_metadata/item_metadata-ppmsca.15375.json\n",
      "adding 2007684791\n",
      "opening data/ftu_libs_metadata/item_metadata-ppmsca.15412.json\n",
      "adding 2007684172\n",
      "opening data/ftu_libs_metadata/item_metadata-ppmsca.15426.json\n",
      "adding 2007682033\n",
      "opening data/ftu_libs_metadata/item_metadata-ppmsca.18016.json\n",
      "adding 2008678216\n",
      "opening data/ftu_libs_metadata/item_metadata-ppmsca.35590.json\n",
      "adding 96514755\n",
      "opening data/ftu_libs_metadata/item_metadata-ppmscd.00084.json\n",
      "adding 2009632000\n",
      "\n",
      "\n",
      "--- LOG ---\n",
      "wrote data/collection_items_data.csv\n",
      "with 59 items\n",
      "0 errors (info not written)\n"
     ]
    }
   ],
   "source": [
    "# set up the containers to create the csv & counters \n",
    "# file for csv to read out\n",
    "collection_info_csv = os.path.join('data','collection_items_data.csv')\n",
    "file_count = 0\n",
    "items_written = 0\n",
    "error_count = 0\n",
    "\n",
    "# add in a couple of extras for Omeka, including item type and date uploaded\n",
    "\n",
    "# set up a list for the columns in your csv; in future, this should be more automated but this works for now as you set up the crosswalk\n",
    "headers = ['item_type', 'date_uploaded', 'source_file', 'item_id', 'title', 'date', 'source_url', 'phys_format', 'dig_format', 'rights', 'image_url']\n",
    "\n",
    "# now, adapt the previous loop to open each file:\n",
    "for file in list_of_item_metadata_files:\n",
    "    file_count += 1\n",
    "    print('opening',file)\n",
    "    with open(file, 'r', encoding='utf-8') as item:\n",
    "        # load the item data\n",
    "        try:\n",
    "            item_data = json.load(item)\n",
    "        except:\n",
    "            print('error loading',file)\n",
    "            error_count += 1\n",
    "            continue\n",
    "\n",
    "        # extract/name the data you want\n",
    "        # item type\n",
    "        item_type = 'Item'\n",
    "        # date uplaoded\n",
    "        date_uploaded = date_string_for_today\n",
    "        # for checking purposes, add in the source of the info\n",
    "        source_file = str(file)\n",
    "        # make sure there's some unique and stable identifier\n",
    "        try:\n",
    "            item_id = item_data['library_of_congress_control_number']\n",
    "        except:\n",
    "            item_id = item_data['url'].split('/')[-2]\n",
    "        title = item_data['title']\n",
    "        date = item_data['date']\n",
    "        source_url = item_data['url']\n",
    "        try:\n",
    "            phys_format = item_data['format'][0]\n",
    "        except:\n",
    "            phys_format = 'Not found'\n",
    "        try:\n",
    "            dig_format = item_data['online_format'][0]\n",
    "        except:\n",
    "            dig_format = 'Not found'\n",
    "        mime_type = item_data['mime_type']\n",
    "        try:\n",
    "            rights = item_data['rights_information']\n",
    "        except:\n",
    "            rights = 'Undetermined'\n",
    "        try:\n",
    "            image_url = item_data['image_url'][3]\n",
    "        except:\n",
    "            image_url = 'Did not identify a URL.'\n",
    "\n",
    "        # dictionary for the rows\n",
    "        row_dict = dict()\n",
    "\n",
    "        # look for the item metadata, assign it to the dictionary; \n",
    "        # start with some basic elements likely (already enumerated in the headers list) :\n",
    "        # item type\n",
    "        row_dict['item_type'] = item_type\n",
    "        # date uploaded\n",
    "        row_dict['date_uploaded'] = date_uploaded\n",
    "        # source filename\n",
    "        row_dict['source_file'] = source_file\n",
    "        # identifier\n",
    "        row_dict['item_id'] = item_id\n",
    "        # title\n",
    "        row_dict['title'] = title\n",
    "        # date\n",
    "        row_dict['date'] = date\n",
    "        # link\n",
    "        row_dict['source_url'] = source_url\n",
    "        # format\n",
    "        row_dict['phys_format'] = phys_format\n",
    "        # digital format\n",
    "        row_dict['dig_format'] = dig_format.capitalize()\n",
    "        #rights\n",
    "        row_dict['rights'] = rights\n",
    "        #image\n",
    "        row_dict['image_url'] = image_url\n",
    "\n",
    "        # write to the csv\n",
    "        with open(collection_info_csv, 'a', encoding='utf-8') as fout:\n",
    "            writer = csv.DictWriter(fout, fieldnames=headers)\n",
    "            if items_written == 0:\n",
    "                writer.writeheader()\n",
    "            writer.writerow(row_dict)\n",
    "            items_written += 1\n",
    "            print('adding',item_id)\n",
    "\n",
    "print('\\n\\n--- LOG ---')\n",
    "print('wrote',collection_info_csv)\n",
    "print('with',items_written,'items')\n",
    "print(error_count,'errors (info not written)')"
   ]
  },
  {
   "cell_type": "markdown",
   "id": "61260c5d-0bfd-4dc4-8c1f-e113b75b9fce",
   "metadata": {},
   "source": [
    "Now, you should have a well-formed, complete CSV file at `data/collection_items_data.csv`. This file should ahve all the information to import the 59 items that you were able to identify, ready for import to Omeka. "
   ]
  }
 ],
 "metadata": {
  "kernelspec": {
   "display_name": "Python 3.9.12 ('base')",
   "language": "python",
   "name": "python3"
  },
  "language_info": {
   "codemirror_mode": {
    "name": "ipython",
    "version": 3
   },
   "file_extension": ".py",
   "mimetype": "text/x-python",
   "name": "python",
   "nbconvert_exporter": "python",
   "pygments_lexer": "ipython3",
   "version": "3.9.12"
  },
  "vscode": {
   "interpreter": {
    "hash": "433e84b6a98ffad52b36edc50e1a65f78fac85298e4e4f5ab24f4a24b9cfbcd2"
   }
  }
 },
 "nbformat": 4,
 "nbformat_minor": 5
}
